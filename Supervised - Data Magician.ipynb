{
 "cells": [
  {
   "cell_type": "markdown",
   "id": "66f8d373-e468-449d-9b0a-a360d24e83ce",
   "metadata": {},
   "source": [
    "# STAGE 3"
   ]
  },
  {
   "cell_type": "markdown",
   "id": "5887f7aa-ad25-4a9d-99ef-fc7173401338",
   "metadata": {},
   "source": [
    "## LOGISTIC REGRESSION"
   ]
  },
  {
   "cell_type": "markdown",
   "id": "e1acf3a2-220d-4192-972d-1acf73e930e6",
   "metadata": {},
   "source": [
    "### CROSS VALIDATION"
   ]
  },
  {
   "cell_type": "markdown",
   "id": "9fa5a246-0f6a-47ae-8a9e-4e35b435c89a",
   "metadata": {},
   "source": [
    "#### IMPORT DATA"
   ]
  },
  {
   "cell_type": "code",
   "execution_count": 1,
   "id": "97f83e91-2d37-4ff8-90d4-b15862461032",
   "metadata": {},
   "outputs": [],
   "source": [
    "import warnings\n",
    "warnings.filterwarnings('ignore')\n",
    "\n",
    "import pandas as pd\n",
    "\n",
    "dftrain = pd.read_csv('train_20D8GL3.csv')\n",
    "\n",
    "# rename PAY_0 menjadi PAY\n",
    "dftrain.rename(columns={'PAY_0': 'PAY_1'}, inplace=True)"
   ]
  },
  {
   "cell_type": "markdown",
   "id": "aa02fcb0-98f6-44dc-828e-5940d873a657",
   "metadata": {},
   "source": [
    "#### FEATURE ENGINEERING BERDASARKAN HASIL DARI TAHAP SEBELUMNYA"
   ]
  },
  {
   "cell_type": "code",
   "execution_count": 174,
   "id": "1ff669d1-345e-4c90-8c59-44e4707c548a",
   "metadata": {},
   "outputs": [],
   "source": [
    "# menghitung total_payment_ratio\n",
    "#dftrain['total_payment'] = dftrain['PAY_AMT1'] + dftrain['PAY_AMT2'] + dftrain['PAY_AMT3'] + dftrain['PAY_AMT4'] + dftrain['PAY_AMT5'] + dftrain['PAY_AMT6']\n",
    "#dftrain['total_bill'] = dftrain['BILL_AMT1'] + dftrain['BILL_AMT2'] + dftrain['BILL_AMT3'] + dftrain['BILL_AMT4'] + dftrain['BILL_AMT5'] + dftrain['BILL_AMT6']\n",
    "#dftrain['total_payment_ratio'] = dftrain['total_payment'] / dftrain['total_bill']"
   ]
  },
  {
   "cell_type": "code",
   "execution_count": 175,
   "id": "6019af81-4e89-4bc4-b447-f736ac8844d2",
   "metadata": {},
   "outputs": [],
   "source": [
    "# menghitung credit_utilization_ratio\n",
    "#dftrain['bill_amount_rata_rata'] = dftrain[['BILL_AMT1', 'BILL_AMT2', 'BILL_AMT4','BILL_AMT5','BILL_AMT6']].mean(axis=1)\n",
    "#dftrain['credit_utilization_ratio'] = dftrain['bill_amount_rata_rata'] / dftrain['LIMIT_BAL'] #* 100\n",
    "#X_train['credit_utilization_ratio'] = X_train['credit_utilization_ratio'].apply(lambda x: '{:.2f}%'.format(x))"
   ]
  },
  {
   "cell_type": "code",
   "execution_count": 176,
   "id": "ed6ea645-0c0b-4237-a3a8-7ff1127c0c0a",
   "metadata": {},
   "outputs": [],
   "source": [
    "# drop feature\n",
    "#dftrain = dftrain.drop(['ID', 'SEX', 'EDUCATION', 'MARRIAGE'], axis=1)"
   ]
  },
  {
   "cell_type": "markdown",
   "id": "a3f2cc5f-77e9-4257-ac91-2bce343d97d2",
   "metadata": {},
   "source": [
    "Untuk sementara kita tidak menambah feature terlebih dahulu, karena kita ingin mencari tahu apakah dengan feature yang sudah ada ini model sudah cukup baik atau belum"
   ]
  },
  {
   "cell_type": "markdown",
   "id": "e0ad2d0a-4e2f-45fb-a878-e4f57ff382a2",
   "metadata": {
    "tags": []
   },
   "source": [
    "#### FEATURE TRANSFORM"
   ]
  },
  {
   "cell_type": "code",
   "execution_count": 177,
   "id": "006c2682-e780-40db-a885-ef2b83b85788",
   "metadata": {
    "tags": []
   },
   "outputs": [],
   "source": [
    "# List Tipe Data Numerikal\n",
    "#nums = ['LIMIT_BAL', 'AGE', 'BILL_AMT1', 'BILL_AMT2', 'BILL_AMT3', 'BILL_AMT4', 'BILL_AMT5',\n",
    "#        'BILL_AMT6', 'PAY_AMT1', 'PAY_AMT2', 'PAY_AMT3', 'PAY_AMT4', 'PAY_AMT5', 'PAY_AMT6',\n",
    "#        'total_payment', 'total_bill', 'total_payment_ratio', 'bill_amount_rata_rata', \n",
    "#        'credit_utilization_ratio']\n",
    "nums = ['LIMIT_BAL', 'AGE', 'BILL_AMT1', 'BILL_AMT2', 'BILL_AMT3', 'BILL_AMT4', 'BILL_AMT5',\n",
    "        'BILL_AMT6', 'PAY_AMT1', 'PAY_AMT2', 'PAY_AMT3', 'PAY_AMT4', 'PAY_AMT5', 'PAY_AMT6'] "
   ]
  },
  {
   "cell_type": "code",
   "execution_count": 178,
   "id": "ebc943cb-19c3-4190-ba70-a9d6eadcd1f5",
   "metadata": {},
   "outputs": [],
   "source": [
    "# Scaler\n",
    "\n",
    "#menggunakan standardization (scaler)\n",
    "\n",
    "from sklearn.preprocessing import StandardScaler\n",
    "ss = StandardScaler()\n",
    "\n",
    "numerical_features = dftrain[nums].columns.to_list()\n",
    "for i in numerical_features:\n",
    "    dftrain[i] = ss.fit_transform(dftrain[[i]])"
   ]
  },
  {
   "cell_type": "markdown",
   "id": "bc5b51c6-fc5b-4e33-8bb2-2457efaf8862",
   "metadata": {},
   "source": [
    "#### FEATURE ENCODING"
   ]
  },
  {
   "cell_type": "code",
   "execution_count": 179,
   "id": "ab89d113-2fc4-4ccc-a068-d569fd7103a2",
   "metadata": {},
   "outputs": [],
   "source": [
    "# Kolom EDUCATION\n",
    "dftrain['EDUCATION'] = dftrain['EDUCATION'].replace({1 : 'graduate school', 2 : 'university', 3 : 'high school', 4 : 'others', 5 : 'unknown', 6 : 'unknown', 0 : 'others'})\n",
    "dftrain['EDUCATION'] = dftrain['EDUCATION'].replace({'graduate school' : 1, 'university' : 1, 'high school' : 1, 'others' : 0, 'unknown' : 0, 'unknown' : 0, 'others' : 0})"
   ]
  },
  {
   "cell_type": "code",
   "execution_count": 180,
   "id": "df2c3bbd-48c8-47c4-b292-92ff3ab6b2d5",
   "metadata": {},
   "outputs": [],
   "source": [
    "# Kolom MARRIAGE\n",
    "dftrain['MARRIAGE']= dftrain['MARRIAGE'].replace({1 : 'married', 2 : 'single', 3 : 'divorced', 0 : 'others'})\n",
    "dftrain['MARRIAGE'] = dftrain['MARRIAGE'].replace({'married' : 1, 'single' : 0, 'divorced' : 0, 'others' : 0})"
   ]
  },
  {
   "cell_type": "code",
   "execution_count": 181,
   "id": "f6f4bbf1-4ab5-4cf5-a0b2-7cf14d943813",
   "metadata": {
    "tags": []
   },
   "outputs": [
    {
     "data": {
      "text/plain": [
       "0    16355\n",
       "1     4645\n",
       "Name: default_payment_next_month, dtype: int64"
      ]
     },
     "execution_count": 181,
     "metadata": {},
     "output_type": "execute_result"
    }
   ],
   "source": [
    "dftrain['default_payment_next_month'].value_counts()"
   ]
  },
  {
   "cell_type": "markdown",
   "id": "a9e0b809-486d-45c9-8bb0-718b9123a960",
   "metadata": {},
   "source": [
    "#### DEF FUNCTION"
   ]
  },
  {
   "cell_type": "code",
   "execution_count": 184,
   "id": "9e6667b9-5113-4d46-b604-353aa9f7fe93",
   "metadata": {},
   "outputs": [],
   "source": [
    "X = dftrain.drop(columns='default_payment_next_month', axis=1)\n",
    "y = dftrain['default_payment_next_month']\n",
    "\n",
    "from sklearn.metrics import accuracy_score, precision_score, recall_score, f1_score, roc_auc_score\n",
    "from sklearn.model_selection import cross_validate\n",
    "\n",
    "def eval_classification(model):\n",
    "    score_accuracy = cross_validate(model, X, y, cv=5, scoring='accuracy', return_train_score=True)\n",
    "    print('accuracy (crossval train): '+ str(score_accuracy['train_score'].mean()))\n",
    "    print('accuracy (crossval test): '+ str(score_accuracy['test_score'].mean()))\n",
    "    \n",
    "    \n",
    "    score_precision = cross_validate(model, X, y, cv=5, scoring='precision', return_train_score=True)\n",
    "    print('precision (crossval train): '+ str(score_precision['train_score'].mean()))\n",
    "    print('precision (crossval test): '+ str(score_precision['test_score'].mean()))\n",
    "    \n",
    "    score_recall = cross_validate(model, X, y, cv=5, scoring='recall', return_train_score=True)\n",
    "    print('recall (crossval train): '+ str(score_recall['train_score'].mean()))\n",
    "    print('recall (crossval test): '+ str(score_recall['test_score'].mean()))\n",
    "    \n",
    "    score_auc = cross_validate(model, X, y, cv=5, scoring='roc_auc', return_train_score=True)\n",
    "    print('roc_auc (crossval train): '+ str(score_auc['train_score'].mean()))\n",
    "    print('roc_auc (crossval test): '+ str(score_auc['test_score'].mean()))\n",
    "    \n",
    "    score_f1 = cross_validate(model, X, y, cv=5, scoring='f1', return_train_score=True)\n",
    "    print('f1 (crossval train): '+ str(score_f1['train_score'].mean()))\n",
    "    print('f1 (crossval test): '+ str(score_f1['test_score'].mean()))\n",
    "\n",
    "def show_feature_importance(model):\n",
    "    feat_importances = pd.Series(model.feature_importances_, index=X.columns)\n",
    "    ax = feat_importances.nlargest(25).plot(kind='barh', figsize=(10, 8))\n",
    "    ax.invert_yaxis()\n",
    "\n",
    "    plt.xlabel('score')\n",
    "    plt.ylabel('feature')\n",
    "    plt.title('feature importance score')\n",
    "\n",
    "def show_best_hyperparameter(model):\n",
    "    print(model.best_estimator_.get_params())"
   ]
  },
  {
   "cell_type": "markdown",
   "id": "5142b653-517e-40da-a076-8a532556a170",
   "metadata": {},
   "source": [
    "#### RUN MODEL"
   ]
  },
  {
   "cell_type": "code",
   "execution_count": null,
   "id": "c054056d-aa37-4bcf-aff8-52d200f4b2a5",
   "metadata": {},
   "outputs": [
    {
     "name": "stdout",
     "output_type": "stream",
     "text": [
      "accuracy (crossval train): 0.8042857142857143\n",
      "accuracy (crossval test): 0.8039523809523811\n",
      "precision (crossval train): 0.6768178707903052\n",
      "precision (crossval test): 0.6793289815519638\n",
      "recall (crossval train): 0.21996770721205597\n",
      "recall (crossval test): 0.21808396124865448\n",
      "roc_auc (crossval train): 0.7176862824593855\n",
      "roc_auc (crossval test): 0.7166120774961093\n",
      "f1 (crossval train): 0.33104645016542905\n",
      "f1 (crossval test): 0.3292030367536459\n"
     ]
    }
   ],
   "source": [
    "from sklearn.linear_model import LogisticRegression\n",
    "\n",
    "lr = LogisticRegression()\n",
    "eval_classification(lr)"
   ]
  },
  {
   "cell_type": "markdown",
   "id": "6251d96d-90f2-4efd-b80e-69a8f06b4036",
   "metadata": {},
   "source": [
    "Di dapatkan hasil :<br>\n",
    "- Accuracy : 80.39%\n",
    "- Precision : 67.93%\n",
    "- Recall : 21.81%\n",
    "- ROC_AUC : 71.66%\n",
    "- F1 Score : 32.92%"
   ]
  },
  {
   "cell_type": "markdown",
   "id": "3239ff51-c4aa-49f7-94f1-c31f236edc55",
   "metadata": {},
   "source": [
    "Karena metrics score kita berfokus pada roc_auc score, dimana untuk score train dengan score test nilai nya tidak beda jauh. Hal ini mengindikasikan bahwa model tidak mengalami overfiting."
   ]
  },
  {
   "cell_type": "markdown",
   "id": "39f074de-efb5-412b-99d3-9862a0dd9066",
   "metadata": {},
   "source": [
    "### RANDOM SPLIT"
   ]
  },
  {
   "cell_type": "code",
   "execution_count": 38,
   "id": "5afbb16f-83cd-46eb-b1a1-7cec6ea407bd",
   "metadata": {},
   "outputs": [],
   "source": [
    "import warnings\n",
    "warnings.filterwarnings('ignore')\n",
    "\n",
    "import pandas as pd\n",
    "\n",
    "dftrain = pd.read_csv('train_20D8GL3.csv')\n",
    "\n",
    "# rename PAY_0 menjadi PAY\n",
    "dftrain.rename(columns={'PAY_0': 'PAY_1'}, inplace=True)"
   ]
  },
  {
   "cell_type": "markdown",
   "id": "74c804a7-c6e6-480d-85f3-f336b95b7e30",
   "metadata": {},
   "source": [
    "#### FEATURE ENGINEERING BERDASARKAN HASIL DARI TAHAP SEBELUMNYA"
   ]
  },
  {
   "cell_type": "code",
   "execution_count": 39,
   "id": "e03bcd5b-7809-4c21-9207-426783b30f03",
   "metadata": {},
   "outputs": [],
   "source": [
    "# menghitung total_payment_ratio \n",
    "#dftrain['total_payment'] = dftrain['PAY_AMT1'] + dftrain['PAY_AMT2'] + dftrain['PAY_AMT3'] + dftrain['PAY_AMT4'] + dftrain['PAY_AMT5'] + dftrain['PAY_AMT6']\n",
    "#dftrain['total_bill'] = dftrain['BILL_AMT1'] + dftrain['BILL_AMT2'] + dftrain['BILL_AMT3'] + dftrain['BILL_AMT4'] + dftrain['BILL_AMT5'] + dftrain['BILL_AMT6']\n",
    "#dftrain['total_payment_ratio'] = dftrain['total_payment'] / dftrain['total_bill']"
   ]
  },
  {
   "cell_type": "code",
   "execution_count": 40,
   "id": "66da710d-5d82-470e-8f8c-59e63f8312ab",
   "metadata": {},
   "outputs": [],
   "source": [
    "# menghitung credit_utilization_ratio\n",
    "#dftrain['bill_amount_rata_rata'] = dftrain[['BILL_AMT1', 'BILL_AMT2', 'BILL_AMT4','BILL_AMT5','BILL_AMT6']].mean(axis=1)\n",
    "#dftrain['credit_utilization_ratio'] = dftrain['bill_amount_rata_rata'] / dftrain['LIMIT_BAL'] #* 100\n",
    "#X_train['credit_utilization_ratio'] = X_train['credit_utilization_ratio'].apply(lambda x: '{:.2f}%'.format(x))"
   ]
  },
  {
   "cell_type": "code",
   "execution_count": 41,
   "id": "09a0dca3-72b0-46c6-bd0d-4f75fc455307",
   "metadata": {},
   "outputs": [],
   "source": [
    "# drop feature\n",
    "#dftrain = dftrain.drop(['ID', 'SEX', 'EDUCATION', 'MARRIAGE'], axis=1)"
   ]
  },
  {
   "cell_type": "markdown",
   "id": "d885c954-00ad-4314-8b35-1cbf5a70f050",
   "metadata": {},
   "source": [
    "Sama seperti saat menggunakan metode cross validation, untuk sementara kita tidak menambah feature terlebih dahulu, karena kita ingin mencari tahu apakah dengan feature yang sudah ada ini model sudah cukup baik atau belum"
   ]
  },
  {
   "cell_type": "markdown",
   "id": "da69cc50-ef77-493d-b84a-3c6852b46780",
   "metadata": {},
   "source": [
    "#### SPLIT DATA"
   ]
  },
  {
   "cell_type": "code",
   "execution_count": 42,
   "id": "c1f4567d-e911-4399-940b-53a728321a98",
   "metadata": {},
   "outputs": [],
   "source": [
    "ind_var = dftrain.drop('default_payment_next_month',axis = 1)\n",
    "ind_var = ind_var.columns.to_list() #kolom independent variable\n",
    "X = dftrain[ind_var]\n",
    "y = dftrain[['default_payment_next_month']]\n",
    "\n",
    "from sklearn.model_selection import train_test_split\n",
    "X_train, X_test, y_train, y_test = train_test_split(X, y, test_size = 0.3, random_state = 42)"
   ]
  },
  {
   "cell_type": "markdown",
   "id": "5b8fd013-add2-4b0e-ac7a-f2fe2373d464",
   "metadata": {},
   "source": [
    "#### HANDLE OUTLIER"
   ]
  },
  {
   "cell_type": "code",
   "execution_count": 43,
   "id": "2b44c0cd-f4c1-4db4-bda9-0cdd48b830d6",
   "metadata": {},
   "outputs": [
    {
     "name": "stdout",
     "output_type": "stream",
     "text": [
      "Jumlah baris sebelum memfilter outlier : 14700\n",
      "Jumlah baris setelah memfilter outlier : 13245\n"
     ]
    }
   ],
   "source": [
    "# tipe data numerikal\n",
    "nums = ['LIMIT_BAL','AGE','BILL_AMT1','BILL_AMT2','BILL_AMT3','BILL_AMT4',\n",
    "        'BILL_AMT5','BILL_AMT6','PAY_AMT1','PAY_AMT2','PAY_AMT3','PAY_AMT4',\n",
    "        'PAY_AMT5','PAY_AMT6']\n",
    "\n",
    "# merge data train (X_train, y_train)\n",
    "merge_train = pd.concat([X_train,y_train], axis = 1)\n",
    "print(f'Jumlah baris sebelum memfilter outlier : {len(merge_train)}')\n",
    "\n",
    "for i in nums:\n",
    "    q1 = merge_train[i].quantile(0.25)\n",
    "    q3 = merge_train[i].quantile(0.75)\n",
    "    iqr = q3 - q1\n",
    "    low_limit = q1 - (1.5 * iqr)\n",
    "    high_limit = q3 + (1.5 * iqr)\n",
    "    filtered_entries = ((merge_train[i] >= low_limit) & (merge_train[i] <= high_limit))\n",
    "    \n",
    "merge_train = merge_train[filtered_entries] #filter untuk hanya mengambil value z-score < 3\n",
    "\n",
    "print(f'Jumlah baris setelah memfilter outlier : {len(merge_train)}')"
   ]
  },
  {
   "cell_type": "markdown",
   "id": "896c8ef8-ece5-4edd-ae02-989157d439bb",
   "metadata": {},
   "source": [
    "#### FEATURE TRANSFORM"
   ]
  },
  {
   "cell_type": "code",
   "execution_count": 44,
   "id": "9a9dd005-7ab2-4000-b887-54f53941fd16",
   "metadata": {},
   "outputs": [],
   "source": [
    "# memisahkan dataset train kembali\n",
    "X_train = merge_train.drop('default_payment_next_month',axis = 1)\n",
    "y_train = merge_train[['default_payment_next_month']]\n",
    "\n",
    "#menggunakan standardization (scaler)\n",
    "\n",
    "from sklearn.preprocessing import StandardScaler\n",
    "ss = StandardScaler()\n",
    "\n",
    "numerical_features = X[nums].columns.to_list()\n",
    "for i in numerical_features:\n",
    "    scaler = ss.fit(X_train[[i]])\n",
    "    X_train[i] = scaler.transform(X_train[[i]])\n",
    "    X_test[i] = scaler.transform(X_test[[i]])"
   ]
  },
  {
   "cell_type": "markdown",
   "id": "075e6000-fa17-4832-8090-2b3886b5dc4c",
   "metadata": {},
   "source": [
    "#### FEATURE ENCODING"
   ]
  },
  {
   "cell_type": "code",
   "execution_count": 45,
   "id": "a9b4c8b8-43a2-4000-95ab-0c1d76a4b8de",
   "metadata": {},
   "outputs": [],
   "source": [
    "# Kolom EDUCATION X_train\n",
    "X_train['EDUCATION'] = X_train['EDUCATION'].replace({1 : 'graduate school', 2 : 'university', 3 : 'high school', 4 : 'others', 5 : 'unknown', 6 : 'unknown', 0 : 'others'})\n",
    "X_train['EDUCATION'] = X_train['EDUCATION'].replace({'graduate school' : 1, 'university' : 1, 'high school' : 1, 'others' : 0, 'unknown' : 0, 'unknown' : 0, 'others' : 0})"
   ]
  },
  {
   "cell_type": "code",
   "execution_count": 46,
   "id": "176dd5ac-20e5-459e-ac03-1c54f2a6cc0e",
   "metadata": {},
   "outputs": [],
   "source": [
    "# Kolom EDUCATION X_test\n",
    "X_test['EDUCATION'] = X_test['EDUCATION'].replace({1 : 'graduate school', 2 : 'university', 3 : 'high school', 4 : 'others', 5 : 'unknown', 6 : 'unknown', 0 : 'others'})\n",
    "X_test['EDUCATION'] = X_test['EDUCATION'].replace({'graduate school' : 1, 'university' : 1, 'high school' : 1, 'others' : 0, 'unknown' : 0, 'unknown' : 0, 'others' : 0})"
   ]
  },
  {
   "cell_type": "code",
   "execution_count": 47,
   "id": "41cd1c7a-f2cb-4ee9-b67c-31788105cc69",
   "metadata": {},
   "outputs": [],
   "source": [
    "# Kolom MARRIAGE X_train\n",
    "X_train['MARRIAGE'] = X_train['MARRIAGE'].replace({1 : 'married', 2 : 'single', 3 : 'divorced', 0 : 'others'})\n",
    "X_train['MARRIAGE'] = X_train['MARRIAGE'].replace({'married' : 1, 'single' : 0, 'divorced' : 0, 'others' : 0})"
   ]
  },
  {
   "cell_type": "code",
   "execution_count": 48,
   "id": "1a642ab5-3859-4ff4-9417-5f2e59dbb56f",
   "metadata": {},
   "outputs": [],
   "source": [
    "# Kolom MARRIAGE X_test\n",
    "X_test['MARRIAGE'] = X_test['MARRIAGE'].replace({1 : 'married', 2 : 'single', 3 : 'divorced', 0 : 'others'})\n",
    "X_test['MARRIAGE'] = X_test['MARRIAGE'].replace({'married' : 1, 'single' : 0, 'divorced' : 0, 'others' : 0})"
   ]
  },
  {
   "cell_type": "markdown",
   "id": "f4db73ab-4601-4c7b-9464-1493cab1b5a4",
   "metadata": {},
   "source": [
    "#### HANDLE CLASS IMBALANCE"
   ]
  },
  {
   "cell_type": "code",
   "execution_count": 49,
   "id": "40d3ad13-66af-4fa4-9cdb-e6fd2d8b61f6",
   "metadata": {},
   "outputs": [
    {
     "name": "stdout",
     "output_type": "stream",
     "text": [
      "value counts data train target default_payment_next_month\n",
      "0                             10169\n",
      "1                              3076\n",
      "dtype: int64\n"
     ]
    }
   ],
   "source": [
    "#check apakah variable target memiliki data yang imbalance?\n",
    "print('value counts data train target', y_train.value_counts())"
   ]
  },
  {
   "cell_type": "code",
   "execution_count": 50,
   "id": "638743d2-d633-4d3a-96f2-56c23372bd1a",
   "metadata": {},
   "outputs": [
    {
     "name": "stdout",
     "output_type": "stream",
     "text": [
      "(13245, 24)\n",
      "(13245,)\n"
     ]
    }
   ],
   "source": [
    "#penentuan variable (x) independen dengan variable (y) dependen\n",
    "X = X_train[[i for i in X_train.columns]]\n",
    "y = y_train['default_payment_next_month']\n",
    "print(X.shape)\n",
    "print(y.shape)"
   ]
  },
  {
   "cell_type": "code",
   "execution_count": 51,
   "id": "5d621c51-dceb-44d3-a553-ecf2854e1935",
   "metadata": {},
   "outputs": [
    {
     "name": "stdout",
     "output_type": "stream",
     "text": [
      "0    10169\n",
      "1     3076\n",
      "Name: default_payment_next_month, dtype: int64\n",
      "0    3076\n",
      "1    3076\n",
      "Name: default_payment_next_month, dtype: int64\n",
      "0    10169\n",
      "1    10169\n",
      "Name: default_payment_next_month, dtype: int64\n",
      "0    10169\n",
      "1    10169\n",
      "Name: default_payment_next_month, dtype: int64\n"
     ]
    }
   ],
   "source": [
    "#balancing over and under sampling through imblearn\n",
    "\n",
    "from imblearn import under_sampling, over_sampling\n",
    "\n",
    "X_under, y_under = under_sampling.RandomUnderSampler(random_state = 42).fit_resample(X, y)\n",
    "X_over, y_over = over_sampling.RandomOverSampler(random_state = 42).fit_resample(X, y)\n",
    "X_over_smote, y_over_smote = over_sampling.SMOTE(random_state = 42).fit_resample(X, y)\n",
    "\n",
    "print(pd.Series(y).value_counts())\n",
    "print(pd.Series(y_under).value_counts())\n",
    "print(pd.Series(y_over).value_counts())\n",
    "print(pd.Series(y_over_smote).value_counts())"
   ]
  },
  {
   "cell_type": "code",
   "execution_count": 52,
   "id": "fff28a47-2035-45b3-b14a-7c89c62721c5",
   "metadata": {},
   "outputs": [],
   "source": [
    "# untuk pemilihan sampling, kita ambil yang SMOTE (under sampling terlalu sedikit)\n",
    "X_train = X_over_smote \n",
    "y_train = y_over_smote\n",
    "\n",
    "# Test under sampling\n",
    "#X_train = X_under \n",
    "#y_train = y_under"
   ]
  },
  {
   "cell_type": "markdown",
   "id": "84b90b6a-fd5a-43c4-842c-fd46c455b4c9",
   "metadata": {},
   "source": [
    "#### DEF FUNCTION"
   ]
  },
  {
   "cell_type": "code",
   "execution_count": 53,
   "id": "869d0c3f-2ebb-4f77-ab64-0bd4c0fde9ae",
   "metadata": {},
   "outputs": [],
   "source": [
    "# def function\n",
    "from sklearn.metrics import accuracy_score, precision_score, recall_score, f1_score, roc_auc_score\n",
    "import numpy as np\n",
    "from matplotlib import pyplot as plt\n",
    "\n",
    "def eval_classification(model) :\n",
    "    y_pred = model.predict(X_test) #predict label\n",
    "    y_pred_train = model.predict(X_train) #predict label\n",
    "    y_pred_proba = model.predict_proba(X_test) #predict probability\n",
    "    y_pred_proba_train = model.predict_proba(X_train) #predict probability\n",
    "    \n",
    "    print('Accuracy (Train Set): %.2f' % accuracy_score(y_train, y_pred_train))\n",
    "    print('Accuracy (Test Set): %.2f' % accuracy_score(y_test, y_pred))\n",
    "    \n",
    "    print('Precision (Train Set): %.2f' % precision_score(y_train, y_pred_train))\n",
    "    print('Precision (Test Set): %.2f' % precision_score(y_test, y_pred))\n",
    "    \n",
    "    print('Recall (Train Set): %.2f' % recall_score(y_train, y_pred_train))\n",
    "    print('Recall (Test Set): %.2f' % recall_score(y_test, y_pred))\n",
    "    \n",
    "    print('AUC (train-proba): %.2f' % roc_auc_score(y_train, y_pred_proba_train[:,1]))\n",
    "    print('AUC (test-proba): %.2f' % roc_auc_score(y_test, y_pred_proba[:,1]))\n",
    "    \n",
    "    print('F1-Score (Train Set): %.2f' % f1_score(y_train, y_pred_train))\n",
    "    print('F1-Score (Test Set): %.2f' % f1_score(y_test, y_pred))"
   ]
  },
  {
   "cell_type": "markdown",
   "id": "8506fa69-c2f9-4471-93fe-bc7e6bdaf1bf",
   "metadata": {},
   "source": [
    "#### RUN MODEL"
   ]
  },
  {
   "cell_type": "code",
   "execution_count": 54,
   "id": "07032054-fd24-46b2-a218-5761b29a1921",
   "metadata": {},
   "outputs": [
    {
     "name": "stdout",
     "output_type": "stream",
     "text": [
      "Accuracy (Train Set): 0.69\n",
      "Accuracy (Test Set): 0.70\n",
      "Precision (Train Set): 0.70\n",
      "Precision (Test Set): 0.39\n",
      "Recall (Train Set): 0.68\n",
      "Recall (Test Set): 0.58\n",
      "AUC (train-proba): 0.76\n",
      "AUC (test-proba): 0.71\n",
      "F1-Score (Train Set): 0.69\n",
      "F1-Score (Test Set): 0.46\n"
     ]
    }
   ],
   "source": [
    "from sklearn.linear_model import LogisticRegression\n",
    "\n",
    "lr = LogisticRegression()\n",
    "lr.fit(X_train, y_train)\n",
    "eval_classification(lr)"
   ]
  },
  {
   "cell_type": "markdown",
   "id": "9311df58-7a54-4b66-a51e-03f96fe44406",
   "metadata": {},
   "source": [
    "Di dapatkan hasil :<br>\n",
    "- Accuracy : 70%\n",
    "- Precision : 39%\n",
    "- Recall : 58%\n",
    "- ROC_AUC : 71%\n",
    "- F1 Score : 46%"
   ]
  },
  {
   "cell_type": "markdown",
   "id": "e6dbcf04-c0e6-4946-8d72-29763f5bbd6b",
   "metadata": {},
   "source": [
    "Karena sample yang digunakan ini memiliki value yang sama (antara payment default dan yang berhasil bayar jumlah nya sama), maka fokus kita pada model ini bukan lagi terhadap nilai roc_auc. Melainkan pada Accuracy/Precision/Recall"
   ]
  },
  {
   "cell_type": "markdown",
   "id": "d9bcdbbb-436c-44b6-a5fe-603de58f7e92",
   "metadata": {},
   "source": [
    "Impact Dari :\n",
    "- False Positif : Kita memprediksi bahwa user akan default, padahal user mampu bayar. Akibatnya revenue kita berkurang, karena kehilangan user yang mampu bayar\n",
    "- False Negatif : Kita memprediksi bahwa user mampu bayar, padahal user gagal bayar (default). Akibatnya kita rugi karena terlanjur memberikan kredit balance kepada user"
   ]
  },
  {
   "cell_type": "markdown",
   "id": "f1b9e19a-bbfa-4628-b905-c6b44d72f49b",
   "metadata": {},
   "source": [
    "Dari case di atas, jika mempertimbangkan kerugian nya, nilai False Negatif ini harus diminimalisir. Oleh karena itu dari model, kita akan berfokus ke nilai Recall nya"
   ]
  },
  {
   "cell_type": "markdown",
   "id": "95630cda-8b1f-48e8-815c-c57639d421ce",
   "metadata": {},
   "source": [
    "Dari hasil running model :<br>\n",
    "- Recall (Train Set): 0.68\n",
    "- Recall (Test Set): 0.58<br>\n",
    "Terindikasi bahwa ada nya overfiting (Recall Train > Recal Test (> 10%))"
   ]
  },
  {
   "cell_type": "markdown",
   "id": "839d1360-7274-4749-a66f-0c43d20f4141",
   "metadata": {},
   "source": [
    "#### TUNING HYPERPARAMETER (RANDOMIZED)"
   ]
  },
  {
   "cell_type": "code",
   "execution_count": 55,
   "id": "5c7fe9d6-fe0b-47ef-9da3-412a997692ea",
   "metadata": {},
   "outputs": [
    {
     "name": "stdout",
     "output_type": "stream",
     "text": [
      "Accuracy (Train Set): 0.70\n",
      "Accuracy (Test Set): 0.71\n",
      "Precision (Train Set): 0.71\n",
      "Precision (Test Set): 0.40\n",
      "Recall (Train Set): 0.66\n",
      "Recall (Test Set): 0.58\n",
      "AUC (train-proba): 0.76\n",
      "AUC (test-proba): 0.71\n",
      "F1-Score (Train Set): 0.69\n",
      "F1-Score (Test Set): 0.47\n"
     ]
    }
   ],
   "source": [
    "from sklearn.model_selection import RandomizedSearchCV\n",
    "import numpy as np\n",
    "\n",
    "penalty = ['l1', 'l2']\n",
    "C = [float(x) for x in np.linspace(0.0001, 1, 100)]\n",
    "hyperparameters = dict(penalty=penalty, C=C)\n",
    "\n",
    "lr = LogisticRegression()\n",
    "rs = RandomizedSearchCV(lr, hyperparameters, scoring='recall', random_state=42, cv=5)\n",
    "rs.fit(X_train, y_train)\n",
    "eval_classification(rs)"
   ]
  },
  {
   "cell_type": "markdown",
   "id": "7706acc8-8527-4d80-a6ac-700409d1e185",
   "metadata": {},
   "source": [
    "Nilai Recall setelah dilakukan tuning, terlihat selisih nya ~8% (< 10%). Hal ini sudah cukup memenuhi score Recall agar model tidak terindikasi overfiting"
   ]
  },
  {
   "cell_type": "markdown",
   "id": "21105aaf-db7c-4389-a5c3-017796755037",
   "metadata": {},
   "source": [
    "#### TUNING HYPERPARAMETER (GRID)"
   ]
  },
  {
   "cell_type": "code",
   "execution_count": 56,
   "id": "74b54ae5-1061-4e6f-a40d-d130ae2bfc0d",
   "metadata": {},
   "outputs": [
    {
     "name": "stdout",
     "output_type": "stream",
     "text": [
      "Accuracy (Train Set): 0.68\n",
      "Accuracy (Test Set): 0.67\n",
      "Precision (Train Set): 0.68\n",
      "Precision (Test Set): 0.36\n",
      "Recall (Train Set): 0.68\n",
      "Recall (Test Set): 0.60\n",
      "AUC (train-proba): 0.73\n",
      "AUC (test-proba): 0.68\n",
      "F1-Score (Train Set): 0.68\n",
      "F1-Score (Test Set): 0.45\n"
     ]
    }
   ],
   "source": [
    "from sklearn.model_selection import GridSearchCV\n",
    "import numpy as np\n",
    "\n",
    "penalty = ['l1', 'l2']\n",
    "#C = [float(x) for x in np.linspace(0.0001, 1, 100)]\n",
    "C = [float(x) for x in np.linspace(0.0021,0.0035, 25)] #di dapat setelah melakukan analyze curve C\n",
    "hyperparameters = dict(penalty=penalty, C=C)\n",
    "\n",
    "lr = LogisticRegression()\n",
    "model = GridSearchCV(lr, hyperparameters, scoring='recall', cv=5)\n",
    "model.fit(X_train, y_train)\n",
    "eval_classification(model)"
   ]
  },
  {
   "cell_type": "markdown",
   "id": "49520210-56aa-47ed-97b4-6689d96746c9",
   "metadata": {},
   "source": [
    "#### ANALYZING CURVE C"
   ]
  },
  {
   "cell_type": "code",
   "execution_count": 57,
   "id": "c2df37c2-b236-481a-b1c8-39414b2faa79",
   "metadata": {},
   "outputs": [
    {
     "name": "stdout",
     "output_type": "stream",
     "text": [
      "param value: 0.0001; train: 0.6702723964991641; test: 0.5809659090909091\n",
      "param value: 0.0021791666666666665; train: 0.6804012193922706; test: 0.5944602272727273\n",
      "param value: 0.004258333333333334; train: 0.6806962336512932; test: 0.5951704545454546\n",
      "param value: 0.0063375; train: 0.6806962336512932; test: 0.5951704545454546\n",
      "param value: 0.008416666666666666; train: 0.6806962336512932; test: 0.5951704545454546\n",
      "param value: 0.010495833333333333; train: 0.6806962336512932; test: 0.5951704545454546\n",
      "param value: 0.012575; train: 0.680794571737634; test: 0.5951704545454546\n",
      "param value: 0.014654166666666666; train: 0.680794571737634; test: 0.5951704545454546\n",
      "param value: 0.016733333333333333; train: 0.680794571737634; test: 0.5951704545454546\n",
      "param value: 0.0188125; train: 0.680794571737634; test: 0.5951704545454546\n",
      "param value: 0.020891666666666666; train: 0.680794571737634; test: 0.5951704545454546\n",
      "param value: 0.022970833333333333; train: 0.680794571737634; test: 0.5951704545454546\n",
      "param value: 0.02505; train: 0.680794571737634; test: 0.5951704545454546\n",
      "param value: 0.027129166666666666; train: 0.680794571737634; test: 0.5951704545454546\n",
      "param value: 0.029208333333333333; train: 0.680794571737634; test: 0.5951704545454546\n",
      "param value: 0.0312875; train: 0.680794571737634; test: 0.5951704545454546\n",
      "param value: 0.03336666666666667; train: 0.680794571737634; test: 0.5951704545454546\n",
      "param value: 0.035445833333333336; train: 0.680794571737634; test: 0.5951704545454546\n",
      "param value: 0.037525; train: 0.680794571737634; test: 0.5951704545454546\n",
      "param value: 0.03960416666666667; train: 0.6808929098239749; test: 0.5951704545454546\n",
      "param value: 0.041683333333333336; train: 0.6808929098239749; test: 0.5951704545454546\n",
      "param value: 0.0437625; train: 0.6808929098239749; test: 0.5951704545454546\n",
      "param value: 0.04584166666666667; train: 0.663585406627987; test: 0.5759943181818182\n",
      "param value: 0.047920833333333336; train: 0.663585406627987; test: 0.5752840909090909\n",
      "param value: 0.05; train: 0.6637820828006687; test: 0.5759943181818182\n"
     ]
    },
    {
     "data": {
      "image/png": "[encoded data removed]",
      "text/plain": [
       "<Figure size 640x480 with 1 Axes>"
      ]
     },
     "metadata": {},
     "output_type": "display_data"
    }
   ],
   "source": [
    "def draw_learning_curve(param_values):\n",
    "    train_scores = []\n",
    "    test_scores = []\n",
    "\n",
    "    for c in param_values:\n",
    "        model = LogisticRegression(penalty='l2', C=c)\n",
    "        model.fit(X_train, y_train)\n",
    "\n",
    "        # eval on train\n",
    "        y_pred_train = model.predict(X_train)\n",
    "        train_recall = recall_score(y_train, y_pred_train)\n",
    "        train_scores.append(train_recall)\n",
    "\n",
    "        # eval on test\n",
    "        y_pred = model.predict(X_test)\n",
    "        test_recall = recall_score(y_test, y_pred)\n",
    "        test_scores.append(test_recall)\n",
    "\n",
    "        print('param value: ' + str(c) + '; train: ' + str(train_recall) + '; test: '+ str(test_recall))\n",
    "\n",
    "    plt.plot(param_values, train_scores, label='Train')\n",
    "    plt.plot(param_values, test_scores, label='Test')\n",
    "    plt.xlabel('C')\n",
    "    plt.ylabel('recall')\n",
    "    plt.title('Learning Curve - Hyperparameter C - Logistic Regression')\n",
    "    plt.legend()\n",
    "    plt.show()\n",
    "\n",
    "#param_values = [float(x) for x in np.linspace(0.0001, 1, 100)]\n",
    "param_values = [float(x) for x in np.linspace(0.0001, 0.05, 25)] # di dapat setelah melihat curva C\n",
    "draw_learning_curve(param_values)"
   ]
  },
  {
   "cell_type": "markdown",
   "id": "65a6970b-7e4e-4b13-a8e5-0547e11162b8",
   "metadata": {},
   "source": [
    "### FEATURE IMPORTANCE"
   ]
  },
  {
   "cell_type": "code",
   "execution_count": 62,
   "id": "986dc0f7-e0f5-423b-a284-882a501ad341",
   "metadata": {},
   "outputs": [
    {
     "data": {
      "text/plain": [
       "Index(['ID', 'LIMIT_BAL', 'SEX', 'EDUCATION', 'MARRIAGE', 'AGE', 'PAY_1',\n",
       "       'PAY_2', 'PAY_3', 'PAY_4', 'PAY_5', 'PAY_6', 'BILL_AMT1', 'BILL_AMT2',\n",
       "       'BILL_AMT3', 'BILL_AMT4', 'BILL_AMT5', 'BILL_AMT6', 'PAY_AMT1',\n",
       "       'PAY_AMT2', 'PAY_AMT3', 'PAY_AMT4', 'PAY_AMT5', 'PAY_AMT6'],\n",
       "      dtype='object')"
      ]
     },
     "execution_count": 62,
     "metadata": {},
     "output_type": "execute_result"
    }
   ],
   "source": [
    "X_train.columns"
   ]
  },
  {
   "cell_type": "code",
   "execution_count": 64,
   "id": "d01051d7-5ca4-4d6c-a9cf-6739b13fd7f2",
   "metadata": {},
   "outputs": [
    {
     "data": {
      "text/plain": [
       "[[-5.361872530157167e-07,\n",
       "  -0.08513615342760891,\n",
       "  -0.02213710104083159,\n",
       "  0.008160845078687964,\n",
       "  -0.029718636573798498,\n",
       "  -0.00048338597053836796,\n",
       "  0.1767229510794288,\n",
       "  0.1706732444300357,\n",
       "  0.15913372762040845,\n",
       "  0.1457475052347872,\n",
       "  0.13756770126624576,\n",
       "  0.1300822405196391,\n",
       "  -0.014576679645120055,\n",
       "  -0.009609675083094122,\n",
       "  -0.010112756699163896,\n",
       "  -0.007599462687984978,\n",
       "  -0.005570160171439539,\n",
       "  -0.006594264169958452,\n",
       "  -0.04062395122811579,\n",
       "  -0.033693222593320006,\n",
       "  -0.03517231421837871,\n",
       "  -0.030498313786778797,\n",
       "  -0.031177143086012694,\n",
       "  -0.05350536681803971]]"
      ]
     },
     "execution_count": 64,
     "metadata": {},
     "output_type": "execute_result"
    }
   ],
   "source": [
    "np.array(model.best_estimator_.coef_).tolist()"
   ]
  },
  {
   "cell_type": "markdown",
   "id": "975480ff-d069-4dab-87bc-807c37759731",
   "metadata": {},
   "source": [
    "Dari Data di atas, feature PAY_1 sampai PAY_6 merupakan feature yang memberikan informasi kepada model paling banyak. Hal ini dikarenakan kecenderungan seseorang melakukan default dapat dipengaruhi oleh status pembayaran user tiap bulannya. Apakah telat bayar atau tepat waktu"
   ]
  },
  {
   "attachments": {},
   "cell_type": "markdown",
   "id": "2c3dec2e-aed1-4f7b-b71f-f5d1151008d6",
   "metadata": {},
   "source": [
    "### KESIMPULAN Untuk Logistic Regression Model"
   ]
  },
  {
   "cell_type": "markdown",
   "id": "939726ac-4e85-443f-a511-130adc639eb2",
   "metadata": {},
   "source": [
    "Dari hasil random split di dapatkan score recall : 58%, kemudian setelah dilakukan tuning hyperparameter di dapatkan nilai recall naik menjadi 60%. Walaupun nilai recall ini sudah mencukupi, tetapi masih ada metrics yang belum memenuhi seperti precision dan f1 score. Jadi dapat disimpulkan sementara ini model dengan algorithma logistic regression kurang cocok jika diterapkan dengan dataset yang dimiliki"
   ]
  },
  {
   "attachments": {},
   "cell_type": "markdown",
   "id": "ea3617f6",
   "metadata": {},
   "source": [
    "## Decision Tree Model"
   ]
  },
  {
   "cell_type": "code",
   "execution_count": null,
   "id": "68ed1ec9",
   "metadata": {},
   "outputs": [
    {
     "name": "stdout",
     "output_type": "stream",
     "text": [
      "Accuracy (Test Set): 0.57\n",
      "Precision (Test Set): 0.29\n",
      "Recall (Test Set): 0.64\n",
      "F1-Score (Test Set): 0.40\n",
      "roc_auc (test-proba): 0.60\n",
      "roc_auc (train-proba): 1.00\n"
     ]
    }
   ],
   "source": [
    "# Decision Tree Modeling\n",
    "from sklearn.tree import DecisionTreeClassifier # import decision tree dari sklearn\n",
    "dt = DecisionTreeClassifier(random_state = 42) # inisiasi object dengan nama dt\n",
    "dt.fit(X_train, y_train) # fit model decision tree dari data train\n",
    "eval_classification(dt)"
   ]
  },
  {
   "attachments": {},
   "cell_type": "markdown",
   "id": "575b863d",
   "metadata": {},
   "source": [
    "Diperoleh beberapa nilai metrik yang dihasilkan dari modeling, diperoleh skor accuracy sebesar 0.57, precision 0.29, dan recall sebesar 0.64. Berdasarkan nilai yang diperoleh, ada indikasi overfit berdasarkan nilai ROC_AUC dari training yang berbeda jauh dari testing. \n",
    "\n",
    "Kemudian akan dilakukan data validation untuk mengevaluasi kinerja model"
   ]
  },
  {
   "cell_type": "code",
   "execution_count": null,
   "id": "52c8066f",
   "metadata": {},
   "outputs": [
    {
     "name": "stderr",
     "output_type": "stream",
     "text": [
      "c:\\Users\\una\\AppData\\Local\\Programs\\Python\\Python311\\Lib\\site-packages\\sklearn\\model_selection\\_validation.py:686: DataConversionWarning: A column-vector y was passed when a 1d array was expected. Please change the shape of y to (n_samples,), for example using ravel().\n",
      "  estimator.fit(X_train, y_train, **fit_params)\n",
      "c:\\Users\\una\\AppData\\Local\\Programs\\Python\\Python311\\Lib\\site-packages\\sklearn\\model_selection\\_validation.py:686: DataConversionWarning: A column-vector y was passed when a 1d array was expected. Please change the shape of y to (n_samples,), for example using ravel().\n",
      "  estimator.fit(X_train, y_train, **fit_params)\n",
      "c:\\Users\\una\\AppData\\Local\\Programs\\Python\\Python311\\Lib\\site-packages\\sklearn\\model_selection\\_validation.py:686: DataConversionWarning: A column-vector y was passed when a 1d array was expected. Please change the shape of y to (n_samples,), for example using ravel().\n",
      "  estimator.fit(X_train, y_train, **fit_params)\n",
      "c:\\Users\\una\\AppData\\Local\\Programs\\Python\\Python311\\Lib\\site-packages\\sklearn\\model_selection\\_validation.py:686: DataConversionWarning: A column-vector y was passed when a 1d array was expected. Please change the shape of y to (n_samples,), for example using ravel().\n",
      "  estimator.fit(X_train, y_train, **fit_params)\n",
      "c:\\Users\\una\\AppData\\Local\\Programs\\Python\\Python311\\Lib\\site-packages\\sklearn\\model_selection\\_validation.py:686: DataConversionWarning: A column-vector y was passed when a 1d array was expected. Please change the shape of y to (n_samples,), for example using ravel().\n",
      "  estimator.fit(X_train, y_train, **fit_params)\n"
     ]
    },
    {
     "name": "stdout",
     "output_type": "stream",
     "text": [
      "roc_auc (crossval train): 0.9999988893492378\n",
      "roc_auc (crossval test): 0.7632493725234545\n"
     ]
    }
   ],
   "source": [
    "score = cross_validate(RandomForestClassifier(), X, y, cv=5, scoring='roc_auc', return_train_score=True)\n",
    "print('roc_auc (crossval train): '+ str(score['train_score'].mean()))\n",
    "print('roc_auc (crossval test): '+ str(score['test_score'].mean()))"
   ]
  },
  {
   "attachments": {},
   "cell_type": "markdown",
   "id": "a025c456",
   "metadata": {},
   "source": [
    "Model tersebut memiliki performa yang sangat baik pada data train data dengan nilai ROC-AUC sebesar 0.99 yang mendekati 1. Namun, pada data test, performa model sedikit lebih rendah dengan nilai ROC-AUC sebesar 0.76, dan terdapat adanya indikasi overfitting.\n",
    "\n",
    "Kemudian akan dicoba untuk memaksimalkan atau meningkatkan performa model dengan membatasi beberapa hyperparameter."
   ]
  },
  {
   "cell_type": "code",
   "execution_count": null,
   "id": "2de49956",
   "metadata": {},
   "outputs": [
    {
     "name": "stderr",
     "output_type": "stream",
     "text": [
      "c:\\Users\\una\\AppData\\Local\\Programs\\Python\\Python311\\Lib\\site-packages\\sklearn\\tree\\_classes.py:269: FutureWarning: `max_features='auto'` has been deprecated in 1.1 and will be removed in 1.3. To keep the past behaviour, explicitly set `max_features='sqrt'`.\n",
      "  warnings.warn(\n",
      "c:\\Users\\una\\AppData\\Local\\Programs\\Python\\Python311\\Lib\\site-packages\\sklearn\\tree\\_classes.py:269: FutureWarning: `max_features='auto'` has been deprecated in 1.1 and will be removed in 1.3. To keep the past behaviour, explicitly set `max_features='sqrt'`.\n",
      "  warnings.warn(\n",
      "c:\\Users\\una\\AppData\\Local\\Programs\\Python\\Python311\\Lib\\site-packages\\sklearn\\tree\\_classes.py:269: FutureWarning: `max_features='auto'` has been deprecated in 1.1 and will be removed in 1.3. To keep the past behaviour, explicitly set `max_features='sqrt'`.\n",
      "  warnings.warn(\n",
      "c:\\Users\\una\\AppData\\Local\\Programs\\Python\\Python311\\Lib\\site-packages\\sklearn\\tree\\_classes.py:269: FutureWarning: `max_features='auto'` has been deprecated in 1.1 and will be removed in 1.3. To keep the past behaviour, explicitly set `max_features='sqrt'`.\n",
      "  warnings.warn(\n",
      "c:\\Users\\una\\AppData\\Local\\Programs\\Python\\Python311\\Lib\\site-packages\\sklearn\\tree\\_classes.py:269: FutureWarning: `max_features='auto'` has been deprecated in 1.1 and will be removed in 1.3. To keep the past behaviour, explicitly set `max_features='sqrt'`.\n",
      "  warnings.warn(\n",
      "c:\\Users\\una\\AppData\\Local\\Programs\\Python\\Python311\\Lib\\site-packages\\sklearn\\tree\\_classes.py:269: FutureWarning: `max_features='auto'` has been deprecated in 1.1 and will be removed in 1.3. To keep the past behaviour, explicitly set `max_features='sqrt'`.\n",
      "  warnings.warn(\n",
      "c:\\Users\\una\\AppData\\Local\\Programs\\Python\\Python311\\Lib\\site-packages\\sklearn\\tree\\_classes.py:269: FutureWarning: `max_features='auto'` has been deprecated in 1.1 and will be removed in 1.3. To keep the past behaviour, explicitly set `max_features='sqrt'`.\n",
      "  warnings.warn(\n",
      "c:\\Users\\una\\AppData\\Local\\Programs\\Python\\Python311\\Lib\\site-packages\\sklearn\\tree\\_classes.py:269: FutureWarning: `max_features='auto'` has been deprecated in 1.1 and will be removed in 1.3. To keep the past behaviour, explicitly set `max_features='sqrt'`.\n",
      "  warnings.warn(\n",
      "c:\\Users\\una\\AppData\\Local\\Programs\\Python\\Python311\\Lib\\site-packages\\sklearn\\tree\\_classes.py:269: FutureWarning: `max_features='auto'` has been deprecated in 1.1 and will be removed in 1.3. To keep the past behaviour, explicitly set `max_features='sqrt'`.\n",
      "  warnings.warn(\n",
      "c:\\Users\\una\\AppData\\Local\\Programs\\Python\\Python311\\Lib\\site-packages\\sklearn\\tree\\_classes.py:269: FutureWarning: `max_features='auto'` has been deprecated in 1.1 and will be removed in 1.3. To keep the past behaviour, explicitly set `max_features='sqrt'`.\n",
      "  warnings.warn(\n",
      "c:\\Users\\una\\AppData\\Local\\Programs\\Python\\Python311\\Lib\\site-packages\\sklearn\\tree\\_classes.py:269: FutureWarning: `max_features='auto'` has been deprecated in 1.1 and will be removed in 1.3. To keep the past behaviour, explicitly set `max_features='sqrt'`.\n",
      "  warnings.warn(\n",
      "c:\\Users\\una\\AppData\\Local\\Programs\\Python\\Python311\\Lib\\site-packages\\sklearn\\tree\\_classes.py:269: FutureWarning: `max_features='auto'` has been deprecated in 1.1 and will be removed in 1.3. To keep the past behaviour, explicitly set `max_features='sqrt'`.\n",
      "  warnings.warn(\n",
      "c:\\Users\\una\\AppData\\Local\\Programs\\Python\\Python311\\Lib\\site-packages\\sklearn\\tree\\_classes.py:269: FutureWarning: `max_features='auto'` has been deprecated in 1.1 and will be removed in 1.3. To keep the past behaviour, explicitly set `max_features='sqrt'`.\n",
      "  warnings.warn(\n",
      "c:\\Users\\una\\AppData\\Local\\Programs\\Python\\Python311\\Lib\\site-packages\\sklearn\\tree\\_classes.py:269: FutureWarning: `max_features='auto'` has been deprecated in 1.1 and will be removed in 1.3. To keep the past behaviour, explicitly set `max_features='sqrt'`.\n",
      "  warnings.warn(\n",
      "c:\\Users\\una\\AppData\\Local\\Programs\\Python\\Python311\\Lib\\site-packages\\sklearn\\tree\\_classes.py:269: FutureWarning: `max_features='auto'` has been deprecated in 1.1 and will be removed in 1.3. To keep the past behaviour, explicitly set `max_features='sqrt'`.\n",
      "  warnings.warn(\n",
      "c:\\Users\\una\\AppData\\Local\\Programs\\Python\\Python311\\Lib\\site-packages\\sklearn\\tree\\_classes.py:269: FutureWarning: `max_features='auto'` has been deprecated in 1.1 and will be removed in 1.3. To keep the past behaviour, explicitly set `max_features='sqrt'`.\n",
      "  warnings.warn(\n",
      "c:\\Users\\una\\AppData\\Local\\Programs\\Python\\Python311\\Lib\\site-packages\\sklearn\\tree\\_classes.py:269: FutureWarning: `max_features='auto'` has been deprecated in 1.1 and will be removed in 1.3. To keep the past behaviour, explicitly set `max_features='sqrt'`.\n",
      "  warnings.warn(\n",
      "c:\\Users\\una\\AppData\\Local\\Programs\\Python\\Python311\\Lib\\site-packages\\sklearn\\tree\\_classes.py:269: FutureWarning: `max_features='auto'` has been deprecated in 1.1 and will be removed in 1.3. To keep the past behaviour, explicitly set `max_features='sqrt'`.\n",
      "  warnings.warn(\n",
      "c:\\Users\\una\\AppData\\Local\\Programs\\Python\\Python311\\Lib\\site-packages\\sklearn\\tree\\_classes.py:269: FutureWarning: `max_features='auto'` has been deprecated in 1.1 and will be removed in 1.3. To keep the past behaviour, explicitly set `max_features='sqrt'`.\n",
      "  warnings.warn(\n",
      "c:\\Users\\una\\AppData\\Local\\Programs\\Python\\Python311\\Lib\\site-packages\\sklearn\\tree\\_classes.py:269: FutureWarning: `max_features='auto'` has been deprecated in 1.1 and will be removed in 1.3. To keep the past behaviour, explicitly set `max_features='sqrt'`.\n",
      "  warnings.warn(\n",
      "c:\\Users\\una\\AppData\\Local\\Programs\\Python\\Python311\\Lib\\site-packages\\sklearn\\tree\\_classes.py:269: FutureWarning: `max_features='auto'` has been deprecated in 1.1 and will be removed in 1.3. To keep the past behaviour, explicitly set `max_features='sqrt'`.\n",
      "  warnings.warn(\n",
      "c:\\Users\\una\\AppData\\Local\\Programs\\Python\\Python311\\Lib\\site-packages\\sklearn\\tree\\_classes.py:269: FutureWarning: `max_features='auto'` has been deprecated in 1.1 and will be removed in 1.3. To keep the past behaviour, explicitly set `max_features='sqrt'`.\n",
      "  warnings.warn(\n",
      "c:\\Users\\una\\AppData\\Local\\Programs\\Python\\Python311\\Lib\\site-packages\\sklearn\\tree\\_classes.py:269: FutureWarning: `max_features='auto'` has been deprecated in 1.1 and will be removed in 1.3. To keep the past behaviour, explicitly set `max_features='sqrt'`.\n",
      "  warnings.warn(\n",
      "c:\\Users\\una\\AppData\\Local\\Programs\\Python\\Python311\\Lib\\site-packages\\sklearn\\tree\\_classes.py:269: FutureWarning: `max_features='auto'` has been deprecated in 1.1 and will be removed in 1.3. To keep the past behaviour, explicitly set `max_features='sqrt'`.\n",
      "  warnings.warn(\n",
      "c:\\Users\\una\\AppData\\Local\\Programs\\Python\\Python311\\Lib\\site-packages\\sklearn\\tree\\_classes.py:269: FutureWarning: `max_features='auto'` has been deprecated in 1.1 and will be removed in 1.3. To keep the past behaviour, explicitly set `max_features='sqrt'`.\n",
      "  warnings.warn(\n"
     ]
    },
    {
     "name": "stdout",
     "output_type": "stream",
     "text": [
      "Accuracy (Test Set): 0.68\n",
      "Precision (Test Set): 0.38\n",
      "Recall (Test Set): 0.63\n",
      "F1-Score (Test Set): 0.47\n",
      "roc_auc (test-proba): 0.72\n",
      "roc_auc (train-proba): 0.80\n"
     ]
    }
   ],
   "source": [
    "from sklearn.model_selection import RandomizedSearchCV, GridSearchCV\n",
    "from scipy.stats import uniform\n",
    "import numpy as np\n",
    "\n",
    "# List of hyperparameter\n",
    "max_depth = [int(x) for x in np.linspace(1, 110, num = 30)] # Maximum number of levels in tree\n",
    "min_samples_split = [2, 5, 10, 100] # Minimum number of samples required to split a node\n",
    "min_samples_leaf = [1, 2, 4, 10, 20, 50] # Minimum number of samples required at each leaf node\n",
    "max_features = ['auto', 'sqrt'] # Number of features to consider at every split\n",
    "criterion = ['gini','entropy']\n",
    "splitter = ['best','random']\n",
    "\n",
    "hyperparameters = dict(max_depth=max_depth, \n",
    "                       min_samples_split=min_samples_split, \n",
    "                       min_samples_leaf=min_samples_leaf,\n",
    "                       max_features=max_features,\n",
    "                       criterion=criterion,\n",
    "                       splitter=splitter\n",
    "                      )\n",
    "\n",
    "# Inisialisasi Model\n",
    "dt = DecisionTreeClassifier(random_state=42)\n",
    "model = RandomizedSearchCV(dt, hyperparameters, cv=5, scoring='precision')\n",
    "model.fit(X_train, y_train)\n",
    "\n",
    "# Predict & Evaluation\n",
    "y_pred = model.predict(X_test)#Check performa dari model\n",
    "eval_classification(model)"
   ]
  },
  {
   "attachments": {},
   "cell_type": "markdown",
   "id": "4d138c6d",
   "metadata": {},
   "source": [
    "Setelah melakukan tuning hyperparameter, diperoleh skor accuracy yang meningkat, dan skor recall yang tetap. Dan hasil roc_auc training dan testing yang lebih baik, karena memiliki selisih yang tidak beda jauh.\n",
    "\n",
    "Selanjutnya akan digunakan learning curve untuk melihat berapa kedalaman ideal untuk memodelkan data dengan decision tree."
   ]
  },
  {
   "cell_type": "code",
   "execution_count": null,
   "id": "0047e63b",
   "metadata": {},
   "outputs": [
    {
     "name": "stdout",
     "output_type": "stream",
     "text": [
      "param value: 1; train: 0.6825154882485986; test: 0.68705342209916\n",
      "param value: 2; train: 0.7161115944742719; test: 0.7090793236174087\n",
      "param value: 3; train: 0.7523871548700887; test: 0.7354790317447781\n",
      "param value: 4; train: 0.7653942162486914; test: 0.7372103196080799\n",
      "param value: 5; train: 0.777170252857498; test: 0.7466857270450827\n",
      "param value: 6; train: 0.7920833266406251; test: 0.729260332848621\n",
      "param value: 7; train: 0.812876648578448; test: 0.7197903697130753\n",
      "param value: 8; train: 0.8327136425387448; test: 0.714669241990634\n",
      "param value: 9; train: 0.8544917668857224; test: 0.705523904403293\n",
      "param value: 10; train: 0.8765375576592734; test: 0.6837184607987066\n",
      "param value: 11; train: 0.8977737007673862; test: 0.6625044861044005\n",
      "param value: 12; train: 0.9180224498047118; test: 0.6403097386503009\n",
      "param value: 13; train: 0.9371052702299958; test: 0.5996901684336208\n",
      "param value: 14; train: 0.9533445059737365; test: 0.581952634286962\n",
      "param value: 15; train: 0.9662778258755578; test: 0.56668303828607\n",
      "param value: 16; train: 0.9768442479341726; test: 0.5609982438861221\n",
      "param value: 17; train: 0.9844076352633899; test: 0.5523359247240393\n",
      "param value: 18; train: 0.9894795509242218; test: 0.5623724581645357\n",
      "param value: 19; train: 0.9925178970433599; test: 0.5602517212703486\n",
      "param value: 20; train: 0.9949541460111799; test: 0.5629457794032929\n",
      "param value: 21; train: 0.996368941832582; test: 0.5692196472208801\n",
      "param value: 22; train: 0.9974664380060371; test: 0.5533092932338513\n",
      "param value: 23; train: 0.9983421537023419; test: 0.5587760978034639\n",
      "param value: 24; train: 0.9990370961646009; test: 0.5626413340658217\n",
      "param value: 25; train: 0.9992898992183056; test: 0.5703491582964766\n",
      "param value: 26; train: 0.9996631468452596; test: 0.575608135731807\n",
      "param value: 27; train: 0.9997869808864278; test: 0.5786290697242252\n",
      "param value: 28; train: 0.9998694063637535; test: 0.5747371926800713\n",
      "param value: 29; train: 0.9999270514943148; test: 0.583545636893258\n",
      "param value: 30; train: 0.9999537562465451; test: 0.5780528448580242\n",
      "param value: 31; train: 0.9999701523745215; test: 0.5925034727384225\n",
      "param value: 32; train: 0.9999814183663188; test: 0.5997368442447781\n",
      "param value: 33; train: 0.9999903296207748; test: 0.5885958435153869\n",
      "param value: 34; train: 0.9999947393137015; test: 0.5951923043419683\n",
      "param value: 35; train: 0.9999982641669292; test: 0.5866024306846057\n",
      "param value: 36; train: 0.9999988975767683; test: 0.5976370860588717\n",
      "param value: 37; train: 0.9999993956012985; test: 0.6006092391102356\n",
      "param value: 38; train: 0.9999994052716776; test: 0.5901654719207612\n",
      "param value: 39; train: 0.9999994149420568; test: 0.6021371278711067\n",
      "param value: 40; train: 0.9999995164810387; test: 0.6018029203523377\n",
      "param value: 41; train: 0.9999995164810387; test: 0.5946097640860775\n",
      "param value: 42; train: 0.9999995164810387; test: 0.6015656939901881\n",
      "param value: 43; train: 0.9999995164810387; test: 0.5925751923362819\n",
      "param value: 44; train: 0.9999995164810387; test: 0.5921021914257043\n",
      "param value: 45; train: 0.9999995164810387; test: 0.5937584205195867\n",
      "param value: 46; train: 0.9999995164810387; test: 0.5898954345684978\n",
      "param value: 47; train: 0.9999995164810387; test: 0.5849880138259125\n",
      "param value: 48; train: 0.9999995164810387; test: 0.597223028785401\n",
      "param value: 49; train: 0.9999995164810387; test: 0.5951013482122947\n",
      "param value: 50; train: 0.9999995164810387; test: 0.5999579554746153\n",
      "param value: 51; train: 0.9999995164810387; test: 0.5958525166319779\n",
      "param value: 52; train: 0.9999995164810387; test: 0.5978481797740282\n",
      "param value: 53; train: 0.9999995164810387; test: 0.5915449853192596\n",
      "param value: 54; train: 0.9999995164810387; test: 0.6041551489444734\n",
      "param value: 55; train: 0.9999995164810387; test: 0.5969126310116702\n",
      "param value: 56; train: 0.9999995164810387; test: 0.5945380444882182\n",
      "param value: 57; train: 0.9999995164810387; test: 0.5922775705233033\n",
      "param value: 58; train: 0.9999995164810387; test: 0.6015462396863154\n",
      "param value: 59; train: 0.9999995164810387; test: 0.6009509960603582\n",
      "param value: 60; train: 0.9999995164810387; test: 0.5897723207648852\n",
      "param value: 61; train: 0.9999995164810387; test: 0.5964001407678585\n",
      "param value: 62; train: 0.9999995164810387; test: 0.5976698970489853\n",
      "param value: 63; train: 0.9999995164810387; test: 0.5893904937560395\n",
      "param value: 64; train: 0.9999995164810387; test: 0.5814055182858843\n",
      "param value: 65; train: 0.9999995164810387; test: 0.5893187741581803\n",
      "param value: 66; train: 0.9999995164810387; test: 0.5938016845684977\n",
      "param value: 67; train: 0.9999995164810387; test: 0.5992030123392551\n",
      "param value: 68; train: 0.9999995164810387; test: 0.6027556005166134\n",
      "param value: 69; train: 0.9999995164810387; test: 0.5961382335724374\n",
      "param value: 70; train: 0.9999995164810387; test: 0.5948812532520628\n",
      "param value: 71; train: 0.9999995164810387; test: 0.5911927753103398\n",
      "param value: 72; train: 0.9999995164810387; test: 0.5957697632498328\n",
      "param value: 73; train: 0.9999995164810387; test: 0.5851125794432469\n",
      "param value: 74; train: 0.9999995164810387; test: 0.6015999567940237\n",
      "param value: 75; train: 0.9999995164810387; test: 0.5900147736564334\n",
      "param value: 76; train: 0.9999995164810387; test: 0.5903632089496766\n",
      "param value: 77; train: 0.9999995164810387; test: 0.5910682096930053\n",
      "param value: 78; train: 0.9999995164810387; test: 0.5893843961384078\n",
      "param value: 79; train: 0.9999995164810387; test: 0.5934085334126218\n",
      "param value: 80; train: 0.9999995164810387; test: 0.5851924291979484\n",
      "param value: 81; train: 0.9999995164810387; test: 0.593857724578161\n",
      "param value: 82; train: 0.9999995164810387; test: 0.5843486350628112\n",
      "param value: 83; train: 0.9999995164810387; test: 0.5889532074630194\n",
      "param value: 84; train: 0.9999995164810387; test: 0.5984666524195348\n",
      "param value: 85; train: 0.9999995164810387; test: 0.5851491651490374\n",
      "param value: 86; train: 0.9999995164810387; test: 0.5868068460566417\n",
      "param value: 87; train: 0.9999995164810387; test: 0.5912949829963577\n",
      "param value: 88; train: 0.9999995164810387; test: 0.5930481932468594\n",
      "param value: 89; train: 0.9999995164810387; test: 0.5957317257303204\n",
      "param value: 90; train: 0.9999995164810387; test: 0.590869020850368\n",
      "param value: 91; train: 0.9999995164810387; test: 0.6011687681186353\n",
      "param value: 92; train: 0.9999995164810387; test: 0.5930929091094923\n",
      "param value: 93; train: 0.9999995164810387; test: 0.5990224067122576\n",
      "param value: 94; train: 0.9999995164810387; test: 0.5965351594439902\n",
      "param value: 95; train: 0.9999995164810387; test: 0.5971774418345351\n",
      "param value: 96; train: 0.9999995164810387; test: 0.5916538713483982\n",
      "param value: 97; train: 0.9999995164810387; test: 0.5905086806846057\n",
      "param value: 98; train: 0.9999995164810387; test: 0.6001504659741321\n",
      "param value: 99; train: 0.9999995164810387; test: 0.5858384863041701\n",
      "param value: 100; train: 0.9999995164810387; test: 0.597340916059615\n"
     ]
    },
    {
     "data": {
      "image/png": "[encoded data removed]",
      "text/plain": [
       "<Figure size 640x480 with 1 Axes>"
      ]
     },
     "metadata": {},
     "output_type": "display_data"
    }
   ],
   "source": [
    "import numpy as np\n",
    "from matplotlib import pyplot as plt\n",
    "from sklearn.tree import DecisionTreeClassifier\n",
    "\n",
    "def draw_learning_curve(param_values):\n",
    "    train_scores = []\n",
    "    test_scores = []\n",
    "\n",
    "    for i in param_values:\n",
    "        model = DecisionTreeClassifier(max_depth=i)\n",
    "        model.fit(X_train, y_train)\n",
    "\n",
    "        # eval on train\n",
    "        y_pred_train_proba = model.predict_proba(X_train)\n",
    "        train_auc = roc_auc_score(y_train, y_pred_train_proba[:,1])\n",
    "        train_scores.append(train_auc)\n",
    "\n",
    "        # eval on test\n",
    "        y_pred_proba = model.predict_proba(X_test)\n",
    "        test_auc = roc_auc_score(y_test, y_pred_proba[:,1])\n",
    "        test_scores.append(test_auc)\n",
    "\n",
    "        print('param value: ' + str(i) + '; train: ' + str(train_auc) + '; test: '+ str(test_auc))\n",
    "\n",
    "    plt.plot(param_values, train_scores, label='Train')\n",
    "    plt.plot(param_values, test_scores, label='Test')\n",
    "    plt.xlabel('i')\n",
    "    plt.ylabel('AUC')\n",
    "    plt.title('Learning Curve - Hyperparameter max_depth')\n",
    "    plt.legend()\n",
    "    plt.show()\n",
    "\n",
    "# learning curve\n",
    "import numpy as np\n",
    "param_values = [int(x) for x in np.linspace(1,100,100)]\n",
    "draw_learning_curve(param_values)"
   ]
  },
  {
   "attachments": {},
   "cell_type": "markdown",
   "id": "921e1649",
   "metadata": {},
   "source": [
    "Dari max_depth, nilai kedalaman ideal berada pada sekitaran range 6 hingga 11."
   ]
  },
  {
   "cell_type": "code",
   "execution_count": null,
   "id": "02cbceea",
   "metadata": {},
   "outputs": [
    {
     "name": "stdout",
     "output_type": "stream",
     "text": [
      "param value: 1; train: 0.9999995164810387; test: 0.5916866823385118\n",
      "param value: 2; train: 0.9973650972669468; test: 0.5931444484966178\n",
      "param value: 3; train: 0.9913387683636754; test: 0.6006518498429718\n",
      "param value: 4; train: 0.9841941906531317; test: 0.6183090986908124\n",
      "param value: 5; train: 0.9776899032566558; test: 0.6342990846604847\n",
      "param value: 6; train: 0.9705821406798224; test: 0.624813659708801\n",
      "param value: 7; train: 0.9649569729531389; test: 0.6390402001412325\n",
      "param value: 8; train: 0.9577304146027136; test: 0.6328952533821453\n",
      "param value: 9; train: 0.9525842787813283; test: 0.6351490490039398\n",
      "param value: 10; train: 0.9464450336950342; test: 0.6312916525356798\n",
      "param value: 11; train: 0.9403966611623189; test: 0.6422542253586561\n",
      "param value: 12; train: 0.9352441670665932; test: 0.6486337852151937\n",
      "param value: 13; train: 0.9310885488484846; test: 0.6471894483340148\n",
      "param value: 14; train: 0.9263975736012804; test: 0.6547302413959711\n",
      "param value: 15; train: 0.9223873495348225; test: 0.6563976494555117\n",
      "param value: 16; train: 0.9186938110472304; test: 0.6619006767774845\n",
      "param value: 17; train: 0.9152497490028895; test: 0.6667582277187244\n",
      "param value: 18; train: 0.9122023369032279; test: 0.6685467896333532\n",
      "param value: 19; train: 0.9091896463001743; test: 0.6670241274018807\n",
      "param value: 20; train: 0.9069353793638034; test: 0.6545523942150451\n",
      "param value: 21; train: 0.9041201772452863; test: 0.646327942071471\n",
      "param value: 22; train: 0.9019987909898485; test: 0.6462806129441389\n",
      "param value: 23; train: 0.8985723435412665; test: 0.6501653035103694\n",
      "param value: 24; train: 0.896130819381579; test: 0.6533488406396343\n",
      "param value: 25; train: 0.8934345967738591; test: 0.6601937793847097\n",
      "param value: 26; train: 0.8918556075835926; test: 0.6608436837972943\n",
      "param value: 27; train: 0.8896538121248975; test: 0.6775830234194975\n",
      "param value: 28; train: 0.8875939778332279; test: 0.685543681009812\n",
      "param value: 29; train: 0.8860699840896151; test: 0.687978808165465\n",
      "param value: 30; train: 0.8834549781618177; test: 0.6906351917323273\n",
      "param value: 31; train: 0.8821041905805073; test: 0.6893361814047053\n",
      "param value: 32; train: 0.8808935509701173; test: 0.692770374173047\n",
      "param value: 33; train: 0.8789007033953407; test: 0.6969225614175276\n",
      "param value: 34; train: 0.8766133540916404; test: 0.6939139678417453\n",
      "param value: 35; train: 0.8751947433056341; test: 0.6871420553268788\n",
      "param value: 36; train: 0.8734206445441205; test: 0.6851055236285587\n",
      "param value: 37; train: 0.8716116502191728; test: 0.684489301294321\n",
      "param value: 38; train: 0.8700883817540019; test: 0.6848251783988701\n",
      "param value: 39; train: 0.8689926020728593; test: 0.6857651551930797\n",
      "param value: 40; train: 0.8677447556784008; test: 0.696395117492381\n",
      "param value: 41; train: 0.8667702860694483; test: 0.697036093250576\n",
      "param value: 42; train: 0.8654033392844525; test: 0.6961309599856909\n",
      "param value: 43; train: 0.8643571589783557; test: 0.6950865251941947\n",
      "param value: 44; train: 0.8631800562431191; test: 0.7022460719727942\n",
      "param value: 45; train: 0.8624975595589227; test: 0.7021847328430462\n",
      "param value: 46; train: 0.8615909373306142; test: 0.7017917268685423\n",
      "param value: 47; train: 0.861126304619982; test: 0.7022320619703784\n",
      "param value: 48; train: 0.8606236238022884; test: 0.7047696145841076\n",
      "param value: 49; train: 0.8598187533041872; test: 0.7066603115940682\n",
      "param value: 50; train: 0.859102859965337; test: 0.7061415785512526\n",
      "param value: 51; train: 0.8579621468671245; test: 0.7024832983349439\n",
      "param value: 52; train: 0.8574320698650859; test: 0.6926964042639188\n",
      "param value: 53; train: 0.8564972004590604; test: 0.6903181882061622\n",
      "param value: 54; train: 0.8562580616512011; test: 0.6909087860282093\n",
      "param value: 55; train: 0.8559524293157893; test: 0.6969484037017766\n",
      "param value: 56; train: 0.8551423851648028; test: 0.6972879103406303\n",
      "param value: 57; train: 0.8541838426704342; test: 0.6968581008882777\n",
      "param value: 58; train: 0.8537355674062614; test: 0.6966287143202259\n",
      "param value: 59; train: 0.8509592547177984; test: 0.7048408986378503\n",
      "param value: 60; train: 0.8504152765456238; test: 0.7054989332072772\n",
      "param value: 61; train: 0.8494310350184641; test: 0.7042269992055676\n",
      "param value: 62; train: 0.8490345833165593; test: 0.7060084472329592\n",
      "param value: 63; train: 0.8482195540850819; test: 0.7048447459442131\n",
      "param value: 64; train: 0.8474219847232958; test: 0.707481094481714\n",
      "param value: 65; train: 0.8472781861842172; test: 0.7059068928631161\n",
      "param value: 66; train: 0.8458128529609845; test: 0.7059633684168958\n",
      "param value: 67; train: 0.8451328995865246; test: 0.7080326385146436\n",
      "param value: 68; train: 0.8446184982692101; test: 0.7083927609083476\n",
      "param value: 69; train: 0.8427363281846655; test: 0.7069421812281648\n",
      "param value: 70; train: 0.8421116990497527; test: 0.7076609016111648\n",
      "param value: 71; train: 0.8417902217979805; test: 0.707558911697205\n",
      "param value: 72; train: 0.841338276624892; test: 0.7079066936742734\n",
      "param value: 73; train: 0.8406893168158486; test: 0.7111016275412547\n",
      "param value: 74; train: 0.8404139672729803; test: 0.7113835697660373\n",
      "param value: 75; train: 0.8400719404653549; test: 0.7118530137329964\n",
      "param value: 76; train: 0.8399268557658395; test: 0.7109303861127629\n",
      "param value: 77; train: 0.8391575722632869; test: 0.7122646029231399\n",
      "param value: 78; train: 0.8377554252979114; test: 0.7157205003066229\n",
      "param value: 79; train: 0.8371634046817458; test: 0.7150414144382293\n",
      "param value: 80; train: 0.8372948444761745; test: 0.7086270836430536\n",
      "param value: 81; train: 0.836986199817634; test: 0.7084405255797964\n",
      "param value: 82; train: 0.8368139606932543; test: 0.7096358038169925\n",
      "param value: 83; train: 0.836264997440589; test: 0.7108398655272057\n",
      "param value: 84; train: 0.8358338339124552; test: 0.7109250869926782\n",
      "param value: 85; train: 0.8350700045037858; test: 0.7120714391074482\n",
      "param value: 86; train: 0.8345878152196702; test: 0.7114854144986248\n",
      "param value: 87; train: 0.833321628951011; test: 0.7259679096902177\n",
      "param value: 88; train: 0.8318956831823625; test: 0.7286406261614508\n",
      "param value: 89; train: 0.8318305918597978; test: 0.7290389312560394\n",
      "param value: 90; train: 0.8306258511807354; test: 0.7291088360867464\n",
      "param value: 91; train: 0.8305364146784713; test: 0.7292307158486954\n",
      "param value: 92; train: 0.8302207638301824; test: 0.728809835050732\n",
      "param value: 93; train: 0.8294721701039821; test: 0.7281772798121238\n",
      "param value: 94; train: 0.8294455572203543; test: 0.7288415571805544\n",
      "param value: 95; train: 0.8286738996397021; test: 0.7297467630361257\n",
      "param value: 96; train: 0.8283967755822461; test: 0.7299989430796104\n",
      "param value: 97; train: 0.8282073086772768; test: 0.7299508154547314\n",
      "param value: 98; train: 0.8277769332850498; test: 0.7304103870883818\n",
      "param value: 99; train: 0.8275201170239667; test: 0.7312924365150896\n",
      "param value: 100; train: 0.826764202820693; test: 0.7322049014392701\n"
     ]
    },
    {
     "data": {
      "image/png": "[encoded data removed]",
      "text/plain": [
       "<Figure size 640x480 with 1 Axes>"
      ]
     },
     "metadata": {},
     "output_type": "display_data"
    }
   ],
   "source": [
    "import numpy as np\n",
    "from matplotlib import pyplot as plt\n",
    "from sklearn.tree import DecisionTreeClassifier\n",
    "\n",
    "def draw_learning_curve(param_values):\n",
    "    train_scores = []\n",
    "    test_scores = []\n",
    "\n",
    "    for i in param_values:\n",
    "        model = DecisionTreeClassifier(min_samples_leaf=i)\n",
    "        model.fit(X_train, y_train)\n",
    "\n",
    "        # eval on train\n",
    "        y_pred_train_proba = model.predict_proba(X_train)\n",
    "        train_auc = roc_auc_score(y_train, y_pred_train_proba[:,1])\n",
    "        train_scores.append(train_auc)\n",
    "\n",
    "        # eval on test\n",
    "        y_pred_proba = model.predict_proba(X_test)\n",
    "        test_auc = roc_auc_score(y_test, y_pred_proba[:,1])\n",
    "        test_scores.append(test_auc)\n",
    "\n",
    "        print('param value: ' + str(i) + '; train: ' + str(train_auc) + '; test: '+ str(test_auc))\n",
    "\n",
    "    plt.plot(param_values, train_scores, label='Train')\n",
    "    plt.plot(param_values, test_scores, label='Test')\n",
    "    plt.xlabel('i')\n",
    "    plt.ylabel('AUC')\n",
    "    plt.title('Learning Curve - Hyperparameter min_samples_leaf')\n",
    "    plt.legend()\n",
    "    plt.show()\n",
    "\n",
    "# learning curve\n",
    "import numpy as np\n",
    "param_values = [int(x) for x in np.linspace(1,100,100)]\n",
    "draw_learning_curve(param_values)"
   ]
  },
  {
   "attachments": {},
   "cell_type": "markdown",
   "id": "255e531a",
   "metadata": {},
   "source": [
    "Dari min_samples_leaf, nilai kedalaman ideal berada pada sekitaran range 97 hingga 100."
   ]
  },
  {
   "cell_type": "code",
   "execution_count": null,
   "id": "0bb5a5a4",
   "metadata": {},
   "outputs": [
    {
     "name": "stdout",
     "output_type": "stream",
     "text": [
      "Accuracy (Test Set): 0.64\n",
      "Precision (Test Set): 0.34\n",
      "Recall (Test Set): 0.64\n",
      "F1-Score (Test Set): 0.45\n",
      "roc_auc (test-proba): 0.73\n",
      "roc_auc (train-proba): 0.82\n"
     ]
    }
   ],
   "source": [
    "from sklearn.model_selection import RandomizedSearchCV, GridSearchCV\n",
    "from scipy.stats import uniform\n",
    "import numpy as np\n",
    "\n",
    "# List of hyperparameter\n",
    "max_depth = [6,7,8,9,10,11] # Maximum number of levels in tree\n",
    "min_samples_leaf = [97,98,99,100] # Minimum number of samples required at each leaf node\n",
    "\n",
    "hyperparameters = dict(max_depth=max_depth, \n",
    "                       min_samples_leaf=min_samples_leaf,\n",
    "                       )\n",
    "\n",
    "# Inisialisasi Model\n",
    "dt = DecisionTreeClassifier(random_state=42)\n",
    "model = GridSearchCV(dt, hyperparameters, cv=5, scoring='recall')\n",
    "model.fit(X_train, y_train)\n",
    "\n",
    "# Predict & Evaluation\n",
    "y_pred = model.predict(X_test)#Check performa dari model\n",
    "eval_classification(model)"
   ]
  },
  {
   "attachments": {},
   "cell_type": "markdown",
   "id": "e2f7e06a",
   "metadata": {},
   "source": [
    "Setelah menyesuaikan max_depth dan min_samples_leaf dengan hasil dari learning curve, diperoleh skor accuracy yang meningkat dibanding tanpa tuning hyperparameter, dan skor recall yang tetap. Dan hasil roc_auc training dan testing yang lebih baik, karena memiliki selisih lebih kecil dibanding dengan model tanpa tuning hyperparameter.\n",
    "\n",
    "Selanjutnya akan dilihat feature apa saja yang dianggap penting."
   ]
  },
  {
   "cell_type": "code",
   "execution_count": null,
   "id": "c8c3912c",
   "metadata": {},
   "outputs": [
    {
     "data": {
      "image/png": "[encoded data removed]",
      "text/plain": [
       "<Figure size 1000x800 with 1 Axes>"
      ]
     },
     "metadata": {},
     "output_type": "display_data"
    }
   ],
   "source": [
    "def show_feature_importance(model):\n",
    "    feat_importances = pd.Series(model.feature_importances_, index=X.columns)\n",
    "    ax = feat_importances.nlargest(25).plot(kind='barh', figsize=(10, 8))\n",
    "    ax.invert_yaxis()\n",
    "\n",
    "    plt.xlabel('score')\n",
    "    plt.ylabel('feature')\n",
    "    plt.title('feature importance score')\n",
    "    \n",
    "show_feature_importance(model.best_estimator_)"
   ]
  },
  {
   "attachments": {},
   "cell_type": "markdown",
   "id": "0e1ef7da",
   "metadata": {},
   "source": [
    "Feature Pay_1, Pay_2, dan limit_bal dianggap merupakan feature importance paling penting dan memberikan informasi paling banyak di model."
   ]
  },
  {
   "attachments": {},
   "cell_type": "markdown",
   "id": "d9bc010a",
   "metadata": {},
   "source": [
    "Selanjutnya, akan dicoba untuk drop 5 feature yang dianggap kurang memberikan informasi pada modeling, dan akan dilihat apakah akan memberikan hasil performa yang lebih bagus."
   ]
  },
  {
   "cell_type": "code",
   "execution_count": null,
   "id": "4feef2d2",
   "metadata": {},
   "outputs": [],
   "source": [
    "X_train = X_train.drop(['PAY_4', 'EDUCATION', 'MARRIAGE', 'BILL_AMT4', 'PAY_6'], axis = 1)\n",
    "X_test = X_test.drop(['PAY_4', 'EDUCATION', 'MARRIAGE', 'BILL_AMT4', 'PAY_6'], axis = 1)"
   ]
  },
  {
   "cell_type": "code",
   "execution_count": null,
   "id": "f36c599b",
   "metadata": {},
   "outputs": [
    {
     "name": "stdout",
     "output_type": "stream",
     "text": [
      "Accuracy (Test Set): 0.64\n",
      "Precision (Test Set): 0.34\n",
      "Recall (Test Set): 0.64\n",
      "F1-Score (Test Set): 0.45\n",
      "roc_auc (test-proba): 0.73\n",
      "roc_auc (train-proba): 0.82\n"
     ]
    }
   ],
   "source": [
    "from sklearn.model_selection import RandomizedSearchCV, GridSearchCV\n",
    "from scipy.stats import uniform\n",
    "import numpy as np\n",
    "\n",
    "# List of hyperparameter\n",
    "max_depth = [6,7,8,9,10,11] # Maximum number of levels in tree\n",
    "min_samples_leaf = [97,98,99,100] # Minimum number of samples required at each leaf node\n",
    "\n",
    "hyperparameters = dict(max_depth=max_depth, \n",
    "                       min_samples_leaf=min_samples_leaf,\n",
    "                       )\n",
    "\n",
    "# Inisialisasi Model\n",
    "dt = DecisionTreeClassifier(random_state=42)\n",
    "model = GridSearchCV(dt, hyperparameters, cv=5, scoring='recall')\n",
    "model.fit(X_train, y_train)\n",
    "\n",
    "# Predict & Evaluation\n",
    "y_pred = model.predict(X_test)#Check performa dari model\n",
    "eval_classification(model)"
   ]
  },
  {
   "attachments": {},
   "cell_type": "markdown",
   "id": "93d5d158",
   "metadata": {},
   "source": [
    "Hasil menunjukkan dengan menghapus beberapa feature tersebut tidak memberikan pengaruh yang signifikan terhadap performa model."
   ]
  },
  {
   "attachments": {},
   "cell_type": "markdown",
   "id": "f0f5cd84",
   "metadata": {},
   "source": [
    "### Kesimpulan dari model Decision Tree"
   ]
  },
  {
   "attachments": {},
   "cell_type": "markdown",
   "id": "7458c11a",
   "metadata": {},
   "source": [
    "Dari modeling tanpa tuning hyperparameter, diperoleh recall : 0.64, kemudian setelah dilakukan tuning hyperparameter di dapatkan nilai recall masih sama diperoleh 0.64, tetapi setelah dilakukan drop beberapa feature dengan skor feature importance yang rendah, diperoleh skor recall sebesar 0.66. Walaupun nilai recall ini sudah mencukupi, tetapi masih ada metrics yang belum memenuhi seperti precision dan f1 score yang masih di bawah 0.5. \n",
    "Selain itu, diketahui bahwa Pay_1 atau Status pembayaran bulan pertama memberikan informasi atau pengaruh pada prediksi paling banyak."
   ]
  },
  {
   "attachments": {},
   "cell_type": "markdown",
   "id": "ec0f1751",
   "metadata": {},
   "source": [
    "## Kesimpulan"
   ]
  },
  {
   "attachments": {},
   "cell_type": "markdown",
   "id": "d5f31b98",
   "metadata": {},
   "source": [
    "Setelah melakukan experiment dengan model logistic regression dan decision tree, menghasilkan hal yang sama yaitu Pay_1 memiliki feature importance yang tinggi dalam prediksi. Hal ini mungkin terjadi karena kecenderungan pembayaran client dapat dilihat dari bagaimana pembayaran dia pada awal kredit, jika di awal kredit sudah telat bayar atau gagal bayar maka memiliki kecenderungan untuk default yang sangat tinggi.\n",
    "\n",
    "Untuk hasil model juga keduanya menghasilkan performa yang cukup baik walaupun belum maksimal, untuk selanjutnya mungkin dapat kembali dilakukan experiment dengan model lain atau dengan tuning hyperparameter kembali."
   ]
  }
 ],
 "metadata": {
  "kernelspec": {
   "display_name": "Python 3",
   "language": "python",
   "name": "python3"
  },
  "language_info": {
   "codemirror_mode": {
    "name": "ipython",
    "version": 3
   },
   "file_extension": ".py",
   "mimetype": "text/x-python",
   "name": "python",
   "nbconvert_exporter": "python",
   "pygments_lexer": "ipython3",
   "version": "3.11.1"
  },
  "vscode": {
   "interpreter": {
    "hash": "d4d7936130eb51ec100b4c9b17ff08803180314c1aa7d803f0d72ac28862ddb3"
   }
  }
 },
 "nbformat": 4,
 "nbformat_minor": 5
}
