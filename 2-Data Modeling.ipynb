{
 "cells": [
  {
   "attachments": {},
   "cell_type": "markdown",
   "metadata": {
    "id": "Eup6pimw1E5U"
   },
   "source": [
    "# Customer Default Payment Prediction Model\n",
    "### -Data Magician Team-\n",
    "Dataset : datatrain from (https://www.kaggle.com/datasets/reverie5/av-janata-hack-payment-default-prediction)"
   ]
  },
  {
   "attachments": {},
   "cell_type": "markdown",
   "metadata": {},
   "source": [
    "### Introduction"
   ]
  },
  {
   "attachments": {},
   "cell_type": "markdown",
   "metadata": {},
   "source": [
    "Pada Notebook ini akan dilakukan data modeling untuk memprediksi customer default payment dengan model klasifikasi.\n",
    "Sebelum dilakukan modeling pada data, akan dilakukan Exploratory Data Analysis yang dapat diakses pada notebook https://github.com/iqbalmudzakky/final_project/blob/main/1-Exploratory%20Data%20Analysis.ipynb\n",
    "\n",
    "Dataset yang akan digunakan merupakan dataset dari kaggle yaitu data train Payment Default Prediction Data.\n",
    "Berikut merupakan penjelasan dari kolom-kolom pada dataset\n",
    "\n",
    "> * ID : Unique ID of each client <br>\n",
    "> * LIMIT_BAL : Amount of given credit (NT dollars): It includes both the individual consumer credit and his/her family (supplementary) credit<br>\n",
    "> * SEX : Gender (1=male, 2=female)<br>\n",
    "> * EDUCATION : 1=graduate school, 2=university, 3=high school, 4=others, 5=unknown, 6=unknown)<br>\n",
    "> * MARRIAGE : Marital status (1=married, 2=single, 3=divorced)<br>\n",
    "> * AGE : Age of the client<br>\n",
    "> * PAY_0 - PAY_6 : Repayment status in April until September(-1=pay duly, 1=payment delay for one month, 2=payment delay for two months, ... 8=payment delay for eight months, 9=payment delay for nine months and above)<br>\n",
    "> * BILL_AMT 1 - BILL_AMT2 : Amount of bill statement in each month, 2005 (NT dollar)<br>\n",
    "> * PAY_AMT1 - PAY_6 : Amount of previous payment in each month, 2005 (NT dollar)<br>\n",
    "> * default_payment_next_month  : Target Variable: Default payment (1=yes, 0=no)"
   ]
  },
  {
   "attachments": {},
   "cell_type": "markdown",
   "metadata": {},
   "source": [
    "### Library and Data Import"
   ]
  },
  {
   "cell_type": "code",
   "execution_count": 1,
   "metadata": {},
   "outputs": [
    {
     "name": "stdout",
     "output_type": "stream",
     "text": [
      "version numpy : 1.24.2\n",
      "version pandas : 1.5.3\n"
     ]
    }
   ],
   "source": [
    "# Library import\n",
    "import warnings\n",
    "warnings.filterwarnings('ignore')\n",
    "\n",
    "import numpy as np\n",
    "import pandas as pd\n",
    "import seaborn as sns\n",
    "import matplotlib.pyplot as plt\n",
    "from scipy import stats\n",
    "\n",
    "print('version numpy :',np.__version__) \n",
    "print('version pandas :',pd.__version__)"
   ]
  },
  {
   "cell_type": "code",
   "execution_count": 2,
   "metadata": {
    "colab": {
     "base_uri": "https://localhost:8080/",
     "height": 299
    },
    "id": "rDpW5vzWZztE",
    "outputId": "282295aa-7a1a-4f32-825f-b1693d55fdc9"
   },
   "outputs": [
    {
     "data": {
      "text/html": [
       "<div>\n",
       "<style scoped>\n",
       "    .dataframe tbody tr th:only-of-type {\n",
       "        vertical-align: middle;\n",
       "    }\n",
       "\n",
       "    .dataframe tbody tr th {\n",
       "        vertical-align: top;\n",
       "    }\n",
       "\n",
       "    .dataframe thead th {\n",
       "        text-align: right;\n",
       "    }\n",
       "</style>\n",
       "<table border=\"1\" class=\"dataframe\">\n",
       "  <thead>\n",
       "    <tr style=\"text-align: right;\">\n",
       "      <th></th>\n",
       "      <th>ID</th>\n",
       "      <th>LIMIT_BAL</th>\n",
       "      <th>SEX</th>\n",
       "      <th>EDUCATION</th>\n",
       "      <th>MARRIAGE</th>\n",
       "      <th>AGE</th>\n",
       "      <th>PAY_0</th>\n",
       "      <th>PAY_2</th>\n",
       "      <th>PAY_3</th>\n",
       "      <th>PAY_4</th>\n",
       "      <th>...</th>\n",
       "      <th>BILL_AMT4</th>\n",
       "      <th>BILL_AMT5</th>\n",
       "      <th>BILL_AMT6</th>\n",
       "      <th>PAY_AMT1</th>\n",
       "      <th>PAY_AMT2</th>\n",
       "      <th>PAY_AMT3</th>\n",
       "      <th>PAY_AMT4</th>\n",
       "      <th>PAY_AMT5</th>\n",
       "      <th>PAY_AMT6</th>\n",
       "      <th>default_payment_next_month</th>\n",
       "    </tr>\n",
       "  </thead>\n",
       "  <tbody>\n",
       "    <tr>\n",
       "      <th>0</th>\n",
       "      <td>25150</td>\n",
       "      <td>360000</td>\n",
       "      <td>2</td>\n",
       "      <td>2</td>\n",
       "      <td>2</td>\n",
       "      <td>25</td>\n",
       "      <td>-1</td>\n",
       "      <td>-1</td>\n",
       "      <td>-1</td>\n",
       "      <td>-1</td>\n",
       "      <td>...</td>\n",
       "      <td>3435</td>\n",
       "      <td>8870</td>\n",
       "      <td>2020</td>\n",
       "      <td>12590</td>\n",
       "      <td>3479</td>\n",
       "      <td>3446</td>\n",
       "      <td>8870</td>\n",
       "      <td>2020</td>\n",
       "      <td>27043</td>\n",
       "      <td>0</td>\n",
       "    </tr>\n",
       "    <tr>\n",
       "      <th>1</th>\n",
       "      <td>13470</td>\n",
       "      <td>240000</td>\n",
       "      <td>2</td>\n",
       "      <td>1</td>\n",
       "      <td>2</td>\n",
       "      <td>46</td>\n",
       "      <td>2</td>\n",
       "      <td>2</td>\n",
       "      <td>-2</td>\n",
       "      <td>-1</td>\n",
       "      <td>...</td>\n",
       "      <td>2240</td>\n",
       "      <td>1681</td>\n",
       "      <td>2267</td>\n",
       "      <td>0</td>\n",
       "      <td>0</td>\n",
       "      <td>2240</td>\n",
       "      <td>0</td>\n",
       "      <td>2267</td>\n",
       "      <td>3074</td>\n",
       "      <td>0</td>\n",
       "    </tr>\n",
       "    <tr>\n",
       "      <th>2</th>\n",
       "      <td>3092</td>\n",
       "      <td>320000</td>\n",
       "      <td>2</td>\n",
       "      <td>2</td>\n",
       "      <td>1</td>\n",
       "      <td>41</td>\n",
       "      <td>0</td>\n",
       "      <td>0</td>\n",
       "      <td>0</td>\n",
       "      <td>0</td>\n",
       "      <td>...</td>\n",
       "      <td>35409</td>\n",
       "      <td>35036</td>\n",
       "      <td>35939</td>\n",
       "      <td>5000</td>\n",
       "      <td>2000</td>\n",
       "      <td>2000</td>\n",
       "      <td>3000</td>\n",
       "      <td>3000</td>\n",
       "      <td>1500</td>\n",
       "      <td>0</td>\n",
       "    </tr>\n",
       "    <tr>\n",
       "      <th>3</th>\n",
       "      <td>13973</td>\n",
       "      <td>50000</td>\n",
       "      <td>2</td>\n",
       "      <td>2</td>\n",
       "      <td>2</td>\n",
       "      <td>24</td>\n",
       "      <td>-1</td>\n",
       "      <td>-1</td>\n",
       "      <td>-2</td>\n",
       "      <td>-2</td>\n",
       "      <td>...</td>\n",
       "      <td>0</td>\n",
       "      <td>0</td>\n",
       "      <td>0</td>\n",
       "      <td>0</td>\n",
       "      <td>0</td>\n",
       "      <td>0</td>\n",
       "      <td>0</td>\n",
       "      <td>0</td>\n",
       "      <td>0</td>\n",
       "      <td>1</td>\n",
       "    </tr>\n",
       "    <tr>\n",
       "      <th>4</th>\n",
       "      <td>10567</td>\n",
       "      <td>80000</td>\n",
       "      <td>1</td>\n",
       "      <td>3</td>\n",
       "      <td>1</td>\n",
       "      <td>52</td>\n",
       "      <td>-1</td>\n",
       "      <td>0</td>\n",
       "      <td>0</td>\n",
       "      <td>0</td>\n",
       "      <td>...</td>\n",
       "      <td>20561</td>\n",
       "      <td>21261</td>\n",
       "      <td>21457</td>\n",
       "      <td>1500</td>\n",
       "      <td>1500</td>\n",
       "      <td>1500</td>\n",
       "      <td>1028</td>\n",
       "      <td>876</td>\n",
       "      <td>1449</td>\n",
       "      <td>0</td>\n",
       "    </tr>\n",
       "  </tbody>\n",
       "</table>\n",
       "<p>5 rows × 25 columns</p>\n",
       "</div>"
      ],
      "text/plain": [
       "      ID  LIMIT_BAL  SEX  EDUCATION  MARRIAGE  AGE  PAY_0  PAY_2  PAY_3  \\\n",
       "0  25150     360000    2          2         2   25     -1     -1     -1   \n",
       "1  13470     240000    2          1         2   46      2      2     -2   \n",
       "2   3092     320000    2          2         1   41      0      0      0   \n",
       "3  13973      50000    2          2         2   24     -1     -1     -2   \n",
       "4  10567      80000    1          3         1   52     -1      0      0   \n",
       "\n",
       "   PAY_4  ...  BILL_AMT4  BILL_AMT5  BILL_AMT6  PAY_AMT1  PAY_AMT2  PAY_AMT3  \\\n",
       "0     -1  ...       3435       8870       2020     12590      3479      3446   \n",
       "1     -1  ...       2240       1681       2267         0         0      2240   \n",
       "2      0  ...      35409      35036      35939      5000      2000      2000   \n",
       "3     -2  ...          0          0          0         0         0         0   \n",
       "4      0  ...      20561      21261      21457      1500      1500      1500   \n",
       "\n",
       "   PAY_AMT4  PAY_AMT5  PAY_AMT6  default_payment_next_month  \n",
       "0      8870      2020     27043                           0  \n",
       "1         0      2267      3074                           0  \n",
       "2      3000      3000      1500                           0  \n",
       "3         0         0         0                           1  \n",
       "4      1028       876      1449                           0  \n",
       "\n",
       "[5 rows x 25 columns]"
      ]
     },
     "execution_count": 2,
     "metadata": {},
     "output_type": "execute_result"
    }
   ],
   "source": [
    "# DATA IMPORT\n",
    "\n",
    "dftrain = pd.read_csv('train_20D8GL3.csv')\n",
    "dftrain.head(5)"
   ]
  },
  {
   "attachments": {},
   "cell_type": "markdown",
   "metadata": {},
   "source": [
    "Sebelum lanjut pada data preprocessing, akan dilakukan penggantian nama kolom agar lebih mudah melakukan intepretasi data."
   ]
  },
  {
   "cell_type": "code",
   "execution_count": 3,
   "metadata": {},
   "outputs": [],
   "source": [
    "# Rename PAY_0 column\n",
    "dftrain.rename(columns={'PAY_0': 'PAY_Sep',\n",
    "                        'PAY_2' : 'PAY_Aug',\n",
    "                        'PAY_3' : 'PAY_Jul',\n",
    "                        'PAY_4' : 'PAY_Jun',\n",
    "                        'PAY_5' : 'PAY_May',\n",
    "                        'PAY_6' : 'PAY_Apr',\n",
    "                        'BILL_AMT1' : 'BILL_AMT_Sep',\n",
    "                        'BILL_AMT2' : 'BILL_AMT_Aug',\n",
    "                        'BILL_AMT3' : 'BILL_AMT_Jul',\n",
    "                        'BILL_AMT4' : 'BILL_AMT_Jun',\n",
    "                        'BILL_AMT5' : 'BILL_AMT_May',\n",
    "                        'BILL_AMT6' : 'BILL_AMT_Apr',\n",
    "                        'PAY_AMT1' : 'PAY_AMT_Sep',\n",
    "                        'PAY_AMT2' : 'PAY_AMT_Aug',\n",
    "                        'PAY_AMT3' : 'PAY_AMT_Jul',\n",
    "                        'PAY_AMT4' : 'PAY_AMT_Jun',\n",
    "                        'PAY_AMT5' : 'PAY_AMT_May',\n",
    "                        'PAY_AMT6' : 'PAY_AMT_Apr'}, inplace=True)"
   ]
  },
  {
   "attachments": {},
   "cell_type": "markdown",
   "metadata": {
    "id": "VxQwW8XUajco"
   },
   "source": [
    "### Data Preprocessing"
   ]
  },
  {
   "attachments": {},
   "cell_type": "markdown",
   "metadata": {},
   "source": [
    "Pada Exploratory Data Analysis, diketahui bahwa pada dataset yang akan digunakan telah bersih dari missing data dan duplicated data, sehingga tidak perlu dilakukan pembersihan. <br>\n",
    "Untuk tahapan pre-processing yang pertama dilakukan adalah feature encoding untuk mengkonversi dataset mentah ke dalam bentuk numerik yang dapat diproses oleh algoritma machine learning."
   ]
  },
  {
   "cell_type": "code",
   "execution_count": 4,
   "metadata": {},
   "outputs": [],
   "source": [
    "# Feature Encoding\n",
    "#feature encoding sex\n",
    "dftrain['SEX'] = dftrain['SEX'].replace({1:0,2:1}) # replace male as 0, and female as 1\n",
    "dftrain['MARRIAGE'] = dftrain['MARRIAGE'].replace({2:0, 3:0}) # replace marriage as 1, and replace single, divorced, and unknown with 0\n",
    "dftrain['EDUCATION'] = dftrain['EDUCATION'].replace({2 : 1, 3 : 1, 4 : 1, 0 : 1, 5 : 0, 6 : 0}) # replace graduate school, university, others, and elementary school with 1, and unknown with 0"
   ]
  },
  {
   "cell_type": "code",
   "execution_count": 5,
   "metadata": {},
   "outputs": [
    {
     "name": "stdout",
     "output_type": "stream",
     "text": [
      "<class 'pandas.core.frame.DataFrame'>\n",
      "RangeIndex: 21000 entries, 0 to 20999\n",
      "Data columns (total 25 columns):\n",
      " #   Column                      Non-Null Count  Dtype\n",
      "---  ------                      --------------  -----\n",
      " 0   ID                          21000 non-null  int64\n",
      " 1   LIMIT_BAL                   21000 non-null  int64\n",
      " 2   SEX                         21000 non-null  int64\n",
      " 3   EDUCATION                   21000 non-null  int64\n",
      " 4   MARRIAGE                    21000 non-null  int64\n",
      " 5   AGE                         21000 non-null  int64\n",
      " 6   PAY_Sep                     21000 non-null  int64\n",
      " 7   PAY_Aug                     21000 non-null  int64\n",
      " 8   PAY_Jul                     21000 non-null  int64\n",
      " 9   PAY_Jun                     21000 non-null  int64\n",
      " 10  PAY_May                     21000 non-null  int64\n",
      " 11  PAY_Apr                     21000 non-null  int64\n",
      " 12  BILL_AMT_Sep                21000 non-null  int64\n",
      " 13  BILL_AMT_Aug                21000 non-null  int64\n",
      " 14  BILL_AMT_Jul                21000 non-null  int64\n",
      " 15  BILL_AMT_Jun                21000 non-null  int64\n",
      " 16  BILL_AMT_May                21000 non-null  int64\n",
      " 17  BILL_AMT_Apr                21000 non-null  int64\n",
      " 18  PAY_AMT_Sep                 21000 non-null  int64\n",
      " 19  PAY_AMT_Aug                 21000 non-null  int64\n",
      " 20  PAY_AMT_Jul                 21000 non-null  int64\n",
      " 21  PAY_AMT_Jun                 21000 non-null  int64\n",
      " 22  PAY_AMT_May                 21000 non-null  int64\n",
      " 23  PAY_AMT_Apr                 21000 non-null  int64\n",
      " 24  default_payment_next_month  21000 non-null  int64\n",
      "dtypes: int64(25)\n",
      "memory usage: 4.0 MB\n"
     ]
    }
   ],
   "source": [
    "dftrain.info()"
   ]
  },
  {
   "attachments": {},
   "cell_type": "markdown",
   "metadata": {},
   "source": [
    "Semua kolom telah diencode menjadi data numerik. Selanjutnya akan dilakukan data splitting menjadi data train dan data test terlebih dahulu, karena kedua data tersebut memerlukan perlakuan yang berbeda. Splitting data ini juga dilakukan untuk menghindari kebocoran data test ke dalam data train yang dapat menyebabkan hasil yang salah dalam penilaian kinerja model dan menyebabkan model tampak lebih baik daripada yang sebenarnya."
   ]
  },
  {
   "cell_type": "code",
   "execution_count": 6,
   "metadata": {},
   "outputs": [],
   "source": [
    "ind_var = dftrain.drop(['ID','default_payment_next_month'],axis = 1)\n",
    "ind_var = ind_var.columns.to_list() #kolom independent variable\n",
    "\n",
    "X = dftrain[ind_var]\n",
    "y = dftrain[['default_payment_next_month']]\n",
    "\n",
    "from sklearn.model_selection import train_test_split\n",
    "X_train, X_test, y_train, y_test = train_test_split(X, y, test_size = 0.3, random_state = 42)"
   ]
  },
  {
   "attachments": {},
   "cell_type": "markdown",
   "metadata": {},
   "source": [
    "Data train dan test dibagi dengan perbandingan 70:30\n",
    "\n",
    "Feature train disimpan dalam X_train, dan target train disimpan dalam variable y_train. Sedangkan Feature test disimpan dalam X_test, dan target test disimpan dalam variable y_test."
   ]
  },
  {
   "attachments": {},
   "cell_type": "markdown",
   "metadata": {},
   "source": [
    "Selanjutnya, akan dilakukan outlier handling dengan kaidah IQR. Outlier handling ini hanya dilakukan pada data train saja. Hal ini dilakukan karena tujuan utama dari outlier handling adalah untuk meningkatkan kinerja model pada data training dan mencegah model mengalami overfitting pada data training. Jika outlier handling dilakukan pada data testing atau data baru yang akan digunakan untuk prediksi di masa depan, ini dapat mengakibatkan kesalahan yang tidak diinginkan dalam prediksi. Outlier handling pada data testing atau data baru akan menyebabkan data tersebut tidak sesuai dengan data yang digunakan saat melatih model. Hal ini dapat menghasilkan model yang terlalu kaku dan kurang mampu menghasilkan prediksi yang akurat pada data yang belum pernah dilihat sebelumnya."
   ]
  },
  {
   "cell_type": "code",
   "execution_count": 7,
   "metadata": {},
   "outputs": [
    {
     "name": "stdout",
     "output_type": "stream",
     "text": [
      "Jumlah baris sebelum memfilter outlier : 14700\n",
      "Jumlah baris setelah memfilter outlier : 13245\n"
     ]
    }
   ],
   "source": [
    "# Menyatukan X_train, y_train kembali\n",
    "merge_train = pd.concat([X_train,y_train], axis = 1)\n",
    "\n",
    "# Outliers handling\n",
    "\n",
    "print(f'Jumlah baris sebelum memfilter outlier : {len(merge_train)}')\n",
    "nums = ['LIMIT_BAL','AGE','BILL_AMT_Sep','BILL_AMT_Aug','BILL_AMT_Jul','BILL_AMT_Jun','BILL_AMT_May',\n",
    "        'BILL_AMT_Apr', 'PAY_AMT_Sep','PAY_AMT_Aug','PAY_AMT_Jul','PAY_AMT_Jun','PAY_AMT_May','PAY_AMT_Apr']\n",
    "for i in nums:\n",
    "    q1 = merge_train[i].quantile(0.25)\n",
    "    q3 = merge_train[i].quantile(0.75)\n",
    "    iqr = q3 - q1\n",
    "    low_limit = q1 - (1.5 * iqr)\n",
    "    high_limit = q3 + (1.5 * iqr)\n",
    "    filtered_entries = ((merge_train[i] >= low_limit) & (merge_train[i] <= high_limit))\n",
    "    \n",
    "merge_train = merge_train[filtered_entries] \n",
    "\n",
    "print(f'Jumlah baris setelah memfilter outlier : {len(merge_train)}')"
   ]
  },
  {
   "cell_type": "code",
   "execution_count": 8,
   "metadata": {},
   "outputs": [],
   "source": [
    "# memisahkan dataset train kembali\n",
    "X_train = merge_train.drop('default_payment_next_month',axis = 1)\n",
    "y_train = merge_train[['default_payment_next_month']]"
   ]
  },
  {
   "attachments": {},
   "cell_type": "markdown",
   "metadata": {},
   "source": [
    "Setelah itu, dilakukan feature transformation yaitu dengan melakukan standarisasi nilai feature. Hal ini dilakukan untuk mengubah nilai feature menjadi memiliki skala yang sama. Feature transformation ini dilakukan baik pada data train maupun data test."
   ]
  },
  {
   "cell_type": "code",
   "execution_count": 9,
   "metadata": {},
   "outputs": [
    {
     "data": {
      "text/html": [
       "<div>\n",
       "<style scoped>\n",
       "    .dataframe tbody tr th:only-of-type {\n",
       "        vertical-align: middle;\n",
       "    }\n",
       "\n",
       "    .dataframe tbody tr th {\n",
       "        vertical-align: top;\n",
       "    }\n",
       "\n",
       "    .dataframe thead th {\n",
       "        text-align: right;\n",
       "    }\n",
       "</style>\n",
       "<table border=\"1\" class=\"dataframe\">\n",
       "  <thead>\n",
       "    <tr style=\"text-align: right;\">\n",
       "      <th></th>\n",
       "      <th>LIMIT_BAL</th>\n",
       "      <th>SEX</th>\n",
       "      <th>EDUCATION</th>\n",
       "      <th>MARRIAGE</th>\n",
       "      <th>AGE</th>\n",
       "      <th>PAY_Sep</th>\n",
       "      <th>PAY_Aug</th>\n",
       "      <th>PAY_Jul</th>\n",
       "      <th>PAY_Jun</th>\n",
       "      <th>PAY_May</th>\n",
       "      <th>...</th>\n",
       "      <th>BILL_AMT_Jul</th>\n",
       "      <th>BILL_AMT_Jun</th>\n",
       "      <th>BILL_AMT_May</th>\n",
       "      <th>BILL_AMT_Apr</th>\n",
       "      <th>PAY_AMT_Sep</th>\n",
       "      <th>PAY_AMT_Aug</th>\n",
       "      <th>PAY_AMT_Jul</th>\n",
       "      <th>PAY_AMT_Jun</th>\n",
       "      <th>PAY_AMT_May</th>\n",
       "      <th>PAY_AMT_Apr</th>\n",
       "    </tr>\n",
       "  </thead>\n",
       "  <tbody>\n",
       "    <tr>\n",
       "      <th>count</th>\n",
       "      <td>1.324500e+04</td>\n",
       "      <td>13245.000000</td>\n",
       "      <td>13245.000000</td>\n",
       "      <td>13245.000000</td>\n",
       "      <td>1.324500e+04</td>\n",
       "      <td>13245.000000</td>\n",
       "      <td>13245.000000</td>\n",
       "      <td>13245.000000</td>\n",
       "      <td>13245.000000</td>\n",
       "      <td>13245.000000</td>\n",
       "      <td>...</td>\n",
       "      <td>1.324500e+04</td>\n",
       "      <td>1.324500e+04</td>\n",
       "      <td>1.324500e+04</td>\n",
       "      <td>1.324500e+04</td>\n",
       "      <td>1.324500e+04</td>\n",
       "      <td>1.324500e+04</td>\n",
       "      <td>1.324500e+04</td>\n",
       "      <td>1.324500e+04</td>\n",
       "      <td>1.324500e+04</td>\n",
       "      <td>1.324500e+04</td>\n",
       "    </tr>\n",
       "    <tr>\n",
       "      <th>mean</th>\n",
       "      <td>8.502909e-17</td>\n",
       "      <td>0.606040</td>\n",
       "      <td>0.988146</td>\n",
       "      <td>0.452926</td>\n",
       "      <td>7.188579e-17</td>\n",
       "      <td>0.021140</td>\n",
       "      <td>-0.096263</td>\n",
       "      <td>-0.131597</td>\n",
       "      <td>-0.192676</td>\n",
       "      <td>-0.239034</td>\n",
       "      <td>...</td>\n",
       "      <td>-3.808874e-17</td>\n",
       "      <td>1.609383e-17</td>\n",
       "      <td>2.575013e-17</td>\n",
       "      <td>9.870884e-17</td>\n",
       "      <td>1.287507e-17</td>\n",
       "      <td>-1.180214e-17</td>\n",
       "      <td>3.111474e-17</td>\n",
       "      <td>-2.145844e-18</td>\n",
       "      <td>-1.180214e-17</td>\n",
       "      <td>6.544826e-17</td>\n",
       "    </tr>\n",
       "    <tr>\n",
       "      <th>std</th>\n",
       "      <td>1.000038e+00</td>\n",
       "      <td>0.488645</td>\n",
       "      <td>0.108231</td>\n",
       "      <td>0.497798</td>\n",
       "      <td>1.000038e+00</td>\n",
       "      <td>1.136424</td>\n",
       "      <td>1.221914</td>\n",
       "      <td>1.229840</td>\n",
       "      <td>1.201287</td>\n",
       "      <td>1.169016</td>\n",
       "      <td>...</td>\n",
       "      <td>1.000038e+00</td>\n",
       "      <td>1.000038e+00</td>\n",
       "      <td>1.000038e+00</td>\n",
       "      <td>1.000038e+00</td>\n",
       "      <td>1.000038e+00</td>\n",
       "      <td>1.000038e+00</td>\n",
       "      <td>1.000038e+00</td>\n",
       "      <td>1.000038e+00</td>\n",
       "      <td>1.000038e+00</td>\n",
       "      <td>1.000038e+00</td>\n",
       "    </tr>\n",
       "    <tr>\n",
       "      <th>min</th>\n",
       "      <td>-1.207694e+00</td>\n",
       "      <td>0.000000</td>\n",
       "      <td>0.000000</td>\n",
       "      <td>0.000000</td>\n",
       "      <td>-1.554403e+00</td>\n",
       "      <td>-2.000000</td>\n",
       "      <td>-2.000000</td>\n",
       "      <td>-2.000000</td>\n",
       "      <td>-2.000000</td>\n",
       "      <td>-2.000000</td>\n",
       "      <td>...</td>\n",
       "      <td>-1.516596e+00</td>\n",
       "      <td>-3.860511e+00</td>\n",
       "      <td>-1.758329e+00</td>\n",
       "      <td>-2.613412e+00</td>\n",
       "      <td>-3.451685e-01</td>\n",
       "      <td>-2.793835e-01</td>\n",
       "      <td>-3.130672e-01</td>\n",
       "      <td>-3.059016e-01</td>\n",
       "      <td>-3.175540e-01</td>\n",
       "      <td>-8.883237e-01</td>\n",
       "    </tr>\n",
       "    <tr>\n",
       "      <th>25%</th>\n",
       "      <td>-8.767557e-01</td>\n",
       "      <td>0.000000</td>\n",
       "      <td>1.000000</td>\n",
       "      <td>0.000000</td>\n",
       "      <td>-7.997478e-01</td>\n",
       "      <td>-1.000000</td>\n",
       "      <td>-1.000000</td>\n",
       "      <td>-1.000000</td>\n",
       "      <td>-1.000000</td>\n",
       "      <td>-1.000000</td>\n",
       "      <td>...</td>\n",
       "      <td>-6.854665e-01</td>\n",
       "      <td>-6.817431e-01</td>\n",
       "      <td>-6.848557e-01</td>\n",
       "      <td>-6.850646e-01</td>\n",
       "      <td>-2.921459e-01</td>\n",
       "      <td>-2.427181e-01</td>\n",
       "      <td>-2.888627e-01</td>\n",
       "      <td>-2.918868e-01</td>\n",
       "      <td>-3.048103e-01</td>\n",
       "      <td>-8.883237e-01</td>\n",
       "    </tr>\n",
       "    <tr>\n",
       "      <th>50%</th>\n",
       "      <td>-2.148787e-01</td>\n",
       "      <td>1.000000</td>\n",
       "      <td>1.000000</td>\n",
       "      <td>0.000000</td>\n",
       "      <td>-1.529007e-01</td>\n",
       "      <td>0.000000</td>\n",
       "      <td>0.000000</td>\n",
       "      <td>0.000000</td>\n",
       "      <td>0.000000</td>\n",
       "      <td>0.000000</td>\n",
       "      <td>...</td>\n",
       "      <td>-3.924846e-01</td>\n",
       "      <td>-3.749521e-01</td>\n",
       "      <td>-3.647517e-01</td>\n",
       "      <td>-3.725607e-01</td>\n",
       "      <td>-1.980878e-01</td>\n",
       "      <td>-1.626147e-01</td>\n",
       "      <td>-1.935298e-01</td>\n",
       "      <td>-2.017913e-01</td>\n",
       "      <td>-1.992923e-01</td>\n",
       "      <td>-3.840434e-01</td>\n",
       "    </tr>\n",
       "    <tr>\n",
       "      <th>75%</th>\n",
       "      <td>5.297329e-01</td>\n",
       "      <td>1.000000</td>\n",
       "      <td>1.000000</td>\n",
       "      <td>1.000000</td>\n",
       "      <td>6.017542e-01</td>\n",
       "      <td>0.000000</td>\n",
       "      <td>0.000000</td>\n",
       "      <td>0.000000</td>\n",
       "      <td>0.000000</td>\n",
       "      <td>0.000000</td>\n",
       "      <td>...</td>\n",
       "      <td>2.438834e-01</td>\n",
       "      <td>2.186872e-01</td>\n",
       "      <td>2.423557e-01</td>\n",
       "      <td>2.597855e-01</td>\n",
       "      <td>1.003132e-02</td>\n",
       "      <td>-2.418523e-02</td>\n",
       "      <td>-1.956947e-02</td>\n",
       "      <td>-2.560449e-02</td>\n",
       "      <td>-2.020059e-02</td>\n",
       "      <td>4.869863e-01</td>\n",
       "    </tr>\n",
       "    <tr>\n",
       "      <th>max</th>\n",
       "      <td>5.162872e+00</td>\n",
       "      <td>1.000000</td>\n",
       "      <td>1.000000</td>\n",
       "      <td>1.000000</td>\n",
       "      <td>4.267221e+00</td>\n",
       "      <td>8.000000</td>\n",
       "      <td>7.000000</td>\n",
       "      <td>8.000000</td>\n",
       "      <td>8.000000</td>\n",
       "      <td>8.000000</td>\n",
       "      <td>...</td>\n",
       "      <td>1.109309e+01</td>\n",
       "      <td>1.234613e+01</td>\n",
       "      <td>9.221079e+00</td>\n",
       "      <td>9.933033e+00</td>\n",
       "      <td>3.593654e+01</td>\n",
       "      <td>7.136309e+01</td>\n",
       "      <td>2.916976e+01</td>\n",
       "      <td>3.949629e+01</td>\n",
       "      <td>2.603093e+01</td>\n",
       "      <td>3.612149e+00</td>\n",
       "    </tr>\n",
       "  </tbody>\n",
       "</table>\n",
       "<p>8 rows × 23 columns</p>\n",
       "</div>"
      ],
      "text/plain": [
       "          LIMIT_BAL           SEX     EDUCATION      MARRIAGE           AGE  \\\n",
       "count  1.324500e+04  13245.000000  13245.000000  13245.000000  1.324500e+04   \n",
       "mean   8.502909e-17      0.606040      0.988146      0.452926  7.188579e-17   \n",
       "std    1.000038e+00      0.488645      0.108231      0.497798  1.000038e+00   \n",
       "min   -1.207694e+00      0.000000      0.000000      0.000000 -1.554403e+00   \n",
       "25%   -8.767557e-01      0.000000      1.000000      0.000000 -7.997478e-01   \n",
       "50%   -2.148787e-01      1.000000      1.000000      0.000000 -1.529007e-01   \n",
       "75%    5.297329e-01      1.000000      1.000000      1.000000  6.017542e-01   \n",
       "max    5.162872e+00      1.000000      1.000000      1.000000  4.267221e+00   \n",
       "\n",
       "            PAY_Sep       PAY_Aug       PAY_Jul       PAY_Jun       PAY_May  \\\n",
       "count  13245.000000  13245.000000  13245.000000  13245.000000  13245.000000   \n",
       "mean       0.021140     -0.096263     -0.131597     -0.192676     -0.239034   \n",
       "std        1.136424      1.221914      1.229840      1.201287      1.169016   \n",
       "min       -2.000000     -2.000000     -2.000000     -2.000000     -2.000000   \n",
       "25%       -1.000000     -1.000000     -1.000000     -1.000000     -1.000000   \n",
       "50%        0.000000      0.000000      0.000000      0.000000      0.000000   \n",
       "75%        0.000000      0.000000      0.000000      0.000000      0.000000   \n",
       "max        8.000000      7.000000      8.000000      8.000000      8.000000   \n",
       "\n",
       "       ...  BILL_AMT_Jul  BILL_AMT_Jun  BILL_AMT_May  BILL_AMT_Apr  \\\n",
       "count  ...  1.324500e+04  1.324500e+04  1.324500e+04  1.324500e+04   \n",
       "mean   ... -3.808874e-17  1.609383e-17  2.575013e-17  9.870884e-17   \n",
       "std    ...  1.000038e+00  1.000038e+00  1.000038e+00  1.000038e+00   \n",
       "min    ... -1.516596e+00 -3.860511e+00 -1.758329e+00 -2.613412e+00   \n",
       "25%    ... -6.854665e-01 -6.817431e-01 -6.848557e-01 -6.850646e-01   \n",
       "50%    ... -3.924846e-01 -3.749521e-01 -3.647517e-01 -3.725607e-01   \n",
       "75%    ...  2.438834e-01  2.186872e-01  2.423557e-01  2.597855e-01   \n",
       "max    ...  1.109309e+01  1.234613e+01  9.221079e+00  9.933033e+00   \n",
       "\n",
       "        PAY_AMT_Sep   PAY_AMT_Aug   PAY_AMT_Jul   PAY_AMT_Jun   PAY_AMT_May  \\\n",
       "count  1.324500e+04  1.324500e+04  1.324500e+04  1.324500e+04  1.324500e+04   \n",
       "mean   1.287507e-17 -1.180214e-17  3.111474e-17 -2.145844e-18 -1.180214e-17   \n",
       "std    1.000038e+00  1.000038e+00  1.000038e+00  1.000038e+00  1.000038e+00   \n",
       "min   -3.451685e-01 -2.793835e-01 -3.130672e-01 -3.059016e-01 -3.175540e-01   \n",
       "25%   -2.921459e-01 -2.427181e-01 -2.888627e-01 -2.918868e-01 -3.048103e-01   \n",
       "50%   -1.980878e-01 -1.626147e-01 -1.935298e-01 -2.017913e-01 -1.992923e-01   \n",
       "75%    1.003132e-02 -2.418523e-02 -1.956947e-02 -2.560449e-02 -2.020059e-02   \n",
       "max    3.593654e+01  7.136309e+01  2.916976e+01  3.949629e+01  2.603093e+01   \n",
       "\n",
       "        PAY_AMT_Apr  \n",
       "count  1.324500e+04  \n",
       "mean   6.544826e-17  \n",
       "std    1.000038e+00  \n",
       "min   -8.883237e-01  \n",
       "25%   -8.883237e-01  \n",
       "50%   -3.840434e-01  \n",
       "75%    4.869863e-01  \n",
       "max    3.612149e+00  \n",
       "\n",
       "[8 rows x 23 columns]"
      ]
     },
     "metadata": {},
     "output_type": "display_data"
    },
    {
     "data": {
      "text/html": [
       "<div>\n",
       "<style scoped>\n",
       "    .dataframe tbody tr th:only-of-type {\n",
       "        vertical-align: middle;\n",
       "    }\n",
       "\n",
       "    .dataframe tbody tr th {\n",
       "        vertical-align: top;\n",
       "    }\n",
       "\n",
       "    .dataframe thead th {\n",
       "        text-align: right;\n",
       "    }\n",
       "</style>\n",
       "<table border=\"1\" class=\"dataframe\">\n",
       "  <thead>\n",
       "    <tr style=\"text-align: right;\">\n",
       "      <th></th>\n",
       "      <th>LIMIT_BAL</th>\n",
       "      <th>SEX</th>\n",
       "      <th>EDUCATION</th>\n",
       "      <th>MARRIAGE</th>\n",
       "      <th>AGE</th>\n",
       "      <th>PAY_Sep</th>\n",
       "      <th>PAY_Aug</th>\n",
       "      <th>PAY_Jul</th>\n",
       "      <th>PAY_Jun</th>\n",
       "      <th>PAY_May</th>\n",
       "      <th>...</th>\n",
       "      <th>BILL_AMT_Jul</th>\n",
       "      <th>BILL_AMT_Jun</th>\n",
       "      <th>BILL_AMT_May</th>\n",
       "      <th>BILL_AMT_Apr</th>\n",
       "      <th>PAY_AMT_Sep</th>\n",
       "      <th>PAY_AMT_Aug</th>\n",
       "      <th>PAY_AMT_Jul</th>\n",
       "      <th>PAY_AMT_Jun</th>\n",
       "      <th>PAY_AMT_May</th>\n",
       "      <th>PAY_AMT_Apr</th>\n",
       "    </tr>\n",
       "  </thead>\n",
       "  <tbody>\n",
       "    <tr>\n",
       "      <th>count</th>\n",
       "      <td>6300.000000</td>\n",
       "      <td>6300.000000</td>\n",
       "      <td>6300.000000</td>\n",
       "      <td>6300.000000</td>\n",
       "      <td>6300.000000</td>\n",
       "      <td>6300.000000</td>\n",
       "      <td>6300.000000</td>\n",
       "      <td>6300.000000</td>\n",
       "      <td>6300.000000</td>\n",
       "      <td>6300.000000</td>\n",
       "      <td>...</td>\n",
       "      <td>6300.000000</td>\n",
       "      <td>6300.000000</td>\n",
       "      <td>6300.000000</td>\n",
       "      <td>6300.000000</td>\n",
       "      <td>6300.000000</td>\n",
       "      <td>6300.000000</td>\n",
       "      <td>6300.000000</td>\n",
       "      <td>6300.000000</td>\n",
       "      <td>6300.000000</td>\n",
       "      <td>6300.000000</td>\n",
       "    </tr>\n",
       "    <tr>\n",
       "      <th>mean</th>\n",
       "      <td>0.073813</td>\n",
       "      <td>0.610476</td>\n",
       "      <td>0.990635</td>\n",
       "      <td>0.457778</td>\n",
       "      <td>-0.006453</td>\n",
       "      <td>-0.006667</td>\n",
       "      <td>-0.131429</td>\n",
       "      <td>-0.178254</td>\n",
       "      <td>-0.219206</td>\n",
       "      <td>-0.261746</td>\n",
       "      <td>...</td>\n",
       "      <td>0.076204</td>\n",
       "      <td>0.071951</td>\n",
       "      <td>0.070733</td>\n",
       "      <td>0.070726</td>\n",
       "      <td>0.067114</td>\n",
       "      <td>0.052919</td>\n",
       "      <td>0.057117</td>\n",
       "      <td>0.078005</td>\n",
       "      <td>0.093899</td>\n",
       "      <td>1.479522</td>\n",
       "    </tr>\n",
       "    <tr>\n",
       "      <th>std</th>\n",
       "      <td>1.060059</td>\n",
       "      <td>0.487681</td>\n",
       "      <td>0.096327</td>\n",
       "      <td>0.498254</td>\n",
       "      <td>0.989117</td>\n",
       "      <td>1.106183</td>\n",
       "      <td>1.185399</td>\n",
       "      <td>1.172448</td>\n",
       "      <td>1.163440</td>\n",
       "      <td>1.133660</td>\n",
       "      <td>...</td>\n",
       "      <td>1.161762</td>\n",
       "      <td>1.158766</td>\n",
       "      <td>1.165245</td>\n",
       "      <td>1.170730</td>\n",
       "      <td>1.144832</td>\n",
       "      <td>1.043682</td>\n",
       "      <td>1.168414</td>\n",
       "      <td>1.224074</td>\n",
       "      <td>1.431407</td>\n",
       "      <td>8.584819</td>\n",
       "    </tr>\n",
       "    <tr>\n",
       "      <th>min</th>\n",
       "      <td>-1.207694</td>\n",
       "      <td>0.000000</td>\n",
       "      <td>0.000000</td>\n",
       "      <td>0.000000</td>\n",
       "      <td>-1.554403</td>\n",
       "      <td>-2.000000</td>\n",
       "      <td>-2.000000</td>\n",
       "      <td>-2.000000</td>\n",
       "      <td>-2.000000</td>\n",
       "      <td>-2.000000</td>\n",
       "      <td>...</td>\n",
       "      <td>-3.421312</td>\n",
       "      <td>-2.221742</td>\n",
       "      <td>-2.316781</td>\n",
       "      <td>-1.492926</td>\n",
       "      <td>-0.345169</td>\n",
       "      <td>-0.279384</td>\n",
       "      <td>-0.313067</td>\n",
       "      <td>-0.305902</td>\n",
       "      <td>-0.317554</td>\n",
       "      <td>-0.888324</td>\n",
       "    </tr>\n",
       "    <tr>\n",
       "      <th>25%</th>\n",
       "      <td>-0.876756</td>\n",
       "      <td>0.000000</td>\n",
       "      <td>1.000000</td>\n",
       "      <td>0.000000</td>\n",
       "      <td>-0.799748</td>\n",
       "      <td>-1.000000</td>\n",
       "      <td>-1.000000</td>\n",
       "      <td>-1.000000</td>\n",
       "      <td>-1.000000</td>\n",
       "      <td>-1.000000</td>\n",
       "      <td>...</td>\n",
       "      <td>-0.679815</td>\n",
       "      <td>-0.676790</td>\n",
       "      <td>-0.678941</td>\n",
       "      <td>-0.681995</td>\n",
       "      <td>-0.271628</td>\n",
       "      <td>-0.224385</td>\n",
       "      <td>-0.283665</td>\n",
       "      <td>-0.281736</td>\n",
       "      <td>-0.300562</td>\n",
       "      <td>-0.842480</td>\n",
       "    </tr>\n",
       "    <tr>\n",
       "      <th>50%</th>\n",
       "      <td>-0.132144</td>\n",
       "      <td>1.000000</td>\n",
       "      <td>1.000000</td>\n",
       "      <td>0.000000</td>\n",
       "      <td>-0.152901</td>\n",
       "      <td>0.000000</td>\n",
       "      <td>0.000000</td>\n",
       "      <td>0.000000</td>\n",
       "      <td>0.000000</td>\n",
       "      <td>0.000000</td>\n",
       "      <td>...</td>\n",
       "      <td>-0.378714</td>\n",
       "      <td>-0.364657</td>\n",
       "      <td>-0.355368</td>\n",
       "      <td>-0.355666</td>\n",
       "      <td>-0.190697</td>\n",
       "      <td>-0.162002</td>\n",
       "      <td>-0.179423</td>\n",
       "      <td>-0.185774</td>\n",
       "      <td>-0.190117</td>\n",
       "      <td>-0.200669</td>\n",
       "    </tr>\n",
       "    <tr>\n",
       "      <th>75%</th>\n",
       "      <td>0.695202</td>\n",
       "      <td>1.000000</td>\n",
       "      <td>1.000000</td>\n",
       "      <td>1.000000</td>\n",
       "      <td>0.601754</td>\n",
       "      <td>0.000000</td>\n",
       "      <td>0.000000</td>\n",
       "      <td>0.000000</td>\n",
       "      <td>0.000000</td>\n",
       "      <td>0.000000</td>\n",
       "      <td>...</td>\n",
       "      <td>0.333616</td>\n",
       "      <td>0.307911</td>\n",
       "      <td>0.273066</td>\n",
       "      <td>0.284366</td>\n",
       "      <td>0.022533</td>\n",
       "      <td>0.012539</td>\n",
       "      <td>0.014250</td>\n",
       "      <td>0.014438</td>\n",
       "      <td>0.022278</td>\n",
       "      <td>0.945423</td>\n",
       "    </tr>\n",
       "    <tr>\n",
       "      <th>max</th>\n",
       "      <td>5.328341</td>\n",
       "      <td>1.000000</td>\n",
       "      <td>1.000000</td>\n",
       "      <td>1.000000</td>\n",
       "      <td>4.267221</td>\n",
       "      <td>8.000000</td>\n",
       "      <td>8.000000</td>\n",
       "      <td>7.000000</td>\n",
       "      <td>8.000000</td>\n",
       "      <td>7.000000</td>\n",
       "      <td>...</td>\n",
       "      <td>11.093365</td>\n",
       "      <td>10.682184</td>\n",
       "      <td>10.087846</td>\n",
       "      <td>9.340423</td>\n",
       "      <td>23.409390</td>\n",
       "      <td>23.132944</td>\n",
       "      <td>29.457835</td>\n",
       "      <td>26.265306</td>\n",
       "      <td>35.194089</td>\n",
       "      <td>241.471554</td>\n",
       "    </tr>\n",
       "  </tbody>\n",
       "</table>\n",
       "<p>8 rows × 23 columns</p>\n",
       "</div>"
      ],
      "text/plain": [
       "         LIMIT_BAL          SEX    EDUCATION     MARRIAGE          AGE  \\\n",
       "count  6300.000000  6300.000000  6300.000000  6300.000000  6300.000000   \n",
       "mean      0.073813     0.610476     0.990635     0.457778    -0.006453   \n",
       "std       1.060059     0.487681     0.096327     0.498254     0.989117   \n",
       "min      -1.207694     0.000000     0.000000     0.000000    -1.554403   \n",
       "25%      -0.876756     0.000000     1.000000     0.000000    -0.799748   \n",
       "50%      -0.132144     1.000000     1.000000     0.000000    -0.152901   \n",
       "75%       0.695202     1.000000     1.000000     1.000000     0.601754   \n",
       "max       5.328341     1.000000     1.000000     1.000000     4.267221   \n",
       "\n",
       "           PAY_Sep      PAY_Aug      PAY_Jul      PAY_Jun      PAY_May  ...  \\\n",
       "count  6300.000000  6300.000000  6300.000000  6300.000000  6300.000000  ...   \n",
       "mean     -0.006667    -0.131429    -0.178254    -0.219206    -0.261746  ...   \n",
       "std       1.106183     1.185399     1.172448     1.163440     1.133660  ...   \n",
       "min      -2.000000    -2.000000    -2.000000    -2.000000    -2.000000  ...   \n",
       "25%      -1.000000    -1.000000    -1.000000    -1.000000    -1.000000  ...   \n",
       "50%       0.000000     0.000000     0.000000     0.000000     0.000000  ...   \n",
       "75%       0.000000     0.000000     0.000000     0.000000     0.000000  ...   \n",
       "max       8.000000     8.000000     7.000000     8.000000     7.000000  ...   \n",
       "\n",
       "       BILL_AMT_Jul  BILL_AMT_Jun  BILL_AMT_May  BILL_AMT_Apr  PAY_AMT_Sep  \\\n",
       "count   6300.000000   6300.000000   6300.000000   6300.000000  6300.000000   \n",
       "mean       0.076204      0.071951      0.070733      0.070726     0.067114   \n",
       "std        1.161762      1.158766      1.165245      1.170730     1.144832   \n",
       "min       -3.421312     -2.221742     -2.316781     -1.492926    -0.345169   \n",
       "25%       -0.679815     -0.676790     -0.678941     -0.681995    -0.271628   \n",
       "50%       -0.378714     -0.364657     -0.355368     -0.355666    -0.190697   \n",
       "75%        0.333616      0.307911      0.273066      0.284366     0.022533   \n",
       "max       11.093365     10.682184     10.087846      9.340423    23.409390   \n",
       "\n",
       "       PAY_AMT_Aug  PAY_AMT_Jul  PAY_AMT_Jun  PAY_AMT_May  PAY_AMT_Apr  \n",
       "count  6300.000000  6300.000000  6300.000000  6300.000000  6300.000000  \n",
       "mean      0.052919     0.057117     0.078005     0.093899     1.479522  \n",
       "std       1.043682     1.168414     1.224074     1.431407     8.584819  \n",
       "min      -0.279384    -0.313067    -0.305902    -0.317554    -0.888324  \n",
       "25%      -0.224385    -0.283665    -0.281736    -0.300562    -0.842480  \n",
       "50%      -0.162002    -0.179423    -0.185774    -0.190117    -0.200669  \n",
       "75%       0.012539     0.014250     0.014438     0.022278     0.945423  \n",
       "max      23.132944    29.457835    26.265306    35.194089   241.471554  \n",
       "\n",
       "[8 rows x 23 columns]"
      ]
     },
     "metadata": {},
     "output_type": "display_data"
    }
   ],
   "source": [
    "#menggunakan standardization (scaler)\n",
    "\n",
    "from sklearn.preprocessing import StandardScaler\n",
    "ss = StandardScaler()\n",
    "\n",
    "numerical_features = X[nums].columns.to_list()\n",
    "for i in numerical_features:\n",
    "    scaler = ss.fit(X_train[[i]])\n",
    "    X_train[i] = scaler.transform(X_train[[i]])\n",
    "    X_test[i] = scaler.transform(X_test[[i]])\n",
    "\n",
    "display(X_train.describe())\n",
    "display(X_test.describe())\n"
   ]
  },
  {
   "attachments": {},
   "cell_type": "markdown",
   "metadata": {},
   "source": [
    "Kemudian akan dilakukan Class Imbalance Handling, sebelumnya akan dilihat dulu apakah data train memiliki masalah class imbalance:"
   ]
  },
  {
   "cell_type": "code",
   "execution_count": 10,
   "metadata": {},
   "outputs": [
    {
     "data": {
      "text/plain": [
       "default_payment_next_month\n",
       "0                             10169\n",
       "1                              3076\n",
       "dtype: int64"
      ]
     },
     "execution_count": 10,
     "metadata": {},
     "output_type": "execute_result"
    }
   ],
   "source": [
    "#check apakah variable target memiliki data yang imbalance?\n",
    "y_train.value_counts()"
   ]
  },
  {
   "attachments": {},
   "cell_type": "markdown",
   "metadata": {},
   "source": [
    "Diketahui class 0 dan 1 memiliki banyak record data yang tidak seimbang, sehingga perlu dilakukan class imbalance handling."
   ]
  },
  {
   "cell_type": "code",
   "execution_count": 11,
   "metadata": {},
   "outputs": [
    {
     "name": "stdout",
     "output_type": "stream",
     "text": [
      "Class data train awal :\n",
      " 0    10169\n",
      "1     3076\n",
      "Name: default_payment_next_month, dtype: int64\n",
      "Class data train dengan undersampling :\n",
      " 0    3076\n",
      "1    3076\n",
      "Name: default_payment_next_month, dtype: int64\n",
      "Class data train dengan oversampling :\n",
      " 0    10169\n",
      "1    10169\n",
      "Name: default_payment_next_month, dtype: int64\n",
      "Class data train dengan SMOTE :\n",
      " 0    10169\n",
      "1    10169\n",
      "Name: default_payment_next_month, dtype: int64\n"
     ]
    }
   ],
   "source": [
    "#penentuan variable (x) independen dengan variable (y) dependen\n",
    "X = X_train[[i for i in X_train.columns]]\n",
    "y = y_train['default_payment_next_month']\n",
    "\n",
    "#balancing over and under sampling through imblearn\n",
    "\n",
    "from imblearn import under_sampling, over_sampling\n",
    "\n",
    "X_under, y_under = under_sampling.RandomUnderSampler(random_state = 42).fit_resample(X, y)\n",
    "X_over, y_over = over_sampling.RandomOverSampler(random_state = 42).fit_resample(X, y)\n",
    "X_over_smote, y_over_smote = over_sampling.SMOTE(random_state = 42).fit_resample(X, y)\n",
    "\n",
    "print('Class data train awal :\\n',pd.Series(y).value_counts())\n",
    "print('Class data train dengan undersampling :\\n', pd.Series(y_under).value_counts())\n",
    "print('Class data train dengan oversampling :\\n', pd.Series(y_over).value_counts())\n",
    "print('Class data train dengan SMOTE :\\n', pd.Series(y_over_smote).value_counts())"
   ]
  },
  {
   "attachments": {},
   "cell_type": "markdown",
   "metadata": {},
   "source": [
    "### Data Modeling"
   ]
  },
  {
   "attachments": {},
   "cell_type": "markdown",
   "metadata": {},
   "source": [
    "#### Cross Validation"
   ]
  },
  {
   "attachments": {},
   "cell_type": "markdown",
   "metadata": {},
   "source": [
    "Hal pertama yang akan dilakukan adalah melakukan cross validation untuk mengevaluasi kinerja model dan memastikan bahwa model yang dibangun dapat generalisasi dengan baik pada data yang belum pernah dilihat sebelumnya."
   ]
  },
  {
   "cell_type": "code",
   "execution_count": 16,
   "metadata": {},
   "outputs": [],
   "source": [
    "#def function model cross_validation\n",
    "\n",
    "from sklearn.metrics import accuracy_score, precision_score, recall_score, f1_score, roc_auc_score\n",
    "from sklearn.model_selection import cross_validate\n",
    "\n",
    "def cross_validation(model):    \n",
    "    score_rec_under = cross_validate(model, X_under, y_under, cv=5, scoring='recall', return_train_score=True)\n",
    "    score_auc_under = cross_validate(model, X_under, y_under, cv=5, scoring='roc_auc', return_train_score=True)\n",
    "    print('(crossval train - under sampling): recall : '+ str(score_rec_under['train_score'].mean()) + ', roc_auc : ' + str(score_auc_under['train_score'].mean()))\n",
    "    print('(crossval test - under sampling): recall : '+ str(score_rec_under['test_score'].mean()) + ', roc_auc : ' + str(score_rec_under['test_score'].mean()))\n",
    "    score_rec_over = cross_validate(model, X_over, y_over, cv=5, scoring='recall', return_train_score=True)\n",
    "    score_auc_over = cross_validate(model, X_over, y_over, cv=5, scoring='roc_auc', return_train_score=True)\n",
    "    print('(crossval train - over sampling) recall : '+ str(score_rec_over['train_score'].mean()) + ', roc_auc : ' + str(score_auc_over['train_score'].mean()))\n",
    "    print('(crossval test - over sampling) recall : '+ str(score_auc_over['test_score'].mean()) + ', roc_auc : '+ str(score_auc_over['test_score'].mean()))\n",
    "    score_rec_smote = cross_validate(model, X_over_smote, y_over_smote, cv=5, scoring='recall', return_train_score=True)\n",
    "    score_auc_smote = cross_validate(model, X_over_smote, y_over_smote, cv=5, scoring='roc_auc', return_train_score=True)\n",
    "    print('(crossval train - smote) recall : '+ str(score_rec_smote['train_score'].mean())+ ', roc_auc : '+ str(score_auc_smote['train_score'].mean()))\n",
    "    print('(crossval test - smote) recall : '+ str(score_rec_smote['test_score'].mean()) + ', roc_auc : '+ str(score_auc_smote['test_score'].mean()))"
   ]
  },
  {
   "cell_type": "code",
   "execution_count": 17,
   "metadata": {},
   "outputs": [
    {
     "name": "stdout",
     "output_type": "stream",
     "text": [
      "(crossval train - under sampling): recall : 0.6591349606710207, roc_auc : 0.72686869911739\n",
      "(crossval test - under sampling): recall : 0.6544140006335128, roc_auc : 0.6544140006335128\n",
      "(crossval train - over sampling) recall : 0.6650359167659318, roc_auc : 0.7291345060521002\n",
      "(crossval test - over sampling) recall : 0.7273894681298534, roc_auc : 0.7273894681298534\n",
      "(crossval train - smote) recall : 0.6693626723089168, roc_auc : 0.7426036995029905\n",
      "(crossval test - smote) recall : 0.6676182709965994, roc_auc : 0.7398590041920754\n"
     ]
    }
   ],
   "source": [
    "#Cross Validation for Logistic Regression\n",
    "from sklearn.linear_model import LogisticRegression\n",
    "\n",
    "lr = LogisticRegression()\n",
    "cross_validation(lr)"
   ]
  },
  {
   "cell_type": "code",
   "execution_count": 18,
   "metadata": {},
   "outputs": [
    {
     "name": "stdout",
     "output_type": "stream",
     "text": [
      "(crossval train - under sampling): recall : 0.998618282607044, roc_auc : 0.9999989265014243\n",
      "(crossval test - under sampling): recall : 0.6277589483687045, roc_auc : 0.6277589483687045\n",
      "(crossval train - over sampling) recall : 0.9999016625177756, roc_auc : 0.9999988546590325\n",
      "(crossval test - over sampling) recall : 0.8799741145726301, roc_auc : 0.8799741145726301\n",
      "(crossval train - smote) recall : 0.9992132910768927, roc_auc : 0.999999649454732\n",
      "(crossval test - smote) recall : 0.7817944911903446, roc_auc : 0.7596972970784599\n"
     ]
    }
   ],
   "source": [
    "#Cross Validation for Decision Tree\n",
    "\n",
    "from sklearn.tree import DecisionTreeClassifier\n",
    "dt = DecisionTreeClassifier(random_state=42)\n",
    "cross_validation(dt)"
   ]
  },
  {
   "cell_type": "code",
   "execution_count": 19,
   "metadata": {},
   "outputs": [
    {
     "name": "stdout",
     "output_type": "stream",
     "text": [
      "(crossval train - under sampling): recall : 0.9633442020726587, roc_auc : 0.9953981544407601\n",
      "(crossval test - under sampling): recall : 0.6573408299018055, roc_auc : 0.6573408299018055\n",
      "(crossval train - over sampling) recall : 0.9397679642754188, roc_auc : 0.9823869092890487\n",
      "(crossval test - over sampling) recall : 0.9217958527407392, roc_auc : 0.9217958527407392\n",
      "(crossval train - smote) recall : 0.9142741495377598, roc_auc : 0.9890372127756898\n",
      "(crossval test - smote) recall : 0.7904596768849868, roc_auc : 0.9229728892174611\n"
     ]
    }
   ],
   "source": [
    "#Cross Validation for XGBoost\n",
    "\n",
    "from xgboost import XGBClassifier\n",
    "xg = XGBClassifier(random_state=42)\n",
    "cross_validation(xg)"
   ]
  },
  {
   "cell_type": "code",
   "execution_count": 20,
   "metadata": {},
   "outputs": [
    {
     "name": "stdout",
     "output_type": "stream",
     "text": [
      "(crossval train - under sampling): recall : 0.9997561966680211, roc_auc : 0.9999987283410281\n",
      "(crossval test - under sampling): recall : 0.6339346425931792, roc_auc : 0.6339346425931792\n",
      "(crossval train - over sampling) recall : 0.9999754148740012, roc_auc : 0.99997990074509\n",
      "(crossval test - over sampling) recall : 0.9839936706269858, roc_auc : 0.9839936706269858\n",
      "(crossval train - smote) recall : 0.9996804024273279, roc_auc : 0.999999604125572\n",
      "(crossval test - smote) recall : 0.8426647629743451, roc_auc : 0.9239500355440675\n"
     ]
    }
   ],
   "source": [
    "#Cross Validation for Random Forest\n",
    "\n",
    "from sklearn.ensemble import RandomForestClassifier\n",
    "rf = RandomForestClassifier(random_state=42)\n",
    "cross_validation(rf)"
   ]
  },
  {
   "attachments": {},
   "cell_type": "markdown",
   "metadata": {},
   "source": [
    "Secara keseluruhan, hasil cross validation dari semua model menunjukkan bahwa model cenderung mengalami overfitting pada data train dan underfitting pada data test, sehingga perlu dilakukan tuning pada model. Selain itu, hasil recall dan ROC AUC pada test set yang rendah juga menunjukkan bahwa model cenderung tidak dapat membedakan kelas positif dan negatif dengan baik pada data test, sehingga hasil prediksi pada kasus-kasus tertentu perlu dipertimbangkan dengan hati-hati. <br>\n",
    "Tetapi keseluruhan cross validation, memiliki nilai yang sudah cukup baik pada data dengan undersampling, oversampling, dan smote pada tiap algoritma model, sehingga tetap akan dilakukan testing pada tiap dataset.<br>\n",
    "Hasil di bawah merupakan hasil model dengan data train dengan performa terbaik pada tiap model."
   ]
  },
  {
   "attachments": {},
   "cell_type": "markdown",
   "metadata": {},
   "source": [
    "### Modeling"
   ]
  },
  {
   "attachments": {},
   "cell_type": "markdown",
   "metadata": {},
   "source": [
    "#### Evaluation function"
   ]
  },
  {
   "cell_type": "code",
   "execution_count": null,
   "metadata": {},
   "outputs": [],
   "source": [
    "# def evaluation function\n",
    "from sklearn.metrics import accuracy_score, precision_score, recall_score, f1_score, roc_auc_score\n",
    "import numpy as np\n",
    "from matplotlib import pyplot as plt\n",
    "\n",
    "def under_sampling_eval(model) :\n",
    "    y_pred = model.predict(X_test) #predict label\n",
    "    y_pred_train = model.predict(X_under) #predict label\n",
    "    y_pred_proba = model.predict_proba(X_test) #predict probability\n",
    "    y_pred_proba_train = model.predict_proba(X_under) #predict probability\n",
    "    \n",
    "    print('Accuracy (Train Set): %.2f' % accuracy_score(y_under, y_pred_train))\n",
    "    print('Accuracy (Test Set): %.2f' % accuracy_score(y_test, y_pred))\n",
    "    \n",
    "    print('Precision (Train Set): %.2f' % precision_score(y_under, y_pred_train))\n",
    "    print('Precision (Test Set): %.2f' % precision_score(y_test, y_pred))\n",
    "    \n",
    "    print('Recall (Train Set): %.2f' % recall_score(y_under, y_pred_train))\n",
    "    print('Recall (Test Set): %.2f' % recall_score(y_test, y_pred))\n",
    "    \n",
    "    print('AUC (train-proba): %.2f' % roc_auc_score(y_under, y_pred_proba_train[:,1]))\n",
    "    print('AUC (test-proba): %.2f' % roc_auc_score(y_test, y_pred_proba[:,1]))\n",
    "    \n",
    "    print('F1-Score (Train Set): %.2f' % f1_score(y_under, y_pred_train))\n",
    "    print('F1-Score (Test Set): %.2f' % f1_score(y_test, y_pred))"
   ]
  },
  {
   "cell_type": "code",
   "execution_count": null,
   "metadata": {},
   "outputs": [],
   "source": [
    "# def evaluation function\n",
    "from sklearn.metrics import accuracy_score, precision_score, recall_score, f1_score, roc_auc_score\n",
    "import numpy as np\n",
    "from matplotlib import pyplot as plt\n",
    "\n",
    "def over_sampling_eval(model) :\n",
    "    y_pred = model.predict(X_test) #predict label\n",
    "    y_pred_train = model.predict(X_over) #predict label\n",
    "    y_pred_proba = model.predict_proba(X_test) #predict probability\n",
    "    y_pred_proba_train = model.predict_proba(X_over) #predict probability\n",
    "    \n",
    "    print('Accuracy (Train Set): %.2f' % accuracy_score(y_over, y_pred_train))\n",
    "    print('Accuracy (Test Set): %.2f' % accuracy_score(y_test, y_pred))\n",
    "    \n",
    "    print('Precision (Train Set): %.2f' % precision_score(y_over, y_pred_train))\n",
    "    print('Precision (Test Set): %.2f' % precision_score(y_test, y_pred))\n",
    "    \n",
    "    print('Recall (Train Set): %.2f' % recall_score(y_over, y_pred_train))\n",
    "    print('Recall (Test Set): %.2f' % recall_score(y_test, y_pred))\n",
    "    \n",
    "    print('AUC (train-proba): %.2f' % roc_auc_score(y_over, y_pred_proba_train[:,1]))\n",
    "    print('AUC (test-proba): %.2f' % roc_auc_score(y_test, y_pred_proba[:,1]))\n",
    "    \n",
    "    print('F1-Score (Train Set): %.2f' % f1_score(y_over, y_pred_train))\n",
    "    print('F1-Score (Test Set): %.2f' % f1_score(y_test, y_pred))"
   ]
  },
  {
   "cell_type": "code",
   "execution_count": null,
   "metadata": {},
   "outputs": [],
   "source": [
    "# def evaluation function\n",
    "from sklearn.metrics import accuracy_score, precision_score, recall_score, f1_score, roc_auc_score\n",
    "import numpy as np\n",
    "from matplotlib import pyplot as plt\n",
    "\n",
    "def smote_sampling_eval(model) :\n",
    "    y_pred = model.predict(X_test) #predict label\n",
    "    y_pred_train = model.predict(X_over_smote) #predict label\n",
    "    y_pred_proba = model.predict_proba(X_test) #predict probability\n",
    "    y_pred_proba_train = model.predict_proba(X_over_smote) #predict probability\n",
    "    \n",
    "    print('Accuracy (Train Set): %.2f' % accuracy_score(y_over_smote, y_pred_train))\n",
    "    print('Accuracy (Test Set): %.2f' % accuracy_score(y_test, y_pred))\n",
    "    \n",
    "    print('Precision (Train Set): %.2f' % precision_score(y_over_smote, y_pred_train))\n",
    "    print('Precision (Test Set): %.2f' % precision_score(y_test, y_pred))\n",
    "    \n",
    "    print('Recall (Train Set): %.2f' % recall_score(y_over_smote, y_pred_train))\n",
    "    print('Recall (Test Set): %.2f' % recall_score(y_test, y_pred))\n",
    "    \n",
    "    print('AUC (train-proba): %.2f' % roc_auc_score(y_over_smote, y_pred_proba_train[:,1]))\n",
    "    print('AUC (test-proba): %.2f' % roc_auc_score(y_test, y_pred_proba[:,1]))\n",
    "    \n",
    "    print('F1-Score (Train Set): %.2f' % f1_score(y_over_smote, y_pred_train))\n",
    "    print('F1-Score (Test Set): %.2f' % f1_score(y_test, y_pred))"
   ]
  },
  {
   "attachments": {},
   "cell_type": "markdown",
   "metadata": {},
   "source": [
    "#### Logistic Regression"
   ]
  },
  {
   "cell_type": "code",
   "execution_count": null,
   "metadata": {},
   "outputs": [
    {
     "name": "stdout",
     "output_type": "stream",
     "text": [
      "Accuracy (Train Set): 0.68\n",
      "Accuracy (Test Set): 0.70\n",
      "Precision (Train Set): 0.69\n",
      "Precision (Test Set): 0.39\n",
      "Recall (Train Set): 0.67\n",
      "Recall (Test Set): 0.62\n",
      "AUC (train-proba): 0.74\n",
      "AUC (test-proba): 0.72\n",
      "F1-Score (Train Set): 0.68\n",
      "F1-Score (Test Set): 0.48\n"
     ]
    }
   ],
   "source": [
    "#run model\n",
    "from sklearn.linear_model import LogisticRegression\n",
    "lr = LogisticRegression()\n",
    "lr.fit(X_over_smote, y_over_smote)\n",
    "smote_sampling_eval(lr)"
   ]
  },
  {
   "attachments": {},
   "cell_type": "markdown",
   "metadata": {},
   "source": [
    "##### Hyperparameter Tuning"
   ]
  },
  {
   "cell_type": "code",
   "execution_count": null,
   "metadata": {},
   "outputs": [
    {
     "name": "stdout",
     "output_type": "stream",
     "text": [
      "Accuracy (Train Set): 0.68\n",
      "Accuracy (Test Set): 0.70\n",
      "Precision (Train Set): 0.69\n",
      "Precision (Test Set): 0.39\n",
      "Recall (Train Set): 0.67\n",
      "Recall (Test Set): 0.62\n",
      "AUC (train-proba): 0.74\n",
      "AUC (test-proba): 0.72\n",
      "F1-Score (Train Set): 0.68\n",
      "F1-Score (Test Set): 0.48\n"
     ]
    }
   ],
   "source": [
    "from sklearn.model_selection import RandomizedSearchCV, GridSearchCV\n",
    "import numpy as np\n",
    "\n",
    "penalty = ['l1', 'l2']\n",
    "C = [float(x) for x in np.linspace(0.0001, 1, 100)]\n",
    "hyperparameters = dict(penalty=penalty, C=C)\n",
    "\n",
    "lr = LogisticRegression()\n",
    "model = RandomizedSearchCV(lr, hyperparameters, scoring='recall', cv=5)\n",
    "model.fit(X_over_smote, y_over_smote)\n",
    "smote_sampling_eval(model)"
   ]
  },
  {
   "attachments": {},
   "cell_type": "markdown",
   "metadata": {},
   "source": [
    "##### Analyzing Curve C"
   ]
  },
  {
   "cell_type": "code",
   "execution_count": null,
   "metadata": {},
   "outputs": [
    {
     "name": "stdout",
     "output_type": "stream",
     "text": [
      "param value: 0.0001; train: 0.6356573901071885; test: 0.5838068181818182\n",
      "param value: 0.010353846153846154; train: 0.6654538302684629; test: 0.6171875\n",
      "param value: 0.02060769230769231; train: 0.6662405349591897; test: 0.6164772727272727\n",
      "param value: 0.030861538461538465; train: 0.667322253908939; test: 0.6178977272727273\n",
      "param value: 0.04111538461538462; train: 0.6675189300816207; test: 0.6186079545454546\n",
      "param value: 0.05136923076923078; train: 0.667322253908939; test: 0.6193181818181818\n",
      "param value: 0.06162307692307693; train: 0.6676172681679614; test: 0.6193181818181818\n",
      "param value: 0.07187692307692309; train: 0.6677156062543023; test: 0.6193181818181818\n",
      "param value: 0.08213076923076924; train: 0.6676172681679614; test: 0.6186079545454546\n",
      "param value: 0.0923846153846154; train: 0.6678139443406431; test: 0.6186079545454546\n",
      "param value: 0.10263846153846155; train: 0.6681089585996657; test: 0.6186079545454546\n",
      "param value: 0.11289230769230771; train: 0.6682072966860065; test: 0.6178977272727273\n",
      "param value: 0.12314615384615386; train: 0.6683056347723473; test: 0.6178977272727273\n",
      "param value: 0.13340000000000002; train: 0.6682072966860065; test: 0.6178977272727273\n",
      "param value: 0.14365384615384616; train: 0.6681089585996657; test: 0.6178977272727273\n",
      "param value: 0.1539076923076923; train: 0.6681089585996657; test: 0.6178977272727273\n",
      "param value: 0.16416153846153847; train: 0.6686006490313698; test: 0.6178977272727273\n",
      "param value: 0.17441538461538464; train: 0.6683056347723473; test: 0.6178977272727273\n",
      "param value: 0.18466923076923078; train: 0.6684039728586881; test: 0.6178977272727273\n",
      "param value: 0.19492307692307692; train: 0.6686006490313698; test: 0.6178977272727273\n",
      "param value: 0.2051769230769231; train: 0.6686006490313698; test: 0.6178977272727273\n",
      "param value: 0.21543076923076926; train: 0.668502310945029; test: 0.6178977272727273\n",
      "param value: 0.2256846153846154; train: 0.6686006490313698; test: 0.6178977272727273\n",
      "param value: 0.23593846153846154; train: 0.6686006490313698; test: 0.6178977272727273\n",
      "param value: 0.2461923076923077; train: 0.6686006490313698; test: 0.6178977272727273\n",
      "param value: 0.2564461538461539; train: 0.6686006490313698; test: 0.6178977272727273\n",
      "param value: 0.26670000000000005; train: 0.6686006490313698; test: 0.6178977272727273\n",
      "param value: 0.27695384615384616; train: 0.668502310945029; test: 0.6178977272727273\n",
      "param value: 0.28720769230769233; train: 0.668502310945029; test: 0.6178977272727273\n",
      "param value: 0.2974615384615385; train: 0.668502310945029; test: 0.6178977272727273\n",
      "param value: 0.3077153846153846; train: 0.6684039728586881; test: 0.6178977272727273\n",
      "param value: 0.3179692307692308; train: 0.6684039728586881; test: 0.6178977272727273\n",
      "param value: 0.32822307692307695; train: 0.6684039728586881; test: 0.6178977272727273\n",
      "param value: 0.3384769230769231; train: 0.6683056347723473; test: 0.6178977272727273\n",
      "param value: 0.3487307692307693; train: 0.6684039728586881; test: 0.6178977272727273\n",
      "param value: 0.3589846153846154; train: 0.6683056347723473; test: 0.6178977272727273\n",
      "param value: 0.36923846153846157; train: 0.6683056347723473; test: 0.6178977272727273\n",
      "param value: 0.37949230769230774; train: 0.6683056347723473; test: 0.6178977272727273\n",
      "param value: 0.38974615384615385; train: 0.6682072966860065; test: 0.6178977272727273\n",
      "param value: 0.4; train: 0.6683056347723473; test: 0.6178977272727273\n"
     ]
    },
    {
     "data": {
      "image/png": "[encoded data removed]",
      "text/plain": [
       "<Figure size 640x480 with 1 Axes>"
      ]
     },
     "metadata": {},
     "output_type": "display_data"
    }
   ],
   "source": [
    "def draw_learning_curve_lr(param_values):\n",
    "    train_scores = []\n",
    "    test_scores = []\n",
    "\n",
    "    for c in param_values:\n",
    "        model = LogisticRegression(penalty='l2', C=c)\n",
    "        model.fit(X_over_smote, y_over_smote)\n",
    "\n",
    "        # eval on train\n",
    "        y_pred_train = model.predict(X_over_smote)\n",
    "        train_recall = recall_score(y_over_smote, y_pred_train)\n",
    "        train_scores.append(train_recall)\n",
    "\n",
    "        # eval on test\n",
    "        y_pred = model.predict(X_test)\n",
    "        test_recall = recall_score(y_test, y_pred)\n",
    "        test_scores.append(test_recall)\n",
    "\n",
    "        print('param value: ' + str(c) + '; train: ' + str(train_recall) + '; test: '+ str(test_recall))\n",
    "\n",
    "    plt.plot(param_values, train_scores, label='Train')\n",
    "    plt.plot(param_values, test_scores, label='Test')\n",
    "    plt.xlabel('C')\n",
    "    plt.ylabel('recall')\n",
    "    plt.title('Learning Curve - Hyperparameter C - Logistic Regression')\n",
    "    plt.legend()\n",
    "    plt.show()\n",
    "\n",
    "param_values = [float(x) for x in np.linspace(0.0001, 0.4, 40)]\n",
    "draw_learning_curve_lr(param_values)"
   ]
  },
  {
   "attachments": {},
   "cell_type": "markdown",
   "metadata": {},
   "source": [
    "Best range nilai C = 0.05 - 0.1"
   ]
  },
  {
   "cell_type": "markdown",
   "metadata": {},
   "source": [
    "##### Model After Learning Curve"
   ]
  },
  {
   "cell_type": "code",
   "execution_count": null,
   "metadata": {},
   "outputs": [
    {
     "name": "stdout",
     "output_type": "stream",
     "text": [
      "Accuracy (Train Set): 0.68\n",
      "Accuracy (Test Set): 0.70\n",
      "Precision (Train Set): 0.69\n",
      "Precision (Test Set): 0.40\n",
      "Recall (Train Set): 0.67\n",
      "Recall (Test Set): 0.62\n",
      "AUC (train-proba): 0.74\n",
      "AUC (test-proba): 0.72\n",
      "F1-Score (Train Set): 0.68\n",
      "F1-Score (Test Set): 0.48\n"
     ]
    }
   ],
   "source": [
    "from sklearn.model_selection import GridSearchCV\n",
    "import numpy as np\n",
    "\n",
    "penalty = ['l1', 'l2']\n",
    "C = [float(x) for x in np.linspace(0.05, 0.1, 10)]\n",
    "hyperparameters = dict(penalty=penalty, C=C)\n",
    "\n",
    "lr = LogisticRegression()\n",
    "model = GridSearchCV(lr, hyperparameters, scoring='recall', cv=5)\n",
    "model.fit(X_over_smote, y_over_smote)\n",
    "smote_sampling_eval(model)"
   ]
  },
  {
   "attachments": {},
   "cell_type": "markdown",
   "metadata": {},
   "source": [
    "#### Decision Tree"
   ]
  },
  {
   "cell_type": "code",
   "execution_count": null,
   "metadata": {},
   "outputs": [
    {
     "name": "stdout",
     "output_type": "stream",
     "text": [
      "Accuracy (Train Set): 1.00\n",
      "Accuracy (Test Set): 0.72\n",
      "Precision (Train Set): 1.00\n",
      "Precision (Test Set): 0.38\n",
      "Recall (Train Set): 1.00\n",
      "Recall (Test Set): 0.40\n",
      "AUC (train-proba): 1.00\n",
      "AUC (test-proba): 0.60\n",
      "F1-Score (Train Set): 1.00\n",
      "F1-Score (Test Set): 0.39\n"
     ]
    }
   ],
   "source": [
    "from sklearn.tree import DecisionTreeClassifier\n",
    "dt = DecisionTreeClassifier(random_state = 42)\n",
    "dt.fit(X_over, y_over) \n",
    "over_sampling_eval(dt)"
   ]
  },
  {
   "attachments": {},
   "cell_type": "markdown",
   "metadata": {},
   "source": [
    "##### Hyperparameter Tuning"
   ]
  },
  {
   "cell_type": "code",
   "execution_count": null,
   "metadata": {},
   "outputs": [
    {
     "name": "stdout",
     "output_type": "stream",
     "text": [
      "Accuracy (Train Set): 0.97\n",
      "Accuracy (Test Set): 0.71\n",
      "Precision (Train Set): 0.97\n",
      "Precision (Test Set): 0.37\n",
      "Recall (Train Set): 0.97\n",
      "Recall (Test Set): 0.40\n",
      "AUC (train-proba): 1.00\n",
      "AUC (test-proba): 0.61\n",
      "F1-Score (Train Set): 0.97\n",
      "F1-Score (Test Set): 0.39\n"
     ]
    }
   ],
   "source": [
    "from sklearn.model_selection import RandomizedSearchCV, GridSearchCV\n",
    "from scipy.stats import uniform\n",
    "import numpy as np\n",
    "\n",
    "# List of hyperparameter\n",
    "max_depth = [int(x) for x in np.linspace(1, 110, num = 30)] # Maximum number of levels in tree\n",
    "min_samples_split = [2, 5, 10, 100] # Minimum number of samples required to split a node\n",
    "min_samples_leaf = [1, 2, 4, 10, 20, 50] # Minimum number of samples required at each leaf node\n",
    "max_features = ['auto', 'sqrt'] # Number of features to consider at every split\n",
    "criterion = ['gini','entropy']\n",
    "splitter = ['best','random']\n",
    "\n",
    "hyperparameters = dict(max_depth=max_depth, \n",
    "                       min_samples_split=min_samples_split, \n",
    "                       min_samples_leaf=min_samples_leaf,\n",
    "                       max_features=max_features,\n",
    "                       criterion=criterion,\n",
    "                       splitter=splitter\n",
    "                      )\n",
    "\n",
    "# Inisialisasi Model\n",
    "dt = DecisionTreeClassifier(random_state=42)\n",
    "model = RandomizedSearchCV(dt, hyperparameters, cv=5, scoring='recall')\n",
    "model.fit(X_over, y_over)\n",
    "\n",
    "# Predict & Evaluation\n",
    "y_pred = model.predict(X_test)#Check performa dari model\n",
    "over_sampling_eval(model)"
   ]
  },
  {
   "attachments": {},
   "cell_type": "markdown",
   "metadata": {},
   "source": [
    "##### Analyzing Curve"
   ]
  },
  {
   "attachments": {},
   "cell_type": "markdown",
   "metadata": {},
   "source": [
    "Max_Depth"
   ]
  },
  {
   "cell_type": "code",
   "execution_count": null,
   "metadata": {},
   "outputs": [
    {
     "name": "stdout",
     "output_type": "stream",
     "text": [
      "param value: 1; train: 0.5118497394040712; test: 0.5241477272727273\n",
      "param value: 2; train: 0.5850132756416561; test: 0.578125\n",
      "param value: 3; train: 0.5850132756416561; test: 0.578125\n",
      "param value: 4; train: 0.5508899596813847; test: 0.5340909090909091\n",
      "param value: 5; train: 0.5722293244173469; test: 0.5504261363636364\n",
      "param value: 6; train: 0.580686399842659; test: 0.5419034090909091\n",
      "param value: 7; train: 0.6335922902940309; test: 0.5639204545454546\n",
      "param value: 8; train: 0.6432294227554332; test: 0.546875\n",
      "param value: 9; train: 0.6944635657390107; test: 0.5681818181818182\n",
      "param value: 10; train: 0.7120660831940211; test: 0.5397727272727273\n",
      "param value: 11; train: 0.7344871668797325; test: 0.5355113636363636\n",
      "param value: 12; train: 0.7975218802242109; test: 0.5475852272727273\n",
      "param value: 13; train: 0.837348805192251; test: 0.5333806818181818\n",
      "param value: 14; train: 0.8698003736847281; test: 0.5305397727272727\n",
      "param value: 15; train: 0.8944832333562789; test: 0.5071022727272727\n",
      "param value: 16; train: 0.9315566919067755; test: 0.5142045454545454\n",
      "param value: 17; train: 0.9507326187432392; test: 0.4978693181818182\n",
      "param value: 18; train: 0.9627298652768217; test: 0.4865056818181818\n",
      "param value: 19; train: 0.9778739305733111; test: 0.4737215909090909\n",
      "param value: 20; train: 0.9848559347035106; test: 0.4580965909090909\n",
      "param value: 21; train: 0.9897728390205527; test: 0.44389204545454547\n",
      "param value: 22; train: 0.9935096863015046; test: 0.4367897727272727\n",
      "param value: 23; train: 0.993214672042482; test: 0.42613636363636365\n",
      "param value: 24; train: 0.996951519323434; test: 0.4240056818181818\n",
      "param value: 25; train: 0.9979349001868424; test: 0.4133522727272727\n",
      "param value: 26; train: 0.9981315763595241; test: 0.42826704545454547\n",
      "param value: 27; train: 0.9993116333956141; test: 0.4247159090909091\n",
      "param value: 28; train: 1.0; test: 0.4147727272727273\n",
      "param value: 29; train: 0.9996066476546367; test: 0.4133522727272727\n",
      "param value: 30; train: 1.0; test: 0.40980113636363635\n",
      "param value: 31; train: 1.0; test: 0.4169034090909091\n",
      "param value: 32; train: 0.9998033238273183; test: 0.3977272727272727\n",
      "param value: 33; train: 1.0; test: 0.40767045454545453\n",
      "param value: 34; train: 1.0; test: 0.4161931818181818\n",
      "param value: 35; train: 1.0; test: 0.39701704545454547\n",
      "param value: 36; train: 1.0; test: 0.4005681818181818\n",
      "param value: 37; train: 1.0; test: 0.4112215909090909\n",
      "param value: 38; train: 0.9998033238273183; test: 0.4041193181818182\n",
      "param value: 39; train: 0.999409971481955; test: 0.4090909090909091\n",
      "param value: 40; train: 1.0; test: 0.41264204545454547\n",
      "param value: 41; train: 1.0; test: 0.3977272727272727\n",
      "param value: 42; train: 1.0; test: 0.40482954545454547\n",
      "param value: 43; train: 1.0; test: 0.3977272727272727\n",
      "param value: 44; train: 1.0; test: 0.4112215909090909\n",
      "param value: 45; train: 1.0; test: 0.40980113636363635\n",
      "param value: 46; train: 1.0; test: 0.40767045454545453\n",
      "param value: 47; train: 1.0; test: 0.4083806818181818\n",
      "param value: 48; train: 1.0; test: 0.4161931818181818\n",
      "param value: 49; train: 1.0; test: 0.3984375\n",
      "param value: 50; train: 1.0; test: 0.4055397727272727\n"
     ]
    },
    {
     "data": {
      "image/png": "[encoded data removed]",
      "text/plain": [
       "<Figure size 640x480 with 1 Axes>"
      ]
     },
     "metadata": {},
     "output_type": "display_data"
    }
   ],
   "source": [
    "import numpy as np\n",
    "from matplotlib import pyplot as plt\n",
    "from sklearn.tree import DecisionTreeClassifier\n",
    "\n",
    "def draw_learning_curve_dt(param_values):\n",
    "    train_scores = []\n",
    "    test_scores = []\n",
    "\n",
    "    for i in param_values:\n",
    "        model = DecisionTreeClassifier(max_depth=i)\n",
    "        model.fit(X_over, y_over)\n",
    "\n",
    "        # eval on train\n",
    "        y_pred_train = model.predict(X_over)\n",
    "        train_recall = recall_score(y_over, y_pred_train)\n",
    "        train_scores.append(train_recall)\n",
    "\n",
    "        # eval on test\n",
    "        y_pred = model.predict(X_test)\n",
    "        test_recall = recall_score(y_test, y_pred)\n",
    "        test_scores.append(test_recall)\n",
    "\n",
    "        print('param value: ' + str(i) + '; train: ' + str(train_recall) + '; test: '+ str(test_recall))\n",
    "\n",
    "    plt.plot(param_values, train_scores, label='Train')\n",
    "    plt.plot(param_values, test_scores, label='Test')\n",
    "    plt.xlabel('i')\n",
    "    plt.ylabel('recall')\n",
    "    plt.title('Learning Curve - Hyperparameter max_depth')\n",
    "    plt.legend()\n",
    "    plt.show()\n",
    "\n",
    "# learning curve\n",
    "import numpy as np\n",
    "param_values = [int(x) for x in np.linspace(1,50,50)]\n",
    "draw_learning_curve_dt(param_values)"
   ]
  },
  {
   "attachments": {},
   "cell_type": "markdown",
   "metadata": {},
   "source": [
    "Dari max_depth, nilai kedalaman ideal berada pada sekitaran range 1 hingga 10"
   ]
  },
  {
   "cell_type": "markdown",
   "metadata": {},
   "source": [
    "##### Min_Samples_Leaf"
   ]
  },
  {
   "cell_type": "code",
   "execution_count": null,
   "metadata": {},
   "outputs": [
    {
     "name": "stdout",
     "output_type": "stream",
     "text": [
      "param value: 1; train: 1.0; test: 0.4069602272727273\n",
      "param value: 2; train: 0.9862326679122825; test: 0.4247159090909091\n",
      "param value: 3; train: 0.9713836168748157; test: 0.4481534090909091\n",
      "param value: 4; train: 0.9439472907857213; test: 0.4453125\n",
      "param value: 5; train: 0.938637034123316; test: 0.47017045454545453\n",
      "param value: 6; train: 0.9103156652571541; test: 0.4502840909090909\n",
      "param value: 7; train: 0.9009735470547743; test: 0.4694602272727273\n",
      "param value: 8; train: 0.8951715999606648; test: 0.4893465909090909\n",
      "param value: 9; train: 0.8991051234142984; test: 0.5092329545454546\n",
      "param value: 10; train: 0.8832726915134231; test: 0.5184659090909091\n",
      "param value: 11; train: 0.8850427770675583; test: 0.5163352272727273\n",
      "param value: 12; train: 0.8722588258432491; test: 0.5092329545454546\n",
      "param value: 13; train: 0.8659651883174353; test: 0.5255681818181818\n",
      "param value: 14; train: 0.8634083980725735; test: 0.5348011363636364\n",
      "param value: 15; train: 0.8652768217130494; test: 0.5497159090909091\n",
      "param value: 16; train: 0.8555413511653063; test: 0.5404829545454546\n",
      "param value: 17; train: 0.8526895466614219; test: 0.5411931818181818\n",
      "param value: 18; train: 0.8433474284590422; test: 0.5497159090909091\n",
      "param value: 19; train: 0.8470842757399941; test: 0.5497159090909091\n",
      "param value: 20; train: 0.8444291474087914; test: 0.5511363636363636\n",
      "param value: 21; train: 0.8347920149473891; test: 0.5596590909090909\n",
      "param value: 22; train: 0.8304651391483922; test: 0.5632102272727273\n",
      "param value: 23; train: 0.8344970006883666; test: 0.5830965909090909\n",
      "param value: 24; train: 0.837348805192251; test: 0.5930397727272727\n",
      "param value: 25; train: 0.8292850821123021; test: 0.5830965909090909\n",
      "param value: 26; train: 0.822598092241125; test: 0.5724431818181818\n",
      "param value: 27; train: 0.8253515586586685; test: 0.5873579545454546\n",
      "param value: 28; train: 0.8168944832333562; test: 0.5866477272727273\n",
      "param value: 29; train: 0.8117809027436326; test: 0.5916193181818182\n",
      "param value: 30; train: 0.8074540269446356; test: 0.5944602272727273\n",
      "param value: 31; train: 0.8089290982397482; test: 0.5987215909090909\n",
      "param value: 32; train: 0.8098141410168158; test: 0.6029829545454546\n",
      "param value: 33; train: 0.7978168944832333; test: 0.5958806818181818\n",
      "param value: 34; train: 0.7963418231881207; test: 0.5994318181818182\n",
      "param value: 35; train: 0.7981119087422559; test: 0.6015625\n",
      "param value: 36; train: 0.8008653751597994; test: 0.6122159090909091\n",
      "param value: 37; train: 0.7883764381945128; test: 0.6072443181818182\n",
      "param value: 38; train: 0.7825744911004032; test: 0.6022727272727273\n",
      "param value: 39; train: 0.78572130986331; test: 0.609375\n",
      "param value: 40; train: 0.7798210246828596; test: 0.5951704545454546\n",
      "param value: 41; train: 0.7784442914740879; test: 0.6058238636363636\n",
      "param value: 42; train: 0.777165896351657; test: 0.6022727272727273\n",
      "param value: 43; train: 0.7739207395024092; test: 0.6015625\n",
      "param value: 44; train: 0.7764775297472711; test: 0.6115056818181818\n",
      "param value: 45; train: 0.7721506539482742; test: 0.6136363636363636\n",
      "param value: 46; train: 0.7685121447536631; test: 0.6107954545454546\n",
      "param value: 47; train: 0.7653653259907562; test: 0.6100852272727273\n",
      "param value: 48; train: 0.7588750122922608; test: 0.6036931818181818\n",
      "param value: 49; train: 0.7576949552561707; test: 0.6029829545454546\n",
      "param value: 50; train: 0.7588750122922608; test: 0.5994318181818182\n",
      "param value: 51; train: 0.7610384501917593; test: 0.6015625\n",
      "param value: 52; train: 0.7589733503786016; test: 0.6015625\n",
      "param value: 53; train: 0.7586783361195791; test: 0.6051136363636364\n",
      "param value: 54; train: 0.7575966171698298; test: 0.6107954545454546\n",
      "param value: 55; train: 0.7604484216737142; test: 0.6164772727272727\n",
      "param value: 56; train: 0.7603500835873734; test: 0.6136363636363636\n",
      "param value: 57; train: 0.7653653259907562; test: 0.6207386363636364\n",
      "param value: 58; train: 0.7652669879044154; test: 0.6207386363636364\n",
      "param value: 59; train: 0.7619234929688268; test: 0.6200284090909091\n",
      "param value: 60; train: 0.7620218310551676; test: 0.6228693181818182\n",
      "param value: 61; train: 0.7573016029108074; test: 0.6207386363636364\n",
      "param value: 62; train: 0.7546464745796047; test: 0.6193181818181818\n",
      "param value: 63; train: 0.7576949552561707; test: 0.6228693181818182\n",
      "param value: 64; train: 0.7612351263644409; test: 0.6235795454545454\n",
      "param value: 65; train: 0.7615301406234635; test: 0.6157670454545454\n",
      "param value: 66; train: 0.7609401121054185; test: 0.6164772727272727\n",
      "param value: 67; train: 0.756908250565444; test: 0.6164772727272727\n",
      "param value: 68; train: 0.7601534074146917; test: 0.6186079545454546\n",
      "param value: 69; train: 0.7647752974727112; test: 0.6271306818181818\n",
      "param value: 70; train: 0.7660536925951421; test: 0.6342329545454546\n",
      "param value: 71; train: 0.7653653259907562; test: 0.6342329545454546\n",
      "param value: 72; train: 0.7581866456878749; test: 0.6264204545454546\n",
      "param value: 73; train: 0.7547448126659455; test: 0.6228693181818182\n",
      "param value: 74; train: 0.748352837053791; test: 0.6136363636363636\n",
      "param value: 75; train: 0.7439276231684532; test: 0.6122159090909091\n",
      "param value: 76; train: 0.7378306618153211; test: 0.6058238636363636\n",
      "param value: 77; train: 0.7376339856426394; test: 0.6058238636363636\n",
      "param value: 78; train: 0.7376339856426394; test: 0.6058238636363636\n",
      "param value: 79; train: 0.7420591995279772; test: 0.6107954545454546\n",
      "param value: 80; train: 0.7476644704494051; test: 0.6171875\n",
      "param value: 81; train: 0.7579899695151933; test: 0.6228693181818182\n",
      "param value: 82; train: 0.7543514603205822; test: 0.6193181818181818\n",
      "param value: 83; train: 0.7538597698888779; test: 0.6193181818181818\n",
      "param value: 84; train: 0.7536630937161963; test: 0.6178977272727273\n",
      "param value: 85; train: 0.7531714032844921; test: 0.6271306818181818\n",
      "param value: 86; train: 0.7532697413708329; test: 0.6321022727272727\n",
      "param value: 87; train: 0.7585799980332383; test: 0.6370738636363636\n",
      "param value: 88; train: 0.7621201691415085; test: 0.6441761363636364\n",
      "param value: 89; train: 0.7522863605074245; test: 0.6384943181818182\n",
      "param value: 90; train: 0.7463860753269741; test: 0.6349431818181818\n",
      "param value: 91; train: 0.7436326089094306; test: 0.6313920454545454\n",
      "param value: 92; train: 0.7388140426787295; test: 0.6264204545454546\n",
      "param value: 93; train: 0.7388140426787295; test: 0.6271306818181818\n",
      "param value: 94; train: 0.7377323237289802; test: 0.625\n",
      "param value: 95; train: 0.7377323237289802; test: 0.625\n",
      "param value: 96; train: 0.7404857901465237; test: 0.6299715909090909\n",
      "param value: 97; train: 0.7434359327367489; test: 0.6349431818181818\n",
      "param value: 98; train: 0.7434359327367489; test: 0.6335227272727273\n",
      "param value: 99; train: 0.7434359327367489; test: 0.6349431818181818\n",
      "param value: 100; train: 0.7363555905202085; test: 0.6306818181818182\n"
     ]
    },
    {
     "data": {
      "image/png": "[encoded data removed]",
      "text/plain": [
       "<Figure size 640x480 with 1 Axes>"
      ]
     },
     "metadata": {},
     "output_type": "display_data"
    }
   ],
   "source": [
    "import numpy as np\n",
    "from matplotlib import pyplot as plt\n",
    "from sklearn.tree import DecisionTreeClassifier\n",
    "\n",
    "def draw_learning_curve_dt(param_values):\n",
    "    train_scores = []\n",
    "    test_scores = []\n",
    "\n",
    "    for i in param_values:\n",
    "        model = DecisionTreeClassifier(min_samples_leaf=i)\n",
    "        model.fit(X_over, y_over)\n",
    "\n",
    "        # eval on train\n",
    "        y_pred_train = model.predict(X_over)\n",
    "        train_recall = recall_score(y_over, y_pred_train)\n",
    "        train_scores.append(train_recall)\n",
    "\n",
    "        # eval on test\n",
    "        y_pred = model.predict(X_test)\n",
    "        test_recall = recall_score(y_test, y_pred)\n",
    "        test_scores.append(test_recall)\n",
    "\n",
    "        print('param value: ' + str(i) + '; train: ' + str(train_recall) + '; test: '+ str(test_recall))\n",
    "\n",
    "    plt.plot(param_values, train_scores, label='Train')\n",
    "    plt.plot(param_values, test_scores, label='Test')\n",
    "    plt.xlabel('i')\n",
    "    plt.ylabel('recall')\n",
    "    plt.title('Learning Curve - Hyperparameter min_samples_leaf')\n",
    "    plt.legend()\n",
    "    plt.show()\n",
    "\n",
    "# learning curve\n",
    "import numpy as np\n",
    "param_values = [int(x) for x in np.linspace(1,100,100)]\n",
    "draw_learning_curve_dt(param_values)"
   ]
  },
  {
   "attachments": {},
   "cell_type": "markdown",
   "metadata": {},
   "source": [
    "Dari min_samples_leaf, nilai kedalaman ideal berada pada sekitaran range 80 hingga 100"
   ]
  },
  {
   "cell_type": "markdown",
   "metadata": {},
   "source": [
    "##### Model With Parameter After Learning Curve"
   ]
  },
  {
   "cell_type": "code",
   "execution_count": null,
   "metadata": {},
   "outputs": [
    {
     "name": "stdout",
     "output_type": "stream",
     "text": [
      "Accuracy (Train Set): 0.73\n",
      "Accuracy (Test Set): 0.74\n",
      "Precision (Train Set): 0.76\n",
      "Precision (Test Set): 0.44\n",
      "Recall (Train Set): 0.68\n",
      "Recall (Test Set): 0.61\n",
      "AUC (train-proba): 0.81\n",
      "AUC (test-proba): 0.75\n",
      "F1-Score (Train Set): 0.72\n",
      "F1-Score (Test Set): 0.51\n"
     ]
    }
   ],
   "source": [
    "from sklearn.model_selection import GridSearchCV\n",
    "from scipy.stats import uniform\n",
    "import numpy as np\n",
    "\n",
    "# List of hyperparameter\n",
    "max_depth = [int(x) for x in np.linspace(1,10,10)] # Maximum number of levels in tree\n",
    "min_samples_leaf = [int(x) for x in np.linspace(80,100,20)] # Minimum number of samples required at each leaf node\n",
    "\n",
    "hyperparameters = dict(max_depth=max_depth, \n",
    "                       min_samples_leaf=min_samples_leaf,\n",
    "                       )\n",
    "\n",
    "# Inisialisasi Model\n",
    "dt = DecisionTreeClassifier(random_state=42)\n",
    "model = GridSearchCV(dt, hyperparameters, cv=5, scoring='recall')\n",
    "model.fit(X_over, y_over)\n",
    "\n",
    "# Predict & Evaluation\n",
    "y_pred = model.predict(X_test)#Check performa dari model\n",
    "over_sampling_eval(model)"
   ]
  },
  {
   "cell_type": "markdown",
   "metadata": {},
   "source": [
    "### XGBoost"
   ]
  },
  {
   "cell_type": "markdown",
   "metadata": {},
   "source": [
    "#### Model"
   ]
  },
  {
   "cell_type": "code",
   "execution_count": null,
   "metadata": {},
   "outputs": [
    {
     "name": "stdout",
     "output_type": "stream",
     "text": [
      "Accuracy (Train Set): 0.94\n",
      "Accuracy (Test Set): 0.80\n",
      "Precision (Train Set): 0.97\n",
      "Precision (Test Set): 0.56\n",
      "Recall (Train Set): 0.90\n",
      "Recall (Test Set): 0.43\n",
      "AUC (train-proba): 0.99\n",
      "AUC (test-proba): 0.75\n",
      "F1-Score (Train Set): 0.94\n",
      "F1-Score (Test Set): 0.49\n"
     ]
    }
   ],
   "source": [
    "from xgboost import XGBClassifier\n",
    "xg = XGBClassifier(random_state=42)\n",
    "xg.fit(X_over_smote, y_over_smote)\n",
    "smote_sampling_eval(xg)"
   ]
  },
  {
   "cell_type": "markdown",
   "metadata": {},
   "source": [
    "#### Hyperparameter Tuning"
   ]
  },
  {
   "cell_type": "code",
   "execution_count": null,
   "metadata": {},
   "outputs": [
    {
     "name": "stdout",
     "output_type": "stream",
     "text": [
      "Accuracy (Train Set): 0.99\n",
      "Accuracy (Test Set): 0.77\n",
      "Precision (Train Set): 0.99\n",
      "Precision (Test Set): 0.47\n",
      "Recall (Train Set): 0.99\n",
      "Recall (Test Set): 0.41\n",
      "AUC (train-proba): 1.00\n",
      "AUC (test-proba): 0.71\n",
      "F1-Score (Train Set): 0.99\n",
      "F1-Score (Test Set): 0.44\n"
     ]
    }
   ],
   "source": [
    "from sklearn.model_selection import RandomizedSearchCV, GridSearchCV\n",
    "\n",
    "#Menjadikan ke dalam bentuk dictionary\n",
    "hyperparameters = {\n",
    "                    'max_depth' : [int(x) for x in np.linspace(0, 1, num = 10)],\n",
    "                    'min_child_weight' : [int(x) for x in np.linspace(1, 10, num = 11)],\n",
    "                    'gamma' : [float(x) for x in np.linspace(0, 1, num = 11)],\n",
    "                    'tree_method' : ['auto', 'exact', 'approx', 'hist'],\n",
    "\n",
    "                    'colsample_bytree' : [float(x) for x in np.linspace(0, 1, num = 11)],\n",
    "                    'eta' : [float(x) for x in np.linspace(0, 1, num = 100)],\n",
    "\n",
    "                    'lambda' : [float(x) for x in np.linspace(0, 1, num = 11)],\n",
    "                    'alpha' : [float(x) for x in np.linspace(0, 1, num = 11)]\n",
    "                    }\n",
    "\n",
    "# Init\n",
    "from xgboost import XGBClassifier\n",
    "xg = XGBClassifier(random_state=42)\n",
    "xg_tuned = RandomizedSearchCV(xg, hyperparameters, cv=5, random_state=42, scoring='recall')\n",
    "xg_tuned.fit(X_over_smote, y_over_smote)\n",
    "\n",
    "# Predict & Evaluation\n",
    "smote_sampling_eval(xg_tuned)"
   ]
  },
  {
   "cell_type": "markdown",
   "metadata": {},
   "source": [
    "#### Analyzing Curver Max_Depth"
   ]
  },
  {
   "cell_type": "code",
   "execution_count": null,
   "metadata": {},
   "outputs": [
    {
     "name": "stdout",
     "output_type": "stream",
     "text": [
      "param value: 1; train: 0.6434260989281149; test: 0.5731534090909091\n",
      "param value: 1; train: 0.6434260989281149; test: 0.5731534090909091\n",
      "param value: 2; train: 0.7653653259907562; test: 0.5106534090909091\n",
      "param value: 3; train: 0.8108958599665651; test: 0.45951704545454547\n",
      "param value: 4; train: 0.8419706952502705; test: 0.44673295454545453\n",
      "param value: 5; train: 0.8705870783754548; test: 0.4303977272727273\n",
      "param value: 6; train: 0.9024486183498869; test: 0.4296875\n",
      "param value: 7; train: 0.931261677647753; test: 0.40767045454545453\n",
      "param value: 8; train: 0.9654833316943652; test: 0.41051136363636365\n",
      "param value: 9; train: 0.9819057921132854; test: 0.41761363636363635\n",
      "param value: 10; train: 0.9903628675385977; test: 0.4140625\n"
     ]
    },
    {
     "data": {
      "image/png": "[encoded data removed]",
      "text/plain": [
       "<Figure size 640x480 with 1 Axes>"
      ]
     },
     "metadata": {},
     "output_type": "display_data"
    }
   ],
   "source": [
    "param_values = [int(x) for x in np.linspace(1, 10, 11)] \n",
    "\n",
    "train_scores = []\n",
    "test_scores = []\n",
    "\n",
    "for c in param_values:\n",
    "    model = XGBClassifier(max_depth=c, random_state=42)\n",
    "    model.fit(X_over_smote, y_over_smote)\n",
    "       \n",
    "    # eval on train\n",
    "    y_pred_train = model.predict(X_over_smote)\n",
    "    train_recall = recall_score(y_over_smote, y_pred_train)\n",
    "    train_scores.append(train_recall)\n",
    "\n",
    "    # eval on test\n",
    "    y_pred = model.predict(X_test)\n",
    "    test_recall = recall_score(y_test, y_pred)\n",
    "    test_scores.append(test_recall)\n",
    "\n",
    "\n",
    "    print('param value: ' + str(c) + '; train: ' + str(train_recall) + '; test: '+ str(test_recall))\n",
    "\n",
    "plt.plot(param_values, train_scores, label='Train')\n",
    "plt.plot(param_values, test_scores, label='Test')\n",
    "plt.title('Learning Curve - max_depth')\n",
    "plt.legend()\n",
    "plt.show()"
   ]
  },
  {
   "cell_type": "markdown",
   "metadata": {},
   "source": [
    "parameter max_depth terbaik = 1 - 3"
   ]
  },
  {
   "cell_type": "markdown",
   "metadata": {},
   "source": [
    "##### Model After Learning Curve"
   ]
  },
  {
   "cell_type": "code",
   "execution_count": null,
   "metadata": {},
   "outputs": [
    {
     "name": "stdout",
     "output_type": "stream",
     "text": [
      "Accuracy (Train Set): 0.88\n",
      "Accuracy (Test Set): 0.80\n",
      "Precision (Train Set): 0.92\n",
      "Precision (Test Set): 0.56\n",
      "Recall (Train Set): 0.83\n",
      "Recall (Test Set): 0.43\n",
      "AUC (train-proba): 0.94\n",
      "AUC (test-proba): 0.76\n",
      "F1-Score (Train Set): 0.87\n",
      "F1-Score (Test Set): 0.49\n"
     ]
    }
   ],
   "source": [
    "from sklearn.model_selection import RandomizedSearchCV\n",
    "\n",
    "#Menjadikan ke dalam bentuk dictionary\n",
    "hyperparameters = {\n",
    "                    'max_depth' : [int(x) for x in np.linspace(1, 4, num = 10)],\n",
    "                    'min_child_weight' : [int(x) for x in np.linspace(1, 10, num = 11)],\n",
    "                    'gamma' : [float(x) for x in np.linspace(0, 1, num = 11)],\n",
    "                    'tree_method' : ['auto', 'exact', 'approx', 'hist'],\n",
    "\n",
    "                    'colsample_bytree' : [float(x) for x in np.linspace(0, 1, num = 11)],\n",
    "                    'eta' : [float(x) for x in np.linspace(0, 1, num = 100)],\n",
    "\n",
    "                    'lambda' : [float(x) for x in np.linspace(0, 1, num = 11)],\n",
    "                    'alpha' : [float(x) for x in np.linspace(0, 1, num = 11)]\n",
    "                    }\n",
    "\n",
    "# Init\n",
    "from xgboost import XGBClassifier\n",
    "xg = XGBClassifier(random_state=42)\n",
    "xg_tuned = RandomizedSearchCV(xg, hyperparameters, cv=5, scoring='recall')\n",
    "xg_tuned.fit(X_over_smote, y_over_smote)\n",
    "\n",
    "# Predict & Evaluation\n",
    "smote_sampling_eval(xg_tuned)"
   ]
  },
  {
   "cell_type": "markdown",
   "metadata": {},
   "source": [
    "### Random Forest"
   ]
  },
  {
   "cell_type": "markdown",
   "metadata": {},
   "source": [
    "#### Model"
   ]
  },
  {
   "cell_type": "code",
   "execution_count": null,
   "metadata": {},
   "outputs": [
    {
     "name": "stdout",
     "output_type": "stream",
     "text": [
      "Accuracy (Train Set): 1.00\n",
      "Accuracy (Test Set): 0.74\n",
      "Precision (Train Set): 1.00\n",
      "Precision (Test Set): 0.44\n",
      "Recall (Train Set): 1.00\n",
      "Recall (Test Set): 0.63\n",
      "AUC (train-proba): 1.00\n",
      "AUC (test-proba): 0.75\n",
      "F1-Score (Train Set): 1.00\n",
      "F1-Score (Test Set): 0.52\n"
     ]
    }
   ],
   "source": [
    "from sklearn.ensemble import RandomForestClassifier\n",
    "rf = RandomForestClassifier(random_state=42)\n",
    "rf.fit(X_under, y_under)\n",
    "under_sampling_eval(rf)"
   ]
  },
  {
   "cell_type": "markdown",
   "metadata": {},
   "source": [
    "#### Hyperparameter Tuning"
   ]
  },
  {
   "cell_type": "code",
   "execution_count": null,
   "metadata": {},
   "outputs": [
    {
     "name": "stdout",
     "output_type": "stream",
     "text": [
      "Accuracy (Train Set): 0.79\n",
      "Accuracy (Test Set): 0.71\n",
      "Precision (Train Set): 0.81\n",
      "Precision (Test Set): 0.41\n",
      "Recall (Train Set): 0.75\n",
      "Recall (Test Set): 0.64\n",
      "AUC (train-proba): 0.88\n",
      "AUC (test-proba): 0.75\n",
      "F1-Score (Train Set): 0.78\n",
      "F1-Score (Test Set): 0.50\n"
     ]
    }
   ],
   "source": [
    "# list hyperparameter\n",
    "n_estimators = [int(x) for x in np.linspace(1, 200, 50)]\n",
    "criterion = ['gini', 'entropy']\n",
    "max_depth = [int(x) for x in np.linspace(2, 100, 50)]\n",
    "min_samples_split = [int(x) for x in np.linspace(2, 20, 10)]\n",
    "min_samples_leaf = [int(x) for x in np.linspace(2, 20, 10)]\n",
    "hyperparameters = dict(n_estimators=n_estimators, criterion=criterion, max_depth=max_depth,\n",
    "                       min_samples_split=min_samples_split, min_samples_leaf=min_samples_leaf)\n",
    "\n",
    "rf = RandomForestClassifier(random_state=42)\n",
    "rs = RandomizedSearchCV(rf, hyperparameters, scoring='recall', random_state=1, cv=5)\n",
    "rs.fit(X_under, y_under)\n",
    "under_sampling_eval(rs)"
   ]
  },
  {
   "cell_type": "markdown",
   "metadata": {},
   "source": [
    "#### Analyzing Curve Min_Samples_Leaf"
   ]
  },
  {
   "cell_type": "code",
   "execution_count": null,
   "metadata": {},
   "outputs": [
    {
     "name": "stdout",
     "output_type": "stream",
     "text": [
      "param value: 2; train: 0.7574772431729518; test: 0.6313920454545454\n",
      "param value: 3; train: 0.7581274382314694; test: 0.6285511363636364\n",
      "param value: 4; train: 0.7509752925877763; test: 0.6299715909090909\n",
      "param value: 5; train: 0.7623537061118335; test: 0.6292613636363636\n",
      "param value: 7; train: 0.7568270481144344; test: 0.6306818181818182\n",
      "param value: 8; train: 0.7561768530559168; test: 0.6136363636363636\n",
      "param value: 9; train: 0.755851755526658; test: 0.6264204545454546\n",
      "param value: 11; train: 0.7503250975292588; test: 0.6328125\n",
      "param value: 12; train: 0.7532509752925878; test: 0.6242897727272727\n",
      "param value: 13; train: 0.752925877763329; test: 0.6278409090909091\n",
      "param value: 14; train: 0.752925877763329; test: 0.6257102272727273\n",
      "param value: 16; train: 0.7539011703511054; test: 0.6221590909090909\n",
      "param value: 17; train: 0.7578023407022106; test: 0.6356534090909091\n",
      "param value: 18; train: 0.7581274382314694; test: 0.6235795454545454\n",
      "param value: 20; train: 0.7509752925877763; test: 0.625\n"
     ]
    },
    {
     "data": {
      "image/png": "[encoded data removed]",
      "text/plain": [
       "<Figure size 640x480 with 1 Axes>"
      ]
     },
     "metadata": {},
     "output_type": "display_data"
    }
   ],
   "source": [
    "def draw_learning_curve_rf(param_values):\n",
    "    train_scores = []\n",
    "    test_scores = []\n",
    "\n",
    "    for i in param_values:\n",
    "        model = RandomForestClassifier(n_estimators=75, min_samples_leaf=c)\n",
    "        model.fit(X_under, y_under)\n",
    "\n",
    "        # eval on train\n",
    "        y_pred_train = model.predict(X_under)\n",
    "        train_recall = recall_score(y_under, y_pred_train)\n",
    "        train_scores.append(train_recall)\n",
    "\n",
    "        # eval on test\n",
    "        y_pred = model.predict(X_test)\n",
    "        test_recall = recall_score(y_test, y_pred)\n",
    "        test_scores.append(test_recall)\n",
    "\n",
    "        print('param value: ' + str(i) + '; train: ' + str(train_recall) + '; test: '+ str(test_recall))\n",
    "\n",
    "    plt.plot(param_values, train_scores, label='Train')\n",
    "    plt.plot(param_values, test_scores, label='Test')\n",
    "    plt.xlabel('i')\n",
    "    plt.ylabel('recall')\n",
    "    plt.title('Learning Curve - Hyperparameter min_samples_leaf')\n",
    "    plt.legend()\n",
    "    plt.show()\n",
    "\n",
    "# learning curve\n",
    "import numpy as np\n",
    "param_values = [int(x) for x in np.linspace(2,20,15)]\n",
    "draw_learning_curve_rf(param_values)"
   ]
  },
  {
   "cell_type": "code",
   "execution_count": null,
   "metadata": {},
   "outputs": [
    {
     "name": "stdout",
     "output_type": "stream",
     "text": [
      "param value: 2; train: 0.9583875162548765; test: 0.6285511363636364\n",
      "param value: 3; train: 0.9505851755526658; test: 0.625\n",
      "param value: 4; train: 0.9564369310793238; test: 0.6278409090909091\n",
      "param value: 5; train: 0.956111833550065; test: 0.6427556818181818\n",
      "param value: 7; train: 0.9551365409622887; test: 0.6278409090909091\n",
      "param value: 8; train: 0.959037711313394; test: 0.6356534090909091\n",
      "param value: 9; train: 0.9580624187256177; test: 0.6313920454545454\n",
      "param value: 11; train: 0.959037711313394; test: 0.6335227272727273\n",
      "param value: 12; train: 0.9538361508452535; test: 0.6356534090909091\n",
      "param value: 13; train: 0.9554616384915474; test: 0.6342329545454546\n",
      "param value: 14; train: 0.9583875162548765; test: 0.6313920454545454\n",
      "param value: 16; train: 0.9593628088426528; test: 0.625\n",
      "param value: 17; train: 0.951885565669701; test: 0.6377840909090909\n",
      "param value: 18; train: 0.9603381014304291; test: 0.6271306818181818\n",
      "param value: 20; train: 0.9535110533159948; test: 0.6299715909090909\n"
     ]
    },
    {
     "data": {
      "image/png": "[encoded data removed]",
      "text/plain": [
       "<Figure size 640x480 with 1 Axes>"
      ]
     },
     "metadata": {},
     "output_type": "display_data"
    }
   ],
   "source": [
    "def draw_learning_curve_rf(param_values):\n",
    "    train_scores = []\n",
    "    test_scores = []\n",
    "\n",
    "    for i in param_values:\n",
    "        model = RandomForestClassifier(n_estimators=75, min_samples_split=c)\n",
    "        model.fit(X_under, y_under)\n",
    "\n",
    "        # eval on train\n",
    "        y_pred_train = model.predict(X_under)\n",
    "        train_recall = recall_score(y_under, y_pred_train)\n",
    "        train_scores.append(train_recall)\n",
    "\n",
    "        # eval on test\n",
    "        y_pred = model.predict(X_test)\n",
    "        test_recall = recall_score(y_test, y_pred)\n",
    "        test_scores.append(test_recall)\n",
    "\n",
    "        print('param value: ' + str(i) + '; train: ' + str(train_recall) + '; test: '+ str(test_recall))\n",
    "\n",
    "    plt.plot(param_values, train_scores, label='Train')\n",
    "    plt.plot(param_values, test_scores, label='Test')\n",
    "    plt.xlabel('i')\n",
    "    plt.ylabel('recall')\n",
    "    plt.title('Learning Curve - Hyperparameter min_samples_split')\n",
    "    plt.legend()\n",
    "    plt.show()\n",
    "\n",
    "# learning curve\n",
    "import numpy as np\n",
    "param_values = [int(x) for x in np.linspace(2,20,15)]\n",
    "draw_learning_curve_rf(param_values)"
   ]
  },
  {
   "cell_type": "code",
   "execution_count": null,
   "metadata": {},
   "outputs": [
    {
     "name": "stdout",
     "output_type": "stream",
     "text": [
      "Accuracy (Train Set): 0.97\n",
      "Accuracy (Test Set): 0.74\n",
      "Precision (Train Set): 0.96\n",
      "Precision (Test Set): 0.45\n",
      "Recall (Train Set): 0.98\n",
      "Recall (Test Set): 0.63\n",
      "AUC (train-proba): 1.00\n",
      "AUC (test-proba): 0.77\n",
      "F1-Score (Train Set): 0.97\n",
      "F1-Score (Test Set): 0.52\n"
     ]
    }
   ],
   "source": [
    "# list hyperparameter\n",
    "n_estimators = [int(x) for x in np.linspace(1, 200, 50)]\n",
    "criterion = ['gini', 'entropy']\n",
    "max_depth = [int(x) for x in np.linspace(2, 100, 50)]\n",
    "min_samples_split = [5]\n",
    "min_samples_leaf = [2,7,11,17]\n",
    "hyperparameters = dict(n_estimators=n_estimators, criterion=criterion, max_depth=max_depth,\n",
    "                       min_samples_split=min_samples_split, min_samples_leaf=min_samples_leaf)\n",
    "\n",
    "rf = RandomForestClassifier(random_state=42)\n",
    "rs = RandomizedSearchCV(rf, hyperparameters, scoring='recall', random_state=42, cv=5)\n",
    "rs.fit(X_under, y_under)\n",
    "under_sampling_eval(rs)"
   ]
  },
  {
   "cell_type": "markdown",
   "metadata": {},
   "source": [
    "### Confusion Matrix"
   ]
  },
  {
   "cell_type": "code",
   "execution_count": null,
   "metadata": {},
   "outputs": [
    {
     "name": "stdout",
     "output_type": "stream",
     "text": [
      "            predict No  predict Yes\n",
      "actual No         3782         1110\n",
      "actual Yes         515          893\n"
     ]
    }
   ],
   "source": [
    "# print result\n",
    "from sklearn.metrics import classification_report, confusion_matrix\n",
    "\n",
    "y_pred = rs.predict(X_test)\n",
    "# membuat confusion matrix\n",
    "cm = confusion_matrix(y_test, y_pred)\n",
    "\n",
    "# membuat DataFrame dari confusion matrix\n",
    "df_cm = pd.DataFrame(cm, index=['actual No', 'actual Yes'], columns=['predict No', 'predict Yes'])\n",
    "\n",
    "# mencetak DataFrame\n",
    "print(df_cm)"
   ]
  },
  {
   "cell_type": "markdown",
   "metadata": {},
   "source": [
    "### Result"
   ]
  },
  {
   "cell_type": "code",
   "execution_count": null,
   "metadata": {},
   "outputs": [
    {
     "name": "stdout",
     "output_type": "stream",
     "text": [
      "default rate awal 22.12 %\n",
      "default rate setelah menerapkan model 17.87 %\n"
     ]
    }
   ],
   "source": [
    "actual_default = len(dftrain[dftrain['default_payment_next_month']==1])\n",
    "all_customer = len(dftrain)\n",
    "default_rate = round(actual_default/all_customer,4)\n",
    "default_rate_after = round((actual_default - cm[1][1])/all_customer,4)\n",
    "print('default rate awal', default_rate*100,'%')\n",
    "print('default rate setelah menerapkan model', default_rate_after*100,'%')"
   ]
  },
  {
   "attachments": {},
   "cell_type": "markdown",
   "metadata": {},
   "source": [
    "Setelah disimulasikan menggunakan model machine learning, default paymet ratio berkurang menjadi 17.87%"
   ]
  }
 ],
 "metadata": {
  "kernelspec": {
   "display_name": "Python 3",
   "language": "python",
   "name": "python3"
  },
  "language_info": {
   "codemirror_mode": {
    "name": "ipython",
    "version": 3
   },
   "file_extension": ".py",
   "mimetype": "text/x-python",
   "name": "python",
   "nbconvert_exporter": "python",
   "pygments_lexer": "ipython3",
   "version": "3.11.1"
  },
  "orig_nbformat": 4,
  "vscode": {
   "interpreter": {
    "hash": "d4d7936130eb51ec100b4c9b17ff08803180314c1aa7d803f0d72ac28862ddb3"
   }
  }
 },
 "nbformat": 4,
 "nbformat_minor": 2
}
