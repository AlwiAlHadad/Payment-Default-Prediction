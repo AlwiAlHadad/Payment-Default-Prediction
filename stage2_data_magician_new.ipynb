{
 "cells": [
  {
   "cell_type": "markdown",
   "metadata": {
    "id": "52VOITgKek8G"
   },
   "source": [
    "# EXPLORATORY DATA ANALYSIS\n",
    "### -Data Magician Team-\n",
    "##### Dataset : datatrain from (https://www.kaggle.com/datasets/reverie5/av-janata-hack-payment-default-prediction)\n"
   ]
  },
  {
   "cell_type": "markdown",
   "metadata": {
    "id": "RFQICwKwetce"
   },
   "source": [
    "### Data and Library Import\n"
   ]
  },
  {
   "cell_type": "code",
   "execution_count": 1,
   "metadata": {
    "id": "2SEct-uHdHk7"
   },
   "outputs": [],
   "source": [
    "import numpy as np\n",
    "import pandas as pd\n",
    "import matplotlib.pyplot as plt\n",
    "import seaborn as sns\n",
    "from scipy import stats"
   ]
  },
  {
   "cell_type": "code",
   "execution_count": 3,
   "metadata": {
    "colab": {
     "base_uri": "https://localhost:8080/",
     "height": 300
    },
    "id": "nlFKn3oqeUPg",
    "outputId": "a31da053-19a9-44d4-e608-480171560c2a"
   },
   "outputs": [
    {
     "data": {
      "text/html": [
       "\n",
       "  <div id=\"df-e3624991-65c0-437c-a6e3-379cc038a708\">\n",
       "    <div class=\"colab-df-container\">\n",
       "      <div>\n",
       "<style scoped>\n",
       "    .dataframe tbody tr th:only-of-type {\n",
       "        vertical-align: middle;\n",
       "    }\n",
       "\n",
       "    .dataframe tbody tr th {\n",
       "        vertical-align: top;\n",
       "    }\n",
       "\n",
       "    .dataframe thead th {\n",
       "        text-align: right;\n",
       "    }\n",
       "</style>\n",
       "<table border=\"1\" class=\"dataframe\">\n",
       "  <thead>\n",
       "    <tr style=\"text-align: right;\">\n",
       "      <th></th>\n",
       "      <th>ID</th>\n",
       "      <th>LIMIT_BAL</th>\n",
       "      <th>SEX</th>\n",
       "      <th>EDUCATION</th>\n",
       "      <th>MARRIAGE</th>\n",
       "      <th>AGE</th>\n",
       "      <th>PAY_0</th>\n",
       "      <th>PAY_2</th>\n",
       "      <th>PAY_3</th>\n",
       "      <th>PAY_4</th>\n",
       "      <th>...</th>\n",
       "      <th>BILL_AMT4</th>\n",
       "      <th>BILL_AMT5</th>\n",
       "      <th>BILL_AMT6</th>\n",
       "      <th>PAY_AMT1</th>\n",
       "      <th>PAY_AMT2</th>\n",
       "      <th>PAY_AMT3</th>\n",
       "      <th>PAY_AMT4</th>\n",
       "      <th>PAY_AMT5</th>\n",
       "      <th>PAY_AMT6</th>\n",
       "      <th>default_payment_next_month</th>\n",
       "    </tr>\n",
       "  </thead>\n",
       "  <tbody>\n",
       "    <tr>\n",
       "      <th>0</th>\n",
       "      <td>25150</td>\n",
       "      <td>360000</td>\n",
       "      <td>2</td>\n",
       "      <td>2</td>\n",
       "      <td>2</td>\n",
       "      <td>25</td>\n",
       "      <td>-1</td>\n",
       "      <td>-1</td>\n",
       "      <td>-1</td>\n",
       "      <td>-1</td>\n",
       "      <td>...</td>\n",
       "      <td>3435</td>\n",
       "      <td>8870</td>\n",
       "      <td>2020</td>\n",
       "      <td>12590</td>\n",
       "      <td>3479</td>\n",
       "      <td>3446</td>\n",
       "      <td>8870</td>\n",
       "      <td>2020</td>\n",
       "      <td>27043</td>\n",
       "      <td>0</td>\n",
       "    </tr>\n",
       "    <tr>\n",
       "      <th>1</th>\n",
       "      <td>13470</td>\n",
       "      <td>240000</td>\n",
       "      <td>2</td>\n",
       "      <td>1</td>\n",
       "      <td>2</td>\n",
       "      <td>46</td>\n",
       "      <td>2</td>\n",
       "      <td>2</td>\n",
       "      <td>-2</td>\n",
       "      <td>-1</td>\n",
       "      <td>...</td>\n",
       "      <td>2240</td>\n",
       "      <td>1681</td>\n",
       "      <td>2267</td>\n",
       "      <td>0</td>\n",
       "      <td>0</td>\n",
       "      <td>2240</td>\n",
       "      <td>0</td>\n",
       "      <td>2267</td>\n",
       "      <td>3074</td>\n",
       "      <td>0</td>\n",
       "    </tr>\n",
       "    <tr>\n",
       "      <th>2</th>\n",
       "      <td>3092</td>\n",
       "      <td>320000</td>\n",
       "      <td>2</td>\n",
       "      <td>2</td>\n",
       "      <td>1</td>\n",
       "      <td>41</td>\n",
       "      <td>0</td>\n",
       "      <td>0</td>\n",
       "      <td>0</td>\n",
       "      <td>0</td>\n",
       "      <td>...</td>\n",
       "      <td>35409</td>\n",
       "      <td>35036</td>\n",
       "      <td>35939</td>\n",
       "      <td>5000</td>\n",
       "      <td>2000</td>\n",
       "      <td>2000</td>\n",
       "      <td>3000</td>\n",
       "      <td>3000</td>\n",
       "      <td>1500</td>\n",
       "      <td>0</td>\n",
       "    </tr>\n",
       "    <tr>\n",
       "      <th>3</th>\n",
       "      <td>13973</td>\n",
       "      <td>50000</td>\n",
       "      <td>2</td>\n",
       "      <td>2</td>\n",
       "      <td>2</td>\n",
       "      <td>24</td>\n",
       "      <td>-1</td>\n",
       "      <td>-1</td>\n",
       "      <td>-2</td>\n",
       "      <td>-2</td>\n",
       "      <td>...</td>\n",
       "      <td>0</td>\n",
       "      <td>0</td>\n",
       "      <td>0</td>\n",
       "      <td>0</td>\n",
       "      <td>0</td>\n",
       "      <td>0</td>\n",
       "      <td>0</td>\n",
       "      <td>0</td>\n",
       "      <td>0</td>\n",
       "      <td>1</td>\n",
       "    </tr>\n",
       "    <tr>\n",
       "      <th>4</th>\n",
       "      <td>10567</td>\n",
       "      <td>80000</td>\n",
       "      <td>1</td>\n",
       "      <td>3</td>\n",
       "      <td>1</td>\n",
       "      <td>52</td>\n",
       "      <td>-1</td>\n",
       "      <td>0</td>\n",
       "      <td>0</td>\n",
       "      <td>0</td>\n",
       "      <td>...</td>\n",
       "      <td>20561</td>\n",
       "      <td>21261</td>\n",
       "      <td>21457</td>\n",
       "      <td>1500</td>\n",
       "      <td>1500</td>\n",
       "      <td>1500</td>\n",
       "      <td>1028</td>\n",
       "      <td>876</td>\n",
       "      <td>1449</td>\n",
       "      <td>0</td>\n",
       "    </tr>\n",
       "  </tbody>\n",
       "</table>\n",
       "<p>5 rows × 25 columns</p>\n",
       "</div>\n",
       "      <button class=\"colab-df-convert\" onclick=\"convertToInteractive('df-e3624991-65c0-437c-a6e3-379cc038a708')\"\n",
       "              title=\"Convert this dataframe to an interactive table.\"\n",
       "              style=\"display:none;\">\n",
       "        \n",
       "  <svg xmlns=\"http://www.w3.org/2000/svg\" height=\"24px\"viewBox=\"0 0 24 24\"\n",
       "       width=\"24px\">\n",
       "    <path d=\"M0 0h24v24H0V0z\" fill=\"none\"/>\n",
       "    <path d=\"M18.56 5.44l.94 2.06.94-2.06 2.06-.94-2.06-.94-.94-2.06-.94 2.06-2.06.94zm-11 1L8.5 8.5l.94-2.06 2.06-.94-2.06-.94L8.5 2.5l-.94 2.06-2.06.94zm10 10l.94 2.06.94-2.06 2.06-.94-2.06-.94-.94-2.06-.94 2.06-2.06.94z\"/><path d=\"M17.41 7.96l-1.37-1.37c-.4-.4-.92-.59-1.43-.59-.52 0-1.04.2-1.43.59L10.3 9.45l-7.72 7.72c-.78.78-.78 2.05 0 2.83L4 21.41c.39.39.9.59 1.41.59.51 0 1.02-.2 1.41-.59l7.78-7.78 2.81-2.81c.8-.78.8-2.07 0-2.86zM5.41 20L4 18.59l7.72-7.72 1.47 1.35L5.41 20z\"/>\n",
       "  </svg>\n",
       "      </button>\n",
       "      \n",
       "  <style>\n",
       "    .colab-df-container {\n",
       "      display:flex;\n",
       "      flex-wrap:wrap;\n",
       "      gap: 12px;\n",
       "    }\n",
       "\n",
       "    .colab-df-convert {\n",
       "      background-color: #E8F0FE;\n",
       "      border: none;\n",
       "      border-radius: 50%;\n",
       "      cursor: pointer;\n",
       "      display: none;\n",
       "      fill: #1967D2;\n",
       "      height: 32px;\n",
       "      padding: 0 0 0 0;\n",
       "      width: 32px;\n",
       "    }\n",
       "\n",
       "    .colab-df-convert:hover {\n",
       "      background-color: #E2EBFA;\n",
       "      box-shadow: 0px 1px 2px rgba(60, 64, 67, 0.3), 0px 1px 3px 1px rgba(60, 64, 67, 0.15);\n",
       "      fill: #174EA6;\n",
       "    }\n",
       "\n",
       "    [theme=dark] .colab-df-convert {\n",
       "      background-color: #3B4455;\n",
       "      fill: #D2E3FC;\n",
       "    }\n",
       "\n",
       "    [theme=dark] .colab-df-convert:hover {\n",
       "      background-color: #434B5C;\n",
       "      box-shadow: 0px 1px 3px 1px rgba(0, 0, 0, 0.15);\n",
       "      filter: drop-shadow(0px 1px 2px rgba(0, 0, 0, 0.3));\n",
       "      fill: #FFFFFF;\n",
       "    }\n",
       "  </style>\n",
       "\n",
       "      <script>\n",
       "        const buttonEl =\n",
       "          document.querySelector('#df-e3624991-65c0-437c-a6e3-379cc038a708 button.colab-df-convert');\n",
       "        buttonEl.style.display =\n",
       "          google.colab.kernel.accessAllowed ? 'block' : 'none';\n",
       "\n",
       "        async function convertToInteractive(key) {\n",
       "          const element = document.querySelector('#df-e3624991-65c0-437c-a6e3-379cc038a708');\n",
       "          const dataTable =\n",
       "            await google.colab.kernel.invokeFunction('convertToInteractive',\n",
       "                                                     [key], {});\n",
       "          if (!dataTable) return;\n",
       "\n",
       "          const docLinkHtml = 'Like what you see? Visit the ' +\n",
       "            '<a target=\"_blank\" href=https://colab.research.google.com/notebooks/data_table.ipynb>data table notebook</a>'\n",
       "            + ' to learn more about interactive tables.';\n",
       "          element.innerHTML = '';\n",
       "          dataTable['output_type'] = 'display_data';\n",
       "          await google.colab.output.renderOutput(dataTable, element);\n",
       "          const docLink = document.createElement('div');\n",
       "          docLink.innerHTML = docLinkHtml;\n",
       "          element.appendChild(docLink);\n",
       "        }\n",
       "      </script>\n",
       "    </div>\n",
       "  </div>\n",
       "  "
      ],
      "text/plain": [
       "      ID  LIMIT_BAL  SEX  EDUCATION  MARRIAGE  AGE  PAY_0  PAY_2  PAY_3  \\\n",
       "0  25150     360000    2          2         2   25     -1     -1     -1   \n",
       "1  13470     240000    2          1         2   46      2      2     -2   \n",
       "2   3092     320000    2          2         1   41      0      0      0   \n",
       "3  13973      50000    2          2         2   24     -1     -1     -2   \n",
       "4  10567      80000    1          3         1   52     -1      0      0   \n",
       "\n",
       "   PAY_4  ...  BILL_AMT4  BILL_AMT5  BILL_AMT6  PAY_AMT1  PAY_AMT2  PAY_AMT3  \\\n",
       "0     -1  ...       3435       8870       2020     12590      3479      3446   \n",
       "1     -1  ...       2240       1681       2267         0         0      2240   \n",
       "2      0  ...      35409      35036      35939      5000      2000      2000   \n",
       "3     -2  ...          0          0          0         0         0         0   \n",
       "4      0  ...      20561      21261      21457      1500      1500      1500   \n",
       "\n",
       "   PAY_AMT4  PAY_AMT5  PAY_AMT6  default_payment_next_month  \n",
       "0      8870      2020     27043                           0  \n",
       "1         0      2267      3074                           0  \n",
       "2      3000      3000      1500                           0  \n",
       "3         0         0         0                           1  \n",
       "4      1028       876      1449                           0  \n",
       "\n",
       "[5 rows x 25 columns]"
      ]
     },
     "execution_count": 3,
     "metadata": {},
     "output_type": "execute_result"
    }
   ],
   "source": [
    "dftrain = pd.read_csv('/content/train_20D8GL3.csv')\n",
    "dftrain.head()"
   ]
  },
  {
   "cell_type": "code",
   "execution_count": 4,
   "metadata": {
    "id": "DqcbM8W-f8RC"
   },
   "outputs": [],
   "source": [
    "dftrain.rename(columns={'PAY_0': 'PAY_1'}, inplace=True)\n",
    "dftrain['SEX']=dftrain['SEX'].replace({1 : 'male', 2 : 'female'})\n",
    "dftrain['EDUCATION'] = dftrain['EDUCATION'].replace({1 : 'graduate school', 2 : 'university', 3 : 'high school', 4 : 'others', 5 : 'unknown', 6 : 'unknown', 0 : 'others'})\n",
    "dftrain['MARRIAGE']= dftrain['MARRIAGE'].replace({1 : 'married', 2 : 'single', 3 : 'divorced', 0 : 'others'})\n",
    "pay_data = ['PAY_1', 'PAY_2', 'PAY_3', 'PAY_4', 'PAY_5', 'PAY_6']\n",
    "for i in pay_data:\n",
    "    dftrain[i] = dftrain[i].astype('object')"
   ]
  },
  {
   "cell_type": "code",
   "execution_count": 5,
   "metadata": {
    "colab": {
     "base_uri": "https://localhost:8080/",
     "height": 334
    },
    "id": "LwKomaqqgSVr",
    "outputId": "80c46e7a-542b-4770-a838-8e37fa3a5a87"
   },
   "outputs": [
    {
     "data": {
      "text/html": [
       "\n",
       "  <div id=\"df-30cb6452-1c76-481b-81f5-f0a3273d240a\">\n",
       "    <div class=\"colab-df-container\">\n",
       "      <div>\n",
       "<style scoped>\n",
       "    .dataframe tbody tr th:only-of-type {\n",
       "        vertical-align: middle;\n",
       "    }\n",
       "\n",
       "    .dataframe tbody tr th {\n",
       "        vertical-align: top;\n",
       "    }\n",
       "\n",
       "    .dataframe thead th {\n",
       "        text-align: right;\n",
       "    }\n",
       "</style>\n",
       "<table border=\"1\" class=\"dataframe\">\n",
       "  <thead>\n",
       "    <tr style=\"text-align: right;\">\n",
       "      <th></th>\n",
       "      <th>ID</th>\n",
       "      <th>LIMIT_BAL</th>\n",
       "      <th>SEX</th>\n",
       "      <th>EDUCATION</th>\n",
       "      <th>MARRIAGE</th>\n",
       "      <th>AGE</th>\n",
       "      <th>PAY_1</th>\n",
       "      <th>PAY_2</th>\n",
       "      <th>PAY_3</th>\n",
       "      <th>PAY_4</th>\n",
       "      <th>...</th>\n",
       "      <th>BILL_AMT4</th>\n",
       "      <th>BILL_AMT5</th>\n",
       "      <th>BILL_AMT6</th>\n",
       "      <th>PAY_AMT1</th>\n",
       "      <th>PAY_AMT2</th>\n",
       "      <th>PAY_AMT3</th>\n",
       "      <th>PAY_AMT4</th>\n",
       "      <th>PAY_AMT5</th>\n",
       "      <th>PAY_AMT6</th>\n",
       "      <th>default_payment_next_month</th>\n",
       "    </tr>\n",
       "  </thead>\n",
       "  <tbody>\n",
       "    <tr>\n",
       "      <th>5972</th>\n",
       "      <td>15656</td>\n",
       "      <td>130000</td>\n",
       "      <td>female</td>\n",
       "      <td>university</td>\n",
       "      <td>married</td>\n",
       "      <td>37</td>\n",
       "      <td>0</td>\n",
       "      <td>0</td>\n",
       "      <td>0</td>\n",
       "      <td>2</td>\n",
       "      <td>...</td>\n",
       "      <td>45000</td>\n",
       "      <td>45800</td>\n",
       "      <td>0</td>\n",
       "      <td>2019</td>\n",
       "      <td>4900</td>\n",
       "      <td>0</td>\n",
       "      <td>1000</td>\n",
       "      <td>0</td>\n",
       "      <td>0</td>\n",
       "      <td>1</td>\n",
       "    </tr>\n",
       "    <tr>\n",
       "      <th>15038</th>\n",
       "      <td>16742</td>\n",
       "      <td>200000</td>\n",
       "      <td>male</td>\n",
       "      <td>graduate school</td>\n",
       "      <td>single</td>\n",
       "      <td>38</td>\n",
       "      <td>-2</td>\n",
       "      <td>-2</td>\n",
       "      <td>-2</td>\n",
       "      <td>-2</td>\n",
       "      <td>...</td>\n",
       "      <td>499</td>\n",
       "      <td>672</td>\n",
       "      <td>100</td>\n",
       "      <td>0</td>\n",
       "      <td>316</td>\n",
       "      <td>499</td>\n",
       "      <td>672</td>\n",
       "      <td>100</td>\n",
       "      <td>0</td>\n",
       "      <td>0</td>\n",
       "    </tr>\n",
       "    <tr>\n",
       "      <th>10948</th>\n",
       "      <td>24240</td>\n",
       "      <td>50000</td>\n",
       "      <td>male</td>\n",
       "      <td>university</td>\n",
       "      <td>single</td>\n",
       "      <td>30</td>\n",
       "      <td>1</td>\n",
       "      <td>1</td>\n",
       "      <td>-1</td>\n",
       "      <td>2</td>\n",
       "      <td>...</td>\n",
       "      <td>47832</td>\n",
       "      <td>46783</td>\n",
       "      <td>47890</td>\n",
       "      <td>125</td>\n",
       "      <td>52000</td>\n",
       "      <td>2000</td>\n",
       "      <td>0</td>\n",
       "      <td>2000</td>\n",
       "      <td>3700</td>\n",
       "      <td>0</td>\n",
       "    </tr>\n",
       "    <tr>\n",
       "      <th>15645</th>\n",
       "      <td>14304</td>\n",
       "      <td>20000</td>\n",
       "      <td>male</td>\n",
       "      <td>university</td>\n",
       "      <td>married</td>\n",
       "      <td>27</td>\n",
       "      <td>0</td>\n",
       "      <td>0</td>\n",
       "      <td>0</td>\n",
       "      <td>3</td>\n",
       "      <td>...</td>\n",
       "      <td>18472</td>\n",
       "      <td>18037</td>\n",
       "      <td>18487</td>\n",
       "      <td>3000</td>\n",
       "      <td>10000</td>\n",
       "      <td>0</td>\n",
       "      <td>0</td>\n",
       "      <td>900</td>\n",
       "      <td>2000</td>\n",
       "      <td>0</td>\n",
       "    </tr>\n",
       "    <tr>\n",
       "      <th>16251</th>\n",
       "      <td>981</td>\n",
       "      <td>70000</td>\n",
       "      <td>female</td>\n",
       "      <td>graduate school</td>\n",
       "      <td>single</td>\n",
       "      <td>24</td>\n",
       "      <td>0</td>\n",
       "      <td>0</td>\n",
       "      <td>0</td>\n",
       "      <td>0</td>\n",
       "      <td>...</td>\n",
       "      <td>64209</td>\n",
       "      <td>59482</td>\n",
       "      <td>60883</td>\n",
       "      <td>3000</td>\n",
       "      <td>2190</td>\n",
       "      <td>2201</td>\n",
       "      <td>2181</td>\n",
       "      <td>2413</td>\n",
       "      <td>1952</td>\n",
       "      <td>0</td>\n",
       "    </tr>\n",
       "  </tbody>\n",
       "</table>\n",
       "<p>5 rows × 25 columns</p>\n",
       "</div>\n",
       "      <button class=\"colab-df-convert\" onclick=\"convertToInteractive('df-30cb6452-1c76-481b-81f5-f0a3273d240a')\"\n",
       "              title=\"Convert this dataframe to an interactive table.\"\n",
       "              style=\"display:none;\">\n",
       "        \n",
       "  <svg xmlns=\"http://www.w3.org/2000/svg\" height=\"24px\"viewBox=\"0 0 24 24\"\n",
       "       width=\"24px\">\n",
       "    <path d=\"M0 0h24v24H0V0z\" fill=\"none\"/>\n",
       "    <path d=\"M18.56 5.44l.94 2.06.94-2.06 2.06-.94-2.06-.94-.94-2.06-.94 2.06-2.06.94zm-11 1L8.5 8.5l.94-2.06 2.06-.94-2.06-.94L8.5 2.5l-.94 2.06-2.06.94zm10 10l.94 2.06.94-2.06 2.06-.94-2.06-.94-.94-2.06-.94 2.06-2.06.94z\"/><path d=\"M17.41 7.96l-1.37-1.37c-.4-.4-.92-.59-1.43-.59-.52 0-1.04.2-1.43.59L10.3 9.45l-7.72 7.72c-.78.78-.78 2.05 0 2.83L4 21.41c.39.39.9.59 1.41.59.51 0 1.02-.2 1.41-.59l7.78-7.78 2.81-2.81c.8-.78.8-2.07 0-2.86zM5.41 20L4 18.59l7.72-7.72 1.47 1.35L5.41 20z\"/>\n",
       "  </svg>\n",
       "      </button>\n",
       "      \n",
       "  <style>\n",
       "    .colab-df-container {\n",
       "      display:flex;\n",
       "      flex-wrap:wrap;\n",
       "      gap: 12px;\n",
       "    }\n",
       "\n",
       "    .colab-df-convert {\n",
       "      background-color: #E8F0FE;\n",
       "      border: none;\n",
       "      border-radius: 50%;\n",
       "      cursor: pointer;\n",
       "      display: none;\n",
       "      fill: #1967D2;\n",
       "      height: 32px;\n",
       "      padding: 0 0 0 0;\n",
       "      width: 32px;\n",
       "    }\n",
       "\n",
       "    .colab-df-convert:hover {\n",
       "      background-color: #E2EBFA;\n",
       "      box-shadow: 0px 1px 2px rgba(60, 64, 67, 0.3), 0px 1px 3px 1px rgba(60, 64, 67, 0.15);\n",
       "      fill: #174EA6;\n",
       "    }\n",
       "\n",
       "    [theme=dark] .colab-df-convert {\n",
       "      background-color: #3B4455;\n",
       "      fill: #D2E3FC;\n",
       "    }\n",
       "\n",
       "    [theme=dark] .colab-df-convert:hover {\n",
       "      background-color: #434B5C;\n",
       "      box-shadow: 0px 1px 3px 1px rgba(0, 0, 0, 0.15);\n",
       "      filter: drop-shadow(0px 1px 2px rgba(0, 0, 0, 0.3));\n",
       "      fill: #FFFFFF;\n",
       "    }\n",
       "  </style>\n",
       "\n",
       "      <script>\n",
       "        const buttonEl =\n",
       "          document.querySelector('#df-30cb6452-1c76-481b-81f5-f0a3273d240a button.colab-df-convert');\n",
       "        buttonEl.style.display =\n",
       "          google.colab.kernel.accessAllowed ? 'block' : 'none';\n",
       "\n",
       "        async function convertToInteractive(key) {\n",
       "          const element = document.querySelector('#df-30cb6452-1c76-481b-81f5-f0a3273d240a');\n",
       "          const dataTable =\n",
       "            await google.colab.kernel.invokeFunction('convertToInteractive',\n",
       "                                                     [key], {});\n",
       "          if (!dataTable) return;\n",
       "\n",
       "          const docLinkHtml = 'Like what you see? Visit the ' +\n",
       "            '<a target=\"_blank\" href=https://colab.research.google.com/notebooks/data_table.ipynb>data table notebook</a>'\n",
       "            + ' to learn more about interactive tables.';\n",
       "          element.innerHTML = '';\n",
       "          dataTable['output_type'] = 'display_data';\n",
       "          await google.colab.output.renderOutput(dataTable, element);\n",
       "          const docLink = document.createElement('div');\n",
       "          docLink.innerHTML = docLinkHtml;\n",
       "          element.appendChild(docLink);\n",
       "        }\n",
       "      </script>\n",
       "    </div>\n",
       "  </div>\n",
       "  "
      ],
      "text/plain": [
       "          ID  LIMIT_BAL     SEX        EDUCATION MARRIAGE  AGE PAY_1 PAY_2  \\\n",
       "5972   15656     130000  female       university  married   37     0     0   \n",
       "15038  16742     200000    male  graduate school   single   38    -2    -2   \n",
       "10948  24240      50000    male       university   single   30     1     1   \n",
       "15645  14304      20000    male       university  married   27     0     0   \n",
       "16251    981      70000  female  graduate school   single   24     0     0   \n",
       "\n",
       "      PAY_3 PAY_4  ... BILL_AMT4 BILL_AMT5  BILL_AMT6  PAY_AMT1  PAY_AMT2  \\\n",
       "5972      0     2  ...     45000     45800          0      2019      4900   \n",
       "15038    -2    -2  ...       499       672        100         0       316   \n",
       "10948    -1     2  ...     47832     46783      47890       125     52000   \n",
       "15645     0     3  ...     18472     18037      18487      3000     10000   \n",
       "16251     0     0  ...     64209     59482      60883      3000      2190   \n",
       "\n",
       "       PAY_AMT3  PAY_AMT4  PAY_AMT5  PAY_AMT6  default_payment_next_month  \n",
       "5972          0      1000         0         0                           1  \n",
       "15038       499       672       100         0                           0  \n",
       "10948      2000         0      2000      3700                           0  \n",
       "15645         0         0       900      2000                           0  \n",
       "16251      2201      2181      2413      1952                           0  \n",
       "\n",
       "[5 rows x 25 columns]"
      ]
     },
     "execution_count": 5,
     "metadata": {},
     "output_type": "execute_result"
    }
   ],
   "source": [
    "dftrain.sample(5)\n"
   ]
  },
  {
   "cell_type": "markdown",
   "metadata": {
    "id": "vTeg9P3PgsPr"
   },
   "source": [
    "### Handle missing values"
   ]
  },
  {
   "cell_type": "code",
   "execution_count": 7,
   "metadata": {
    "colab": {
     "base_uri": "https://localhost:8080/"
    },
    "id": "WCooqoy6gYv2",
    "outputId": "c2e2c2ed-6ab1-45fc-efcd-01d9e8c5a407"
   },
   "outputs": [
    {
     "name": "stdout",
     "output_type": "stream",
     "text": [
      "<class 'pandas.core.frame.DataFrame'>\n",
      "RangeIndex: 21000 entries, 0 to 20999\n",
      "Data columns (total 25 columns):\n",
      " #   Column                      Non-Null Count  Dtype \n",
      "---  ------                      --------------  ----- \n",
      " 0   ID                          21000 non-null  int64 \n",
      " 1   LIMIT_BAL                   21000 non-null  int64 \n",
      " 2   SEX                         21000 non-null  object\n",
      " 3   EDUCATION                   21000 non-null  object\n",
      " 4   MARRIAGE                    21000 non-null  object\n",
      " 5   AGE                         21000 non-null  int64 \n",
      " 6   PAY_1                       21000 non-null  object\n",
      " 7   PAY_2                       21000 non-null  object\n",
      " 8   PAY_3                       21000 non-null  object\n",
      " 9   PAY_4                       21000 non-null  object\n",
      " 10  PAY_5                       21000 non-null  object\n",
      " 11  PAY_6                       21000 non-null  object\n",
      " 12  BILL_AMT1                   21000 non-null  int64 \n",
      " 13  BILL_AMT2                   21000 non-null  int64 \n",
      " 14  BILL_AMT3                   21000 non-null  int64 \n",
      " 15  BILL_AMT4                   21000 non-null  int64 \n",
      " 16  BILL_AMT5                   21000 non-null  int64 \n",
      " 17  BILL_AMT6                   21000 non-null  int64 \n",
      " 18  PAY_AMT1                    21000 non-null  int64 \n",
      " 19  PAY_AMT2                    21000 non-null  int64 \n",
      " 20  PAY_AMT3                    21000 non-null  int64 \n",
      " 21  PAY_AMT4                    21000 non-null  int64 \n",
      " 22  PAY_AMT5                    21000 non-null  int64 \n",
      " 23  PAY_AMT6                    21000 non-null  int64 \n",
      " 24  default_payment_next_month  21000 non-null  int64 \n",
      "dtypes: int64(16), object(9)\n",
      "memory usage: 4.0+ MB\n"
     ]
    }
   ],
   "source": [
    "dftrain.info()"
   ]
  },
  {
   "cell_type": "code",
   "execution_count": 8,
   "metadata": {
    "colab": {
     "base_uri": "https://localhost:8080/"
    },
    "id": "RUKZRQV7g2A2",
    "outputId": "b725e28e-b032-4ea4-c3a4-f760ed3d34af"
   },
   "outputs": [
    {
     "name": "stdout",
     "output_type": "stream",
     "text": [
      "Terdapat missing data sebanyak 0\n"
     ]
    }
   ],
   "source": [
    "print(f'Terdapat missing data sebanyak {dftrain.isnull().sum().sum()}')"
   ]
  },
  {
   "cell_type": "markdown",
   "metadata": {
    "id": "s50AGeXshDdZ"
   },
   "source": [
    "Dari data di atas diketahui :\n",
    "\n",
    "1. Dataframe terdiri 21000 baris\n",
    "\n",
    "2. Tidak ada kolom yang memiliki nilai null/missing value\n",
    "\n",
    "3. Terdapat beberapa tipe data kategorikal yang belum diubah value nya (masih dalam bentuk data numerikal)\n"
   ]
  },
  {
   "cell_type": "code",
   "execution_count": 9,
   "metadata": {
    "colab": {
     "base_uri": "https://localhost:8080/"
    },
    "id": "e-DaliCXg_vs",
    "outputId": "d79aff53-e447-4363-dc1b-9738038cd481"
   },
   "outputs": [
    {
     "name": "stdout",
     "output_type": "stream",
     "text": [
      "Value count kolom SEX:\n",
      "female    12759\n",
      "male       8241\n",
      "Name: SEX, dtype: int64\n",
      "\n",
      "Value count kolom EDUCATION:\n",
      "university         9789\n",
      "graduate school    7415\n",
      "high school        3467\n",
      "unknown             234\n",
      "others               95\n",
      "Name: EDUCATION, dtype: int64\n",
      "\n",
      "Value count kolom MARRIAGE:\n",
      "single      11184\n",
      "married      9561\n",
      "divorced      219\n",
      "others         36\n",
      "Name: MARRIAGE, dtype: int64\n",
      "\n",
      "Value count kolom PAY_1:\n",
      " 0    10324\n",
      "-1     3937\n",
      " 1     2608\n",
      "-2     1923\n",
      " 2     1883\n",
      " 3      231\n",
      " 4       47\n",
      " 5       19\n",
      " 8       11\n",
      " 6        9\n",
      " 7        8\n",
      "Name: PAY_1, dtype: int64\n",
      "\n",
      "Value count kolom PAY_2:\n",
      " 0    11043\n",
      "-1     4174\n",
      " 2     2776\n",
      "-2     2643\n",
      " 3      229\n",
      " 4       69\n",
      " 1       23\n",
      " 5       21\n",
      " 7       11\n",
      " 6       10\n",
      " 8        1\n",
      "Name: PAY_2, dtype: int64\n",
      "\n",
      "Value count kolom PAY_3:\n",
      " 0    11056\n",
      "-1     4125\n",
      "-2     2868\n",
      " 2     2670\n",
      " 3      173\n",
      " 4       55\n",
      " 7       22\n",
      " 5       14\n",
      " 6       13\n",
      " 8        2\n",
      " 1        2\n",
      "Name: PAY_3, dtype: int64\n",
      "\n",
      "Value count kolom PAY_4:\n",
      " 0    11542\n",
      "-1     3949\n",
      "-2     3047\n",
      " 2     2208\n",
      " 3      135\n",
      " 4       51\n",
      " 7       43\n",
      " 5       19\n",
      " 6        4\n",
      " 8        2\n",
      "Name: PAY_4, dtype: int64\n",
      "\n",
      "Value count kolom PAY_5:\n",
      " 0    11852\n",
      "-1     3840\n",
      "-2     3193\n",
      " 2     1869\n",
      " 3      132\n",
      " 4       53\n",
      " 7       45\n",
      " 5       13\n",
      " 6        2\n",
      " 8        1\n",
      "Name: PAY_5, dtype: int64\n",
      "\n",
      "Value count kolom PAY_6:\n",
      " 0    11450\n",
      "-1     3970\n",
      "-2     3427\n",
      " 2     1934\n",
      " 3      130\n",
      " 7       34\n",
      " 4       30\n",
      " 6       15\n",
      " 5        8\n",
      " 8        2\n",
      "Name: PAY_6, dtype: int64\n",
      "\n"
     ]
    }
   ],
   "source": [
    "cats = ['SEX','EDUCATION','MARRIAGE','PAY_1','PAY_2','PAY_3','PAY_4','PAY_5','PAY_6']\n",
    "nums = ['LIMIT_BAL','AGE','BILL_AMT1','BILL_AMT2','BILL_AMT3','BILL_AMT4','BILL_AMT5','BILL_AMT6','PAY_AMT1','PAY_AMT2','PAY_AMT3','PAY_AMT4','PAY_AMT5','PAY_AMT6']\n",
    "for i in cats:\n",
    "    print(f'Value count kolom {i}:')\n",
    "    print(dftrain[i].value_counts())\n",
    "    print()"
   ]
  },
  {
   "cell_type": "markdown",
   "metadata": {
    "id": "6TYOF8POhdlM"
   },
   "source": [
    "**STATISTICAL SUMMARY**"
   ]
  },
  {
   "cell_type": "code",
   "execution_count": 10,
   "metadata": {
    "colab": {
     "base_uri": "https://localhost:8080/",
     "height": 175
    },
    "id": "wyIId0FbhRjk",
    "outputId": "757262cb-56b6-4686-c620-82359ca72459"
   },
   "outputs": [
    {
     "data": {
      "text/html": [
       "\n",
       "  <div id=\"df-be2b1680-4427-4b18-8fa3-968fa6abd36f\">\n",
       "    <div class=\"colab-df-container\">\n",
       "      <div>\n",
       "<style scoped>\n",
       "    .dataframe tbody tr th:only-of-type {\n",
       "        vertical-align: middle;\n",
       "    }\n",
       "\n",
       "    .dataframe tbody tr th {\n",
       "        vertical-align: top;\n",
       "    }\n",
       "\n",
       "    .dataframe thead th {\n",
       "        text-align: right;\n",
       "    }\n",
       "</style>\n",
       "<table border=\"1\" class=\"dataframe\">\n",
       "  <thead>\n",
       "    <tr style=\"text-align: right;\">\n",
       "      <th></th>\n",
       "      <th>SEX</th>\n",
       "      <th>EDUCATION</th>\n",
       "      <th>MARRIAGE</th>\n",
       "      <th>PAY_1</th>\n",
       "      <th>PAY_2</th>\n",
       "      <th>PAY_3</th>\n",
       "      <th>PAY_4</th>\n",
       "      <th>PAY_5</th>\n",
       "      <th>PAY_6</th>\n",
       "    </tr>\n",
       "  </thead>\n",
       "  <tbody>\n",
       "    <tr>\n",
       "      <th>count</th>\n",
       "      <td>21000</td>\n",
       "      <td>21000</td>\n",
       "      <td>21000</td>\n",
       "      <td>21000</td>\n",
       "      <td>21000</td>\n",
       "      <td>21000</td>\n",
       "      <td>21000</td>\n",
       "      <td>21000</td>\n",
       "      <td>21000</td>\n",
       "    </tr>\n",
       "    <tr>\n",
       "      <th>unique</th>\n",
       "      <td>2</td>\n",
       "      <td>5</td>\n",
       "      <td>4</td>\n",
       "      <td>11</td>\n",
       "      <td>11</td>\n",
       "      <td>11</td>\n",
       "      <td>10</td>\n",
       "      <td>10</td>\n",
       "      <td>10</td>\n",
       "    </tr>\n",
       "    <tr>\n",
       "      <th>top</th>\n",
       "      <td>female</td>\n",
       "      <td>university</td>\n",
       "      <td>single</td>\n",
       "      <td>0</td>\n",
       "      <td>0</td>\n",
       "      <td>0</td>\n",
       "      <td>0</td>\n",
       "      <td>0</td>\n",
       "      <td>0</td>\n",
       "    </tr>\n",
       "    <tr>\n",
       "      <th>freq</th>\n",
       "      <td>12759</td>\n",
       "      <td>9789</td>\n",
       "      <td>11184</td>\n",
       "      <td>10324</td>\n",
       "      <td>11043</td>\n",
       "      <td>11056</td>\n",
       "      <td>11542</td>\n",
       "      <td>11852</td>\n",
       "      <td>11450</td>\n",
       "    </tr>\n",
       "  </tbody>\n",
       "</table>\n",
       "</div>\n",
       "      <button class=\"colab-df-convert\" onclick=\"convertToInteractive('df-be2b1680-4427-4b18-8fa3-968fa6abd36f')\"\n",
       "              title=\"Convert this dataframe to an interactive table.\"\n",
       "              style=\"display:none;\">\n",
       "        \n",
       "  <svg xmlns=\"http://www.w3.org/2000/svg\" height=\"24px\"viewBox=\"0 0 24 24\"\n",
       "       width=\"24px\">\n",
       "    <path d=\"M0 0h24v24H0V0z\" fill=\"none\"/>\n",
       "    <path d=\"M18.56 5.44l.94 2.06.94-2.06 2.06-.94-2.06-.94-.94-2.06-.94 2.06-2.06.94zm-11 1L8.5 8.5l.94-2.06 2.06-.94-2.06-.94L8.5 2.5l-.94 2.06-2.06.94zm10 10l.94 2.06.94-2.06 2.06-.94-2.06-.94-.94-2.06-.94 2.06-2.06.94z\"/><path d=\"M17.41 7.96l-1.37-1.37c-.4-.4-.92-.59-1.43-.59-.52 0-1.04.2-1.43.59L10.3 9.45l-7.72 7.72c-.78.78-.78 2.05 0 2.83L4 21.41c.39.39.9.59 1.41.59.51 0 1.02-.2 1.41-.59l7.78-7.78 2.81-2.81c.8-.78.8-2.07 0-2.86zM5.41 20L4 18.59l7.72-7.72 1.47 1.35L5.41 20z\"/>\n",
       "  </svg>\n",
       "      </button>\n",
       "      \n",
       "  <style>\n",
       "    .colab-df-container {\n",
       "      display:flex;\n",
       "      flex-wrap:wrap;\n",
       "      gap: 12px;\n",
       "    }\n",
       "\n",
       "    .colab-df-convert {\n",
       "      background-color: #E8F0FE;\n",
       "      border: none;\n",
       "      border-radius: 50%;\n",
       "      cursor: pointer;\n",
       "      display: none;\n",
       "      fill: #1967D2;\n",
       "      height: 32px;\n",
       "      padding: 0 0 0 0;\n",
       "      width: 32px;\n",
       "    }\n",
       "\n",
       "    .colab-df-convert:hover {\n",
       "      background-color: #E2EBFA;\n",
       "      box-shadow: 0px 1px 2px rgba(60, 64, 67, 0.3), 0px 1px 3px 1px rgba(60, 64, 67, 0.15);\n",
       "      fill: #174EA6;\n",
       "    }\n",
       "\n",
       "    [theme=dark] .colab-df-convert {\n",
       "      background-color: #3B4455;\n",
       "      fill: #D2E3FC;\n",
       "    }\n",
       "\n",
       "    [theme=dark] .colab-df-convert:hover {\n",
       "      background-color: #434B5C;\n",
       "      box-shadow: 0px 1px 3px 1px rgba(0, 0, 0, 0.15);\n",
       "      filter: drop-shadow(0px 1px 2px rgba(0, 0, 0, 0.3));\n",
       "      fill: #FFFFFF;\n",
       "    }\n",
       "  </style>\n",
       "\n",
       "      <script>\n",
       "        const buttonEl =\n",
       "          document.querySelector('#df-be2b1680-4427-4b18-8fa3-968fa6abd36f button.colab-df-convert');\n",
       "        buttonEl.style.display =\n",
       "          google.colab.kernel.accessAllowed ? 'block' : 'none';\n",
       "\n",
       "        async function convertToInteractive(key) {\n",
       "          const element = document.querySelector('#df-be2b1680-4427-4b18-8fa3-968fa6abd36f');\n",
       "          const dataTable =\n",
       "            await google.colab.kernel.invokeFunction('convertToInteractive',\n",
       "                                                     [key], {});\n",
       "          if (!dataTable) return;\n",
       "\n",
       "          const docLinkHtml = 'Like what you see? Visit the ' +\n",
       "            '<a target=\"_blank\" href=https://colab.research.google.com/notebooks/data_table.ipynb>data table notebook</a>'\n",
       "            + ' to learn more about interactive tables.';\n",
       "          element.innerHTML = '';\n",
       "          dataTable['output_type'] = 'display_data';\n",
       "          await google.colab.output.renderOutput(dataTable, element);\n",
       "          const docLink = document.createElement('div');\n",
       "          docLink.innerHTML = docLinkHtml;\n",
       "          element.appendChild(docLink);\n",
       "        }\n",
       "      </script>\n",
       "    </div>\n",
       "  </div>\n",
       "  "
      ],
      "text/plain": [
       "           SEX   EDUCATION MARRIAGE  PAY_1  PAY_2  PAY_3  PAY_4  PAY_5  PAY_6\n",
       "count    21000       21000    21000  21000  21000  21000  21000  21000  21000\n",
       "unique       2           5        4     11     11     11     10     10     10\n",
       "top     female  university   single      0      0      0      0      0      0\n",
       "freq     12759        9789    11184  10324  11043  11056  11542  11852  11450"
      ]
     },
     "execution_count": 10,
     "metadata": {},
     "output_type": "execute_result"
    }
   ],
   "source": [
    "dftrain[cats].describe()"
   ]
  },
  {
   "cell_type": "markdown",
   "metadata": {
    "id": "WjWsxsakh4Gi"
   },
   "source": [
    "Berdasarkan hasil pengamatan di atas :\n",
    "\n",
    "1. Data didominasi (proporsi lebih dari 50% dari jumlah baris data) oleh perempuan untuk kolom SEX, single untuk kolom MARRIAGE, berhasil bayar untuk kolom default_payment_next_month, nilai 0 untuk kolom PAY_1, PAY_2, PAY_3, PAY_4, PAY_5 dan PAY_6\n"
   ]
  },
  {
   "cell_type": "code",
   "execution_count": 12,
   "metadata": {
    "colab": {
     "base_uri": "https://localhost:8080/",
     "height": 364
    },
    "id": "xKWokDYKhuAO",
    "outputId": "59d31931-1a5d-4aa2-eeeb-06b14e6e2aa5"
   },
   "outputs": [
    {
     "data": {
      "text/html": [
       "\n",
       "  <div id=\"df-ef019fa9-2af8-4b95-aa3e-1b182ce854c7\">\n",
       "    <div class=\"colab-df-container\">\n",
       "      <div>\n",
       "<style scoped>\n",
       "    .dataframe tbody tr th:only-of-type {\n",
       "        vertical-align: middle;\n",
       "    }\n",
       "\n",
       "    .dataframe tbody tr th {\n",
       "        vertical-align: top;\n",
       "    }\n",
       "\n",
       "    .dataframe thead th {\n",
       "        text-align: right;\n",
       "    }\n",
       "</style>\n",
       "<table border=\"1\" class=\"dataframe\">\n",
       "  <thead>\n",
       "    <tr style=\"text-align: right;\">\n",
       "      <th></th>\n",
       "      <th>LIMIT_BAL</th>\n",
       "      <th>AGE</th>\n",
       "      <th>BILL_AMT1</th>\n",
       "      <th>BILL_AMT2</th>\n",
       "      <th>BILL_AMT3</th>\n",
       "      <th>BILL_AMT4</th>\n",
       "      <th>BILL_AMT5</th>\n",
       "      <th>BILL_AMT6</th>\n",
       "      <th>PAY_AMT1</th>\n",
       "      <th>PAY_AMT2</th>\n",
       "      <th>PAY_AMT3</th>\n",
       "      <th>PAY_AMT4</th>\n",
       "      <th>PAY_AMT5</th>\n",
       "      <th>PAY_AMT6</th>\n",
       "    </tr>\n",
       "  </thead>\n",
       "  <tbody>\n",
       "    <tr>\n",
       "      <th>count</th>\n",
       "      <td>21000.000000</td>\n",
       "      <td>21000.000000</td>\n",
       "      <td>21000.000000</td>\n",
       "      <td>21000.000000</td>\n",
       "      <td>2.100000e+04</td>\n",
       "      <td>21000.000000</td>\n",
       "      <td>21000.000000</td>\n",
       "      <td>21000.000000</td>\n",
       "      <td>21000.000000</td>\n",
       "      <td>2.100000e+04</td>\n",
       "      <td>21000.000000</td>\n",
       "      <td>21000.000000</td>\n",
       "      <td>21000.000000</td>\n",
       "      <td>21000.000000</td>\n",
       "    </tr>\n",
       "    <tr>\n",
       "      <th>mean</th>\n",
       "      <td>167214.746667</td>\n",
       "      <td>35.461619</td>\n",
       "      <td>51501.542381</td>\n",
       "      <td>49463.502667</td>\n",
       "      <td>4.723258e+04</td>\n",
       "      <td>43387.372476</td>\n",
       "      <td>40398.551095</td>\n",
       "      <td>38931.194000</td>\n",
       "      <td>5686.349333</td>\n",
       "      <td>5.923003e+03</td>\n",
       "      <td>5202.325333</td>\n",
       "      <td>4793.172000</td>\n",
       "      <td>4797.012952</td>\n",
       "      <td>5211.736762</td>\n",
       "    </tr>\n",
       "    <tr>\n",
       "      <th>std</th>\n",
       "      <td>128965.188482</td>\n",
       "      <td>9.206628</td>\n",
       "      <td>73453.641859</td>\n",
       "      <td>70866.586004</td>\n",
       "      <td>6.953988e+04</td>\n",
       "      <td>64081.073110</td>\n",
       "      <td>60396.811177</td>\n",
       "      <td>59196.499234</td>\n",
       "      <td>16868.075695</td>\n",
       "      <td>2.390953e+04</td>\n",
       "      <td>17006.416467</td>\n",
       "      <td>15467.403159</td>\n",
       "      <td>15270.031988</td>\n",
       "      <td>17698.795697</td>\n",
       "    </tr>\n",
       "    <tr>\n",
       "      <th>min</th>\n",
       "      <td>10000.000000</td>\n",
       "      <td>21.000000</td>\n",
       "      <td>-14386.000000</td>\n",
       "      <td>-69777.000000</td>\n",
       "      <td>-1.572640e+05</td>\n",
       "      <td>-170000.000000</td>\n",
       "      <td>-81334.000000</td>\n",
       "      <td>-209051.000000</td>\n",
       "      <td>0.000000</td>\n",
       "      <td>0.000000e+00</td>\n",
       "      <td>0.000000</td>\n",
       "      <td>0.000000</td>\n",
       "      <td>0.000000</td>\n",
       "      <td>0.000000</td>\n",
       "    </tr>\n",
       "    <tr>\n",
       "      <th>25%</th>\n",
       "      <td>50000.000000</td>\n",
       "      <td>28.000000</td>\n",
       "      <td>3564.750000</td>\n",
       "      <td>3000.000000</td>\n",
       "      <td>2.686250e+03</td>\n",
       "      <td>2332.000000</td>\n",
       "      <td>1759.000000</td>\n",
       "      <td>1242.750000</td>\n",
       "      <td>998.250000</td>\n",
       "      <td>8.360000e+02</td>\n",
       "      <td>390.000000</td>\n",
       "      <td>284.000000</td>\n",
       "      <td>241.000000</td>\n",
       "      <td>102.000000</td>\n",
       "    </tr>\n",
       "    <tr>\n",
       "      <th>50%</th>\n",
       "      <td>140000.000000</td>\n",
       "      <td>34.000000</td>\n",
       "      <td>22578.000000</td>\n",
       "      <td>21550.000000</td>\n",
       "      <td>2.024200e+04</td>\n",
       "      <td>19158.500000</td>\n",
       "      <td>18266.500000</td>\n",
       "      <td>17203.500000</td>\n",
       "      <td>2100.000000</td>\n",
       "      <td>2.011000e+03</td>\n",
       "      <td>1811.500000</td>\n",
       "      <td>1500.000000</td>\n",
       "      <td>1500.000000</td>\n",
       "      <td>1500.000000</td>\n",
       "    </tr>\n",
       "    <tr>\n",
       "      <th>75%</th>\n",
       "      <td>240000.000000</td>\n",
       "      <td>41.000000</td>\n",
       "      <td>67876.250000</td>\n",
       "      <td>64918.250000</td>\n",
       "      <td>6.082675e+04</td>\n",
       "      <td>55376.750000</td>\n",
       "      <td>50517.250000</td>\n",
       "      <td>49463.000000</td>\n",
       "      <td>5023.250000</td>\n",
       "      <td>5.000000e+03</td>\n",
       "      <td>4500.000000</td>\n",
       "      <td>4002.250000</td>\n",
       "      <td>4051.000000</td>\n",
       "      <td>4000.000000</td>\n",
       "    </tr>\n",
       "    <tr>\n",
       "      <th>max</th>\n",
       "      <td>800000.000000</td>\n",
       "      <td>75.000000</td>\n",
       "      <td>746814.000000</td>\n",
       "      <td>743970.000000</td>\n",
       "      <td>1.664089e+06</td>\n",
       "      <td>706864.000000</td>\n",
       "      <td>587067.000000</td>\n",
       "      <td>699944.000000</td>\n",
       "      <td>873552.000000</td>\n",
       "      <td>1.684259e+06</td>\n",
       "      <td>889043.000000</td>\n",
       "      <td>621000.000000</td>\n",
       "      <td>417990.000000</td>\n",
       "      <td>528666.000000</td>\n",
       "    </tr>\n",
       "  </tbody>\n",
       "</table>\n",
       "</div>\n",
       "      <button class=\"colab-df-convert\" onclick=\"convertToInteractive('df-ef019fa9-2af8-4b95-aa3e-1b182ce854c7')\"\n",
       "              title=\"Convert this dataframe to an interactive table.\"\n",
       "              style=\"display:none;\">\n",
       "        \n",
       "  <svg xmlns=\"http://www.w3.org/2000/svg\" height=\"24px\"viewBox=\"0 0 24 24\"\n",
       "       width=\"24px\">\n",
       "    <path d=\"M0 0h24v24H0V0z\" fill=\"none\"/>\n",
       "    <path d=\"M18.56 5.44l.94 2.06.94-2.06 2.06-.94-2.06-.94-.94-2.06-.94 2.06-2.06.94zm-11 1L8.5 8.5l.94-2.06 2.06-.94-2.06-.94L8.5 2.5l-.94 2.06-2.06.94zm10 10l.94 2.06.94-2.06 2.06-.94-2.06-.94-.94-2.06-.94 2.06-2.06.94z\"/><path d=\"M17.41 7.96l-1.37-1.37c-.4-.4-.92-.59-1.43-.59-.52 0-1.04.2-1.43.59L10.3 9.45l-7.72 7.72c-.78.78-.78 2.05 0 2.83L4 21.41c.39.39.9.59 1.41.59.51 0 1.02-.2 1.41-.59l7.78-7.78 2.81-2.81c.8-.78.8-2.07 0-2.86zM5.41 20L4 18.59l7.72-7.72 1.47 1.35L5.41 20z\"/>\n",
       "  </svg>\n",
       "      </button>\n",
       "      \n",
       "  <style>\n",
       "    .colab-df-container {\n",
       "      display:flex;\n",
       "      flex-wrap:wrap;\n",
       "      gap: 12px;\n",
       "    }\n",
       "\n",
       "    .colab-df-convert {\n",
       "      background-color: #E8F0FE;\n",
       "      border: none;\n",
       "      border-radius: 50%;\n",
       "      cursor: pointer;\n",
       "      display: none;\n",
       "      fill: #1967D2;\n",
       "      height: 32px;\n",
       "      padding: 0 0 0 0;\n",
       "      width: 32px;\n",
       "    }\n",
       "\n",
       "    .colab-df-convert:hover {\n",
       "      background-color: #E2EBFA;\n",
       "      box-shadow: 0px 1px 2px rgba(60, 64, 67, 0.3), 0px 1px 3px 1px rgba(60, 64, 67, 0.15);\n",
       "      fill: #174EA6;\n",
       "    }\n",
       "\n",
       "    [theme=dark] .colab-df-convert {\n",
       "      background-color: #3B4455;\n",
       "      fill: #D2E3FC;\n",
       "    }\n",
       "\n",
       "    [theme=dark] .colab-df-convert:hover {\n",
       "      background-color: #434B5C;\n",
       "      box-shadow: 0px 1px 3px 1px rgba(0, 0, 0, 0.15);\n",
       "      filter: drop-shadow(0px 1px 2px rgba(0, 0, 0, 0.3));\n",
       "      fill: #FFFFFF;\n",
       "    }\n",
       "  </style>\n",
       "\n",
       "      <script>\n",
       "        const buttonEl =\n",
       "          document.querySelector('#df-ef019fa9-2af8-4b95-aa3e-1b182ce854c7 button.colab-df-convert');\n",
       "        buttonEl.style.display =\n",
       "          google.colab.kernel.accessAllowed ? 'block' : 'none';\n",
       "\n",
       "        async function convertToInteractive(key) {\n",
       "          const element = document.querySelector('#df-ef019fa9-2af8-4b95-aa3e-1b182ce854c7');\n",
       "          const dataTable =\n",
       "            await google.colab.kernel.invokeFunction('convertToInteractive',\n",
       "                                                     [key], {});\n",
       "          if (!dataTable) return;\n",
       "\n",
       "          const docLinkHtml = 'Like what you see? Visit the ' +\n",
       "            '<a target=\"_blank\" href=https://colab.research.google.com/notebooks/data_table.ipynb>data table notebook</a>'\n",
       "            + ' to learn more about interactive tables.';\n",
       "          element.innerHTML = '';\n",
       "          dataTable['output_type'] = 'display_data';\n",
       "          await google.colab.output.renderOutput(dataTable, element);\n",
       "          const docLink = document.createElement('div');\n",
       "          docLink.innerHTML = docLinkHtml;\n",
       "          element.appendChild(docLink);\n",
       "        }\n",
       "      </script>\n",
       "    </div>\n",
       "  </div>\n",
       "  "
      ],
      "text/plain": [
       "           LIMIT_BAL           AGE      BILL_AMT1      BILL_AMT2  \\\n",
       "count   21000.000000  21000.000000   21000.000000   21000.000000   \n",
       "mean   167214.746667     35.461619   51501.542381   49463.502667   \n",
       "std    128965.188482      9.206628   73453.641859   70866.586004   \n",
       "min     10000.000000     21.000000  -14386.000000  -69777.000000   \n",
       "25%     50000.000000     28.000000    3564.750000    3000.000000   \n",
       "50%    140000.000000     34.000000   22578.000000   21550.000000   \n",
       "75%    240000.000000     41.000000   67876.250000   64918.250000   \n",
       "max    800000.000000     75.000000  746814.000000  743970.000000   \n",
       "\n",
       "          BILL_AMT3      BILL_AMT4      BILL_AMT5      BILL_AMT6  \\\n",
       "count  2.100000e+04   21000.000000   21000.000000   21000.000000   \n",
       "mean   4.723258e+04   43387.372476   40398.551095   38931.194000   \n",
       "std    6.953988e+04   64081.073110   60396.811177   59196.499234   \n",
       "min   -1.572640e+05 -170000.000000  -81334.000000 -209051.000000   \n",
       "25%    2.686250e+03    2332.000000    1759.000000    1242.750000   \n",
       "50%    2.024200e+04   19158.500000   18266.500000   17203.500000   \n",
       "75%    6.082675e+04   55376.750000   50517.250000   49463.000000   \n",
       "max    1.664089e+06  706864.000000  587067.000000  699944.000000   \n",
       "\n",
       "            PAY_AMT1      PAY_AMT2       PAY_AMT3       PAY_AMT4  \\\n",
       "count   21000.000000  2.100000e+04   21000.000000   21000.000000   \n",
       "mean     5686.349333  5.923003e+03    5202.325333    4793.172000   \n",
       "std     16868.075695  2.390953e+04   17006.416467   15467.403159   \n",
       "min         0.000000  0.000000e+00       0.000000       0.000000   \n",
       "25%       998.250000  8.360000e+02     390.000000     284.000000   \n",
       "50%      2100.000000  2.011000e+03    1811.500000    1500.000000   \n",
       "75%      5023.250000  5.000000e+03    4500.000000    4002.250000   \n",
       "max    873552.000000  1.684259e+06  889043.000000  621000.000000   \n",
       "\n",
       "            PAY_AMT5       PAY_AMT6  \n",
       "count   21000.000000   21000.000000  \n",
       "mean     4797.012952    5211.736762  \n",
       "std     15270.031988   17698.795697  \n",
       "min         0.000000       0.000000  \n",
       "25%       241.000000     102.000000  \n",
       "50%      1500.000000    1500.000000  \n",
       "75%      4051.000000    4000.000000  \n",
       "max    417990.000000  528666.000000  "
      ]
     },
     "execution_count": 12,
     "metadata": {},
     "output_type": "execute_result"
    }
   ],
   "source": [
    "dftrain[nums].describe()"
   ]
  },
  {
   "cell_type": "markdown",
   "metadata": {
    "id": "a85lf_eviX1-"
   },
   "source": [
    "Beberapa pengamatan Sementara:\n",
    "\n",
    "1. Tampaknya ada issue pada nilai minimal untuk kolom BILL_AMT1, BILL_AMT2, BILL_AMT3, BILL_AMT4, BILL_AMT5, BILL_AMT6 (bernilai negatif), akan di-(?) di langkah selanjutnya\n",
    "\n",
    "2. Kolom dengan tipe data numerikal, tampaknya skew ke kanan (long-right tail, mean > median)\n"
   ]
  },
  {
   "cell_type": "markdown",
   "metadata": {
    "id": "1qItxlrGifOc"
   },
   "source": [
    "### Handle duplicated data"
   ]
  },
  {
   "cell_type": "code",
   "execution_count": 13,
   "metadata": {
    "colab": {
     "base_uri": "https://localhost:8080/"
    },
    "id": "bfuuMg4YiotP",
    "outputId": "e1d8a0b9-6cfb-47a5-e385-c46947acc40f"
   },
   "outputs": [
    {
     "name": "stdout",
     "output_type": "stream",
     "text": [
      "Jumlah baris data duplikat = 0\n"
     ]
    }
   ],
   "source": [
    "print(f'Jumlah baris data duplikat = {dftrain.duplicated().sum()}')"
   ]
  },
  {
   "cell_type": "markdown",
   "metadata": {
    "id": "a94IotX6inqi"
   },
   "source": [
    "tidak ada data duplikat"
   ]
  },
  {
   "cell_type": "markdown",
   "metadata": {
    "id": "4-KO8mqQi-5y"
   },
   "source": [
    "### split data"
   ]
  },
  {
   "cell_type": "code",
   "execution_count": 14,
   "metadata": {
    "id": "oRI4Gi53ispz"
   },
   "outputs": [],
   "source": [
    "ind_var = dftrain.drop('default_payment_next_month',axis = 1)\n",
    "ind_var = ind_var.columns.to_list() #kolom independent variable\n"
   ]
  },
  {
   "cell_type": "code",
   "execution_count": 16,
   "metadata": {
    "id": "LHEyvWZhjJq6"
   },
   "outputs": [],
   "source": [
    "X = dftrain[ind_var]\n",
    "y = dftrain[['default_payment_next_month']]\n",
    "\n",
    "from sklearn.model_selection import train_test_split\n",
    "X_train, X_test, y_train, y_test = train_test_split(X, y, test_size = 0.3, random_state = 42)\n"
   ]
  },
  {
   "cell_type": "markdown",
   "metadata": {
    "id": "5Emcr-NihzVh"
   },
   "source": [
    "### Handle outliers"
   ]
  },
  {
   "cell_type": "code",
   "execution_count": 17,
   "metadata": {
    "colab": {
     "base_uri": "https://localhost:8080/"
    },
    "id": "FNrSY7wDjc7x",
    "outputId": "9a4e1402-6d96-4088-bffc-554b2f01d1db"
   },
   "outputs": [
    {
     "name": "stdout",
     "output_type": "stream",
     "text": [
      "<class 'pandas.core.frame.DataFrame'>\n",
      "Int64Index: 14700 entries, 16485 to 15795\n",
      "Data columns (total 25 columns):\n",
      " #   Column                      Non-Null Count  Dtype \n",
      "---  ------                      --------------  ----- \n",
      " 0   ID                          14700 non-null  int64 \n",
      " 1   LIMIT_BAL                   14700 non-null  int64 \n",
      " 2   SEX                         14700 non-null  object\n",
      " 3   EDUCATION                   14700 non-null  object\n",
      " 4   MARRIAGE                    14700 non-null  object\n",
      " 5   AGE                         14700 non-null  int64 \n",
      " 6   PAY_1                       14700 non-null  object\n",
      " 7   PAY_2                       14700 non-null  object\n",
      " 8   PAY_3                       14700 non-null  object\n",
      " 9   PAY_4                       14700 non-null  object\n",
      " 10  PAY_5                       14700 non-null  object\n",
      " 11  PAY_6                       14700 non-null  object\n",
      " 12  BILL_AMT1                   14700 non-null  int64 \n",
      " 13  BILL_AMT2                   14700 non-null  int64 \n",
      " 14  BILL_AMT3                   14700 non-null  int64 \n",
      " 15  BILL_AMT4                   14700 non-null  int64 \n",
      " 16  BILL_AMT5                   14700 non-null  int64 \n",
      " 17  BILL_AMT6                   14700 non-null  int64 \n",
      " 18  PAY_AMT1                    14700 non-null  int64 \n",
      " 19  PAY_AMT2                    14700 non-null  int64 \n",
      " 20  PAY_AMT3                    14700 non-null  int64 \n",
      " 21  PAY_AMT4                    14700 non-null  int64 \n",
      " 22  PAY_AMT5                    14700 non-null  int64 \n",
      " 23  PAY_AMT6                    14700 non-null  int64 \n",
      " 24  default_payment_next_month  14700 non-null  int64 \n",
      "dtypes: int64(16), object(9)\n",
      "memory usage: 2.9+ MB\n"
     ]
    }
   ],
   "source": [
    "merge_train = pd.concat([X_train,y_train], axis = 1)\n",
    "merge_train.info()"
   ]
  },
  {
   "cell_type": "markdown",
   "metadata": {
    "id": "204Z9Cx4kdcL"
   },
   "source": [
    "Sebelum dilakukan penanganan nilai outlier, akan dicek terlebih dahulu distribusi dari tiap feature agar dapat ditentukan penanganan yang tepat.\n"
   ]
  },
  {
   "cell_type": "code",
   "execution_count": 18,
   "metadata": {
    "colab": {
     "base_uri": "https://localhost:8080/",
     "height": 188
    },
    "id": "f5zMV3vjjvjk",
    "outputId": "0989c1a9-3d6d-4c7f-8fc0-73c368bd71df"
   },
   "outputs": [
    {
     "data": {
      "text/plain": [
       "<Axes: xlabel='AGE'>"
      ]
     },
     "execution_count": 18,
     "metadata": {},
     "output_type": "execute_result"
    },
    {
     "data": {
      "image/png": "[encoded data removed]",
      "text/plain": [
       "<Figure size 288x144 with 1 Axes>"
      ]
     },
     "metadata": {
      "needs_background": "light"
     },
     "output_type": "display_data"
    }
   ],
   "source": [
    "# Check Age Distribution\n",
    "fig, ax = plt.subplots(figsize=(4, 2))\n",
    "sns.boxplot(x = merge_train['AGE'], ax = ax)"
   ]
  },
  {
   "cell_type": "code",
   "execution_count": 19,
   "metadata": {
    "colab": {
     "base_uri": "https://localhost:8080/",
     "height": 243
    },
    "id": "i3IKdL1Mkk8K",
    "outputId": "375498c0-dbf9-4c77-cf78-36f81f4005f2"
   },
   "outputs": [
    {
     "data": {
      "text/plain": [
       "<Axes: xlabel='LIMIT_BAL'>"
      ]
     },
     "execution_count": 19,
     "metadata": {},
     "output_type": "execute_result"
    },
    {
     "data": {
      "image/png": "[encoded data removed]",
      "text/plain": [
       "<Figure size 360x216 with 1 Axes>"
      ]
     },
     "metadata": {
      "needs_background": "light"
     },
     "output_type": "display_data"
    }
   ],
   "source": [
    "# Checking LIMIT_BAL outliers\n",
    "fig, ax = plt.subplots(figsize=(5, 3))\n",
    "sns.boxplot(x = merge_train['LIMIT_BAL'], ax = ax)"
   ]
  },
  {
   "cell_type": "markdown",
   "metadata": {
    "id": "7eohRkoskzWH"
   },
   "source": [
    "jika dilihat dari nilai upper bound (Q3 + 1.5*IQR), terdapat outlier pada feature AGE, dan LIMIT_BAL.\n"
   ]
  },
  {
   "cell_type": "code",
   "execution_count": 20,
   "metadata": {
    "colab": {
     "base_uri": "https://localhost:8080/",
     "height": 540
    },
    "id": "AyeoBJ4Nks24",
    "outputId": "fbd2db65-646a-446c-d1e4-4ecaf3126d82"
   },
   "outputs": [
    {
     "data": {
      "image/png": "[encoded data removed]",
      "text/plain": [
       "<Figure size 1080x648 with 6 Axes>"
      ]
     },
     "metadata": {
      "needs_background": "light"
     },
     "output_type": "display_data"
    }
   ],
   "source": [
    "# BILL BOX PLOT\n",
    "bill_boxplot, axs = plt.subplots(ncols = 3, nrows=2, figsize=(15, 9))\n",
    "\n",
    "sns.boxplot(y = merge_train['BILL_AMT1'], ax = axs[0,0])\n",
    "axs[0,0].set_title('BILL_AMT1 Distribution')\n",
    "sns.boxplot(y = merge_train['BILL_AMT2'], ax = axs[0,1])\n",
    "axs[0,1].set_title('BILL_AMT2 Distribution')\n",
    "sns.boxplot(y = merge_train['BILL_AMT3'], ax = axs[0,2])\n",
    "axs[0,2].set_title('BILL_AMT3 Distribution')\n",
    "sns.boxplot(y = merge_train['BILL_AMT4'], ax = axs[1,0])\n",
    "axs[1,0].set_title('BILL_AMT4 Distribution')\n",
    "sns.boxplot(y = merge_train['BILL_AMT5'], ax = axs[1,1])\n",
    "axs[1,1].set_title('BILL_AMT5 Distribution')\n",
    "sns.boxplot(y = merge_train['BILL_AMT6'], ax = axs[1,2])\n",
    "axs[1,2].set_title('BILL_AMT6 Distribution')\n",
    "\n",
    "bill_boxplot.subplots_adjust(hspace=0.3)"
   ]
  },
  {
   "cell_type": "markdown",
   "metadata": {
    "id": "c7MK-bKgk-ay"
   },
   "source": [
    "Terdapat outlier pada feature BILL_AMT3, dan BILL_AMT 6 yang ekstrim, dan hal ini mungkin akan menurunkan performa model prediksi. Dan pada feature BILL_AMT1 hingga BILL_AMT6 terdapat nilai negatif, dimana data ini dapat menunjukkan adanya sejumlah pembayaran berlebih pada bulan-bulan sebelumnya.\n"
   ]
  },
  {
   "cell_type": "code",
   "execution_count": 22,
   "metadata": {
    "colab": {
     "base_uri": "https://localhost:8080/",
     "height": 540
    },
    "id": "_tuM4gr9k6mb",
    "outputId": "91860b01-7eb9-46a6-c2f1-954c509e2530"
   },
   "outputs": [
    {
     "data": {
      "image/png": "[encoded data removed]",
      "text/plain": [
       "<Figure size 1080x648 with 6 Axes>"
      ]
     },
     "metadata": {
      "needs_background": "light"
     },
     "output_type": "display_data"
    }
   ],
   "source": [
    "# PAY BOX PLOT\n",
    "pay_boxplot, axs = plt.subplots(ncols = 3, nrows=2, figsize=(15, 9))\n",
    "\n",
    "sns.boxplot(y = merge_train['PAY_AMT1'], ax = axs[0,0])\n",
    "axs[0,0].set_title('PAY_AMT1 Distribution')\n",
    "sns.boxplot(y = merge_train['PAY_AMT2'], ax = axs[0,1])\n",
    "axs[0,1].set_title('PAY_AMT2 Distribution')\n",
    "sns.boxplot(y = merge_train['PAY_AMT3'], ax = axs[0,2])\n",
    "axs[0,2].set_title('PAY_AMT3 Distribution')\n",
    "sns.boxplot(y = merge_train['PAY_AMT4'], ax = axs[1,0])\n",
    "axs[1,0].set_title('PAY_AMT4 Distribution')\n",
    "sns.boxplot(y = merge_train['PAY_AMT5'], ax = axs[1,1])\n",
    "axs[1,1].set_title('PAY_AMT5 Distribution')\n",
    "sns.boxplot(y = merge_train['PAY_AMT6'], ax = axs[1,2])\n",
    "axs[1,2].set_title('PAY_AMT6 Distribution')\n",
    "\n",
    "pay_boxplot.subplots_adjust(hspace=0.3)"
   ]
  },
  {
   "cell_type": "markdown",
   "metadata": {
    "id": "yM-IlwFNlZCp"
   },
   "source": [
    "Terdapat nilai outlier yang sangat ekstrim pada feature PAY_AMT1 hingga PAY_AMT6, sehingga perlu dilakukan penanganan dengan penghapusan nilai outliers agar performa model dapat optimal.\n",
    "\n",
    "Selanjutnya akan dilakukan drop baris yang memiliki data outlier dengan metode IQR.\n"
   ]
  },
  {
   "cell_type": "code",
   "execution_count": 23,
   "metadata": {
    "colab": {
     "base_uri": "https://localhost:8080/"
    },
    "id": "_mDpZfSUlHuN",
    "outputId": "150a0231-8d89-4bf8-8581-19f16a3db09c"
   },
   "outputs": [
    {
     "name": "stdout",
     "output_type": "stream",
     "text": [
      "Jumlah baris sebelum memfilter outlier : 14700\n",
      "Jumlah baris setelah memfilter outlier : 13245\n"
     ]
    }
   ],
   "source": [
    "# Outliers handling\n",
    "\n",
    "print(f'Jumlah baris sebelum memfilter outlier : {len(merge_train)}')\n",
    "\n",
    "for i in nums:\n",
    "    q1 = merge_train[i].quantile(0.25)\n",
    "    q3 = merge_train[i].quantile(0.75)\n",
    "    iqr = q3 - q1\n",
    "    low_limit = q1 - (1.5 * iqr)\n",
    "    high_limit = q3 + (1.5 * iqr)\n",
    "    filtered_entries = ((merge_train[i] >= low_limit) & (merge_train[i] <= high_limit))\n",
    "    \n",
    "merge_train = merge_train[filtered_entries] #filter untuk hanya mengambil value z-score < 3\n",
    "\n",
    "print(f'Jumlah baris setelah memfilter outlier : {len(merge_train)}')"
   ]
  },
  {
   "cell_type": "code",
   "execution_count": 24,
   "metadata": {
    "colab": {
     "base_uri": "https://localhost:8080/"
    },
    "id": "sXGT0dcylil-",
    "outputId": "bfc882cc-728b-4fff-e0b1-0ff9d572e88e"
   },
   "outputs": [
    {
     "name": "stdout",
     "output_type": "stream",
     "text": [
      "<class 'pandas.core.frame.DataFrame'>\n",
      "Int64Index: 13245 entries, 16485 to 15795\n",
      "Data columns (total 25 columns):\n",
      " #   Column                      Non-Null Count  Dtype \n",
      "---  ------                      --------------  ----- \n",
      " 0   ID                          13245 non-null  int64 \n",
      " 1   LIMIT_BAL                   13245 non-null  int64 \n",
      " 2   SEX                         13245 non-null  object\n",
      " 3   EDUCATION                   13245 non-null  object\n",
      " 4   MARRIAGE                    13245 non-null  object\n",
      " 5   AGE                         13245 non-null  int64 \n",
      " 6   PAY_1                       13245 non-null  object\n",
      " 7   PAY_2                       13245 non-null  object\n",
      " 8   PAY_3                       13245 non-null  object\n",
      " 9   PAY_4                       13245 non-null  object\n",
      " 10  PAY_5                       13245 non-null  object\n",
      " 11  PAY_6                       13245 non-null  object\n",
      " 12  BILL_AMT1                   13245 non-null  int64 \n",
      " 13  BILL_AMT2                   13245 non-null  int64 \n",
      " 14  BILL_AMT3                   13245 non-null  int64 \n",
      " 15  BILL_AMT4                   13245 non-null  int64 \n",
      " 16  BILL_AMT5                   13245 non-null  int64 \n",
      " 17  BILL_AMT6                   13245 non-null  int64 \n",
      " 18  PAY_AMT1                    13245 non-null  int64 \n",
      " 19  PAY_AMT2                    13245 non-null  int64 \n",
      " 20  PAY_AMT3                    13245 non-null  int64 \n",
      " 21  PAY_AMT4                    13245 non-null  int64 \n",
      " 22  PAY_AMT5                    13245 non-null  int64 \n",
      " 23  PAY_AMT6                    13245 non-null  int64 \n",
      " 24  default_payment_next_month  13245 non-null  int64 \n",
      "dtypes: int64(16), object(9)\n",
      "memory usage: 2.6+ MB\n"
     ]
    }
   ],
   "source": [
    "merge_train.info()"
   ]
  },
  {
   "cell_type": "code",
   "execution_count": 25,
   "metadata": {
    "id": "WNnHgLWwlt2R"
   },
   "outputs": [],
   "source": [
    "X_train = merge_train.drop('default_payment_next_month',axis = 1)\n",
    "y_train = merge_train[['default_payment_next_month']]\n"
   ]
  },
  {
   "cell_type": "markdown",
   "metadata": {
    "id": "0xDC8oYVl2x6"
   },
   "source": [
    "### Feature transformation"
   ]
  },
  {
   "cell_type": "code",
   "execution_count": 26,
   "metadata": {
    "id": "9GRYJL2pmAIU"
   },
   "outputs": [],
   "source": [
    "#menggunakan standardization (scaler)\n",
    "\n",
    "from sklearn.preprocessing import StandardScaler\n",
    "ss = StandardScaler()\n",
    "\n",
    "numerical_features = X[nums].columns.to_list()\n",
    "for i in numerical_features:\n",
    "    scaler = ss.fit(X_train[[i]])\n",
    "    X_train[i] = scaler.transform(X_train[[i]])\n",
    "    X_test[i] = scaler.transform(X_test[[i]])"
   ]
  },
  {
   "cell_type": "code",
   "execution_count": 27,
   "metadata": {
    "colab": {
     "base_uri": "https://localhost:8080/",
     "height": 451
    },
    "id": "eSj7QHeDmFeR",
    "outputId": "da48a2c6-78d4-4ec4-9a99-5e3ea2b22208"
   },
   "outputs": [
    {
     "data": {
      "text/html": [
       "\n",
       "  <div id=\"df-7146b1a2-f2d0-4406-b3bc-012b382106a9\">\n",
       "    <div class=\"colab-df-container\">\n",
       "      <div>\n",
       "<style scoped>\n",
       "    .dataframe tbody tr th:only-of-type {\n",
       "        vertical-align: middle;\n",
       "    }\n",
       "\n",
       "    .dataframe tbody tr th {\n",
       "        vertical-align: top;\n",
       "    }\n",
       "\n",
       "    .dataframe thead th {\n",
       "        text-align: right;\n",
       "    }\n",
       "</style>\n",
       "<table border=\"1\" class=\"dataframe\">\n",
       "  <thead>\n",
       "    <tr style=\"text-align: right;\">\n",
       "      <th></th>\n",
       "      <th>LIMIT_BAL</th>\n",
       "      <th>AGE</th>\n",
       "      <th>BILL_AMT1</th>\n",
       "      <th>BILL_AMT2</th>\n",
       "      <th>BILL_AMT3</th>\n",
       "      <th>BILL_AMT4</th>\n",
       "      <th>BILL_AMT5</th>\n",
       "      <th>BILL_AMT6</th>\n",
       "      <th>PAY_AMT1</th>\n",
       "      <th>PAY_AMT2</th>\n",
       "      <th>PAY_AMT3</th>\n",
       "      <th>PAY_AMT4</th>\n",
       "      <th>PAY_AMT5</th>\n",
       "      <th>PAY_AMT6</th>\n",
       "    </tr>\n",
       "  </thead>\n",
       "  <tbody>\n",
       "    <tr>\n",
       "      <th>count</th>\n",
       "      <td>1.324500e+04</td>\n",
       "      <td>1.324500e+04</td>\n",
       "      <td>1.324500e+04</td>\n",
       "      <td>1.324500e+04</td>\n",
       "      <td>1.324500e+04</td>\n",
       "      <td>1.324500e+04</td>\n",
       "      <td>1.324500e+04</td>\n",
       "      <td>1.324500e+04</td>\n",
       "      <td>1.324500e+04</td>\n",
       "      <td>1.324500e+04</td>\n",
       "      <td>1.324500e+04</td>\n",
       "      <td>1.324500e+04</td>\n",
       "      <td>1.324500e+04</td>\n",
       "      <td>1.324500e+04</td>\n",
       "    </tr>\n",
       "    <tr>\n",
       "      <th>mean</th>\n",
       "      <td>8.502909e-17</td>\n",
       "      <td>7.188579e-17</td>\n",
       "      <td>6.491179e-17</td>\n",
       "      <td>-1.072922e-17</td>\n",
       "      <td>-3.808874e-17</td>\n",
       "      <td>1.609383e-17</td>\n",
       "      <td>2.575013e-17</td>\n",
       "      <td>9.870884e-17</td>\n",
       "      <td>1.287507e-17</td>\n",
       "      <td>-1.180214e-17</td>\n",
       "      <td>3.111474e-17</td>\n",
       "      <td>-2.145844e-18</td>\n",
       "      <td>-1.180214e-17</td>\n",
       "      <td>6.544826e-17</td>\n",
       "    </tr>\n",
       "    <tr>\n",
       "      <th>std</th>\n",
       "      <td>1.000038e+00</td>\n",
       "      <td>1.000038e+00</td>\n",
       "      <td>1.000038e+00</td>\n",
       "      <td>1.000038e+00</td>\n",
       "      <td>1.000038e+00</td>\n",
       "      <td>1.000038e+00</td>\n",
       "      <td>1.000038e+00</td>\n",
       "      <td>1.000038e+00</td>\n",
       "      <td>1.000038e+00</td>\n",
       "      <td>1.000038e+00</td>\n",
       "      <td>1.000038e+00</td>\n",
       "      <td>1.000038e+00</td>\n",
       "      <td>1.000038e+00</td>\n",
       "      <td>1.000038e+00</td>\n",
       "    </tr>\n",
       "    <tr>\n",
       "      <th>min</th>\n",
       "      <td>-1.207694e+00</td>\n",
       "      <td>-1.554403e+00</td>\n",
       "      <td>-9.069789e-01</td>\n",
       "      <td>-1.881413e+00</td>\n",
       "      <td>-1.516596e+00</td>\n",
       "      <td>-3.860511e+00</td>\n",
       "      <td>-1.758329e+00</td>\n",
       "      <td>-2.613412e+00</td>\n",
       "      <td>-3.451685e-01</td>\n",
       "      <td>-2.793835e-01</td>\n",
       "      <td>-3.130672e-01</td>\n",
       "      <td>-3.059016e-01</td>\n",
       "      <td>-3.175540e-01</td>\n",
       "      <td>-8.883237e-01</td>\n",
       "    </tr>\n",
       "    <tr>\n",
       "      <th>25%</th>\n",
       "      <td>-8.767557e-01</td>\n",
       "      <td>-7.997478e-01</td>\n",
       "      <td>-6.880194e-01</td>\n",
       "      <td>-6.917238e-01</td>\n",
       "      <td>-6.854665e-01</td>\n",
       "      <td>-6.817431e-01</td>\n",
       "      <td>-6.848557e-01</td>\n",
       "      <td>-6.850646e-01</td>\n",
       "      <td>-2.921459e-01</td>\n",
       "      <td>-2.427181e-01</td>\n",
       "      <td>-2.888627e-01</td>\n",
       "      <td>-2.918868e-01</td>\n",
       "      <td>-3.048103e-01</td>\n",
       "      <td>-8.883237e-01</td>\n",
       "    </tr>\n",
       "    <tr>\n",
       "      <th>50%</th>\n",
       "      <td>-2.148787e-01</td>\n",
       "      <td>-1.529007e-01</td>\n",
       "      <td>-4.046387e-01</td>\n",
       "      <td>-4.015007e-01</td>\n",
       "      <td>-3.924846e-01</td>\n",
       "      <td>-3.749521e-01</td>\n",
       "      <td>-3.647517e-01</td>\n",
       "      <td>-3.725607e-01</td>\n",
       "      <td>-1.980878e-01</td>\n",
       "      <td>-1.626147e-01</td>\n",
       "      <td>-1.935298e-01</td>\n",
       "      <td>-2.017913e-01</td>\n",
       "      <td>-1.992923e-01</td>\n",
       "      <td>-3.840434e-01</td>\n",
       "    </tr>\n",
       "    <tr>\n",
       "      <th>75%</th>\n",
       "      <td>5.297329e-01</td>\n",
       "      <td>6.017542e-01</td>\n",
       "      <td>2.575117e-01</td>\n",
       "      <td>2.541929e-01</td>\n",
       "      <td>2.438834e-01</td>\n",
       "      <td>2.186872e-01</td>\n",
       "      <td>2.423557e-01</td>\n",
       "      <td>2.597855e-01</td>\n",
       "      <td>1.003132e-02</td>\n",
       "      <td>-2.418523e-02</td>\n",
       "      <td>-1.956947e-02</td>\n",
       "      <td>-2.560449e-02</td>\n",
       "      <td>-2.020059e-02</td>\n",
       "      <td>4.869863e-01</td>\n",
       "    </tr>\n",
       "    <tr>\n",
       "      <th>max</th>\n",
       "      <td>5.162872e+00</td>\n",
       "      <td>4.267221e+00</td>\n",
       "      <td>9.601554e+00</td>\n",
       "      <td>1.030378e+01</td>\n",
       "      <td>1.109309e+01</td>\n",
       "      <td>1.234613e+01</td>\n",
       "      <td>9.221079e+00</td>\n",
       "      <td>9.933033e+00</td>\n",
       "      <td>3.593654e+01</td>\n",
       "      <td>7.136309e+01</td>\n",
       "      <td>2.916976e+01</td>\n",
       "      <td>3.949629e+01</td>\n",
       "      <td>2.603093e+01</td>\n",
       "      <td>3.612149e+00</td>\n",
       "    </tr>\n",
       "  </tbody>\n",
       "</table>\n",
       "</div>\n",
       "      <button class=\"colab-df-convert\" onclick=\"convertToInteractive('df-7146b1a2-f2d0-4406-b3bc-012b382106a9')\"\n",
       "              title=\"Convert this dataframe to an interactive table.\"\n",
       "              style=\"display:none;\">\n",
       "        \n",
       "  <svg xmlns=\"http://www.w3.org/2000/svg\" height=\"24px\"viewBox=\"0 0 24 24\"\n",
       "       width=\"24px\">\n",
       "    <path d=\"M0 0h24v24H0V0z\" fill=\"none\"/>\n",
       "    <path d=\"M18.56 5.44l.94 2.06.94-2.06 2.06-.94-2.06-.94-.94-2.06-.94 2.06-2.06.94zm-11 1L8.5 8.5l.94-2.06 2.06-.94-2.06-.94L8.5 2.5l-.94 2.06-2.06.94zm10 10l.94 2.06.94-2.06 2.06-.94-2.06-.94-.94-2.06-.94 2.06-2.06.94z\"/><path d=\"M17.41 7.96l-1.37-1.37c-.4-.4-.92-.59-1.43-.59-.52 0-1.04.2-1.43.59L10.3 9.45l-7.72 7.72c-.78.78-.78 2.05 0 2.83L4 21.41c.39.39.9.59 1.41.59.51 0 1.02-.2 1.41-.59l7.78-7.78 2.81-2.81c.8-.78.8-2.07 0-2.86zM5.41 20L4 18.59l7.72-7.72 1.47 1.35L5.41 20z\"/>\n",
       "  </svg>\n",
       "      </button>\n",
       "      \n",
       "  <style>\n",
       "    .colab-df-container {\n",
       "      display:flex;\n",
       "      flex-wrap:wrap;\n",
       "      gap: 12px;\n",
       "    }\n",
       "\n",
       "    .colab-df-convert {\n",
       "      background-color: #E8F0FE;\n",
       "      border: none;\n",
       "      border-radius: 50%;\n",
       "      cursor: pointer;\n",
       "      display: none;\n",
       "      fill: #1967D2;\n",
       "      height: 32px;\n",
       "      padding: 0 0 0 0;\n",
       "      width: 32px;\n",
       "    }\n",
       "\n",
       "    .colab-df-convert:hover {\n",
       "      background-color: #E2EBFA;\n",
       "      box-shadow: 0px 1px 2px rgba(60, 64, 67, 0.3), 0px 1px 3px 1px rgba(60, 64, 67, 0.15);\n",
       "      fill: #174EA6;\n",
       "    }\n",
       "\n",
       "    [theme=dark] .colab-df-convert {\n",
       "      background-color: #3B4455;\n",
       "      fill: #D2E3FC;\n",
       "    }\n",
       "\n",
       "    [theme=dark] .colab-df-convert:hover {\n",
       "      background-color: #434B5C;\n",
       "      box-shadow: 0px 1px 3px 1px rgba(0, 0, 0, 0.15);\n",
       "      filter: drop-shadow(0px 1px 2px rgba(0, 0, 0, 0.3));\n",
       "      fill: #FFFFFF;\n",
       "    }\n",
       "  </style>\n",
       "\n",
       "      <script>\n",
       "        const buttonEl =\n",
       "          document.querySelector('#df-7146b1a2-f2d0-4406-b3bc-012b382106a9 button.colab-df-convert');\n",
       "        buttonEl.style.display =\n",
       "          google.colab.kernel.accessAllowed ? 'block' : 'none';\n",
       "\n",
       "        async function convertToInteractive(key) {\n",
       "          const element = document.querySelector('#df-7146b1a2-f2d0-4406-b3bc-012b382106a9');\n",
       "          const dataTable =\n",
       "            await google.colab.kernel.invokeFunction('convertToInteractive',\n",
       "                                                     [key], {});\n",
       "          if (!dataTable) return;\n",
       "\n",
       "          const docLinkHtml = 'Like what you see? Visit the ' +\n",
       "            '<a target=\"_blank\" href=https://colab.research.google.com/notebooks/data_table.ipynb>data table notebook</a>'\n",
       "            + ' to learn more about interactive tables.';\n",
       "          element.innerHTML = '';\n",
       "          dataTable['output_type'] = 'display_data';\n",
       "          await google.colab.output.renderOutput(dataTable, element);\n",
       "          const docLink = document.createElement('div');\n",
       "          docLink.innerHTML = docLinkHtml;\n",
       "          element.appendChild(docLink);\n",
       "        }\n",
       "      </script>\n",
       "    </div>\n",
       "  </div>\n",
       "  "
      ],
      "text/plain": [
       "          LIMIT_BAL           AGE     BILL_AMT1     BILL_AMT2     BILL_AMT3  \\\n",
       "count  1.324500e+04  1.324500e+04  1.324500e+04  1.324500e+04  1.324500e+04   \n",
       "mean   8.502909e-17  7.188579e-17  6.491179e-17 -1.072922e-17 -3.808874e-17   \n",
       "std    1.000038e+00  1.000038e+00  1.000038e+00  1.000038e+00  1.000038e+00   \n",
       "min   -1.207694e+00 -1.554403e+00 -9.069789e-01 -1.881413e+00 -1.516596e+00   \n",
       "25%   -8.767557e-01 -7.997478e-01 -6.880194e-01 -6.917238e-01 -6.854665e-01   \n",
       "50%   -2.148787e-01 -1.529007e-01 -4.046387e-01 -4.015007e-01 -3.924846e-01   \n",
       "75%    5.297329e-01  6.017542e-01  2.575117e-01  2.541929e-01  2.438834e-01   \n",
       "max    5.162872e+00  4.267221e+00  9.601554e+00  1.030378e+01  1.109309e+01   \n",
       "\n",
       "          BILL_AMT4     BILL_AMT5     BILL_AMT6      PAY_AMT1      PAY_AMT2  \\\n",
       "count  1.324500e+04  1.324500e+04  1.324500e+04  1.324500e+04  1.324500e+04   \n",
       "mean   1.609383e-17  2.575013e-17  9.870884e-17  1.287507e-17 -1.180214e-17   \n",
       "std    1.000038e+00  1.000038e+00  1.000038e+00  1.000038e+00  1.000038e+00   \n",
       "min   -3.860511e+00 -1.758329e+00 -2.613412e+00 -3.451685e-01 -2.793835e-01   \n",
       "25%   -6.817431e-01 -6.848557e-01 -6.850646e-01 -2.921459e-01 -2.427181e-01   \n",
       "50%   -3.749521e-01 -3.647517e-01 -3.725607e-01 -1.980878e-01 -1.626147e-01   \n",
       "75%    2.186872e-01  2.423557e-01  2.597855e-01  1.003132e-02 -2.418523e-02   \n",
       "max    1.234613e+01  9.221079e+00  9.933033e+00  3.593654e+01  7.136309e+01   \n",
       "\n",
       "           PAY_AMT3      PAY_AMT4      PAY_AMT5      PAY_AMT6  \n",
       "count  1.324500e+04  1.324500e+04  1.324500e+04  1.324500e+04  \n",
       "mean   3.111474e-17 -2.145844e-18 -1.180214e-17  6.544826e-17  \n",
       "std    1.000038e+00  1.000038e+00  1.000038e+00  1.000038e+00  \n",
       "min   -3.130672e-01 -3.059016e-01 -3.175540e-01 -8.883237e-01  \n",
       "25%   -2.888627e-01 -2.918868e-01 -3.048103e-01 -8.883237e-01  \n",
       "50%   -1.935298e-01 -2.017913e-01 -1.992923e-01 -3.840434e-01  \n",
       "75%   -1.956947e-02 -2.560449e-02 -2.020059e-02  4.869863e-01  \n",
       "max    2.916976e+01  3.949629e+01  2.603093e+01  3.612149e+00  "
      ]
     },
     "execution_count": 27,
     "metadata": {},
     "output_type": "execute_result"
    }
   ],
   "source": [
    "X_train[nums].describe()"
   ]
  },
  {
   "cell_type": "markdown",
   "metadata": {
    "id": "Kd_G7A3ml2pI"
   },
   "source": [
    "###### Untuk skala pada nilai data train dan test sudah sama\n",
    "\n"
   ]
  },
  {
   "cell_type": "markdown",
   "metadata": {
    "id": "74mPd4ssmeZD"
   },
   "source": [
    "### Feature encoding"
   ]
  },
  {
   "cell_type": "markdown",
   "metadata": {
    "id": "NWw9MtLomh0V"
   },
   "source": [
    "Feature SEX akan dilakukan label encoding"
   ]
  },
  {
   "cell_type": "code",
   "execution_count": 29,
   "metadata": {
    "colab": {
     "base_uri": "https://localhost:8080/"
    },
    "id": "58neLKCUl0uW",
    "outputId": "91bc0836-9306-4a14-c46f-1064d6a6fe1d"
   },
   "outputs": [
    {
     "name": "stderr",
     "output_type": "stream",
     "text": [
      "<ipython-input-29-9031cb29d9e7>:2: SettingWithCopyWarning: \n",
      "A value is trying to be set on a copy of a slice from a DataFrame.\n",
      "Try using .loc[row_indexer,col_indexer] = value instead\n",
      "\n",
      "See the caveats in the documentation: https://pandas.pydata.org/pandas-docs/stable/user_guide/indexing.html#returning-a-view-versus-a-copy\n",
      "  X['SEX']=X['SEX'].replace({'male' : 0,'female' : 1})\n"
     ]
    }
   ],
   "source": [
    "# Feature encoding for SEX column\n",
    "X['SEX']=X['SEX'].replace({'male' : 0,'female' : 1})"
   ]
  },
  {
   "cell_type": "markdown",
   "metadata": {
    "id": "wV9DgLZ4mzTO"
   },
   "source": [
    "Pada feature MARRIAGE akan dilakukan label encoding dan dikerucutkan kembali menjadi dua kategori yaitu 'in_relationship'(1) yang berisi data yang berkategori 'married', dan 'not_in_relationship'(0) yang berisi data dengan kategori 'single', 'divorce', atau '0'.\n"
   ]
  },
  {
   "cell_type": "code",
   "execution_count": 30,
   "metadata": {
    "colab": {
     "base_uri": "https://localhost:8080/"
    },
    "id": "Y4VjJ3LVmq9D",
    "outputId": "e317169d-f500-4194-e07b-e0200e4bd198"
   },
   "outputs": [
    {
     "name": "stderr",
     "output_type": "stream",
     "text": [
      "<ipython-input-30-ac6aff6af65f>:1: SettingWithCopyWarning: \n",
      "A value is trying to be set on a copy of a slice from a DataFrame.\n",
      "Try using .loc[row_indexer,col_indexer] = value instead\n",
      "\n",
      "See the caveats in the documentation: https://pandas.pydata.org/pandas-docs/stable/user_guide/indexing.html#returning-a-view-versus-a-copy\n",
      "  X['MARRIAGE']= X['MARRIAGE'].replace({'married' : 1, 'single' : 0, 'divorced' : 0, 'others' : 0})\n"
     ]
    }
   ],
   "source": [
    "X['MARRIAGE']= X['MARRIAGE'].replace({'married' : 1, 'single' : 0, 'divorced' : 0, 'others' : 0})\n"
   ]
  },
  {
   "cell_type": "markdown",
   "metadata": {
    "id": "2eh4Kgcdpulg"
   },
   "source": [
    "Pada Feature Education akan dikerucutkan kembali menjadi dua ketegori yaitu educated (1) dan others (0), kemudian dilakukan label encoding untuk menghindari model yang terlalu kompleks dan terlalu banyak feature yang tidak relevan.\n"
   ]
  },
  {
   "cell_type": "code",
   "execution_count": 31,
   "metadata": {
    "colab": {
     "base_uri": "https://localhost:8080/"
    },
    "id": "gflmgtqYm-l6",
    "outputId": "6c1ffdb1-d539-49eb-faec-d9de10f01383"
   },
   "outputs": [
    {
     "name": "stderr",
     "output_type": "stream",
     "text": [
      "<ipython-input-31-84dca0dee23d>:1: SettingWithCopyWarning: \n",
      "A value is trying to be set on a copy of a slice from a DataFrame.\n",
      "Try using .loc[row_indexer,col_indexer] = value instead\n",
      "\n",
      "See the caveats in the documentation: https://pandas.pydata.org/pandas-docs/stable/user_guide/indexing.html#returning-a-view-versus-a-copy\n",
      "  X['EDUCATION'] = X['EDUCATION'].replace({'graduate school' : 1, 'university' : 1, 'high school' : 1, 'others' : 0, 'unknown' : 0, 'unknown' : 0, 'others' : 0})\n"
     ]
    }
   ],
   "source": [
    "X['EDUCATION'] = X['EDUCATION'].replace({'graduate school' : 1, 'university' : 1, 'high school' : 1, 'others' : 0, 'unknown' : 0, 'unknown' : 0, 'others' : 0})\n"
   ]
  },
  {
   "cell_type": "markdown",
   "metadata": {
    "id": "uJqtclc2p6AC"
   },
   "source": [
    "Untuk feature payment_default_next_month akan dikembalikan kambali menjadi 'Yes'(1), dan 'No'(0).\n"
   ]
  },
  {
   "cell_type": "code",
   "execution_count": 32,
   "metadata": {
    "colab": {
     "base_uri": "https://localhost:8080/",
     "height": 300
    },
    "id": "1umGW8zdpz7u",
    "outputId": "c58d3780-4a03-4c6f-8489-fd08f7879eb3"
   },
   "outputs": [
    {
     "data": {
      "text/html": [
       "\n",
       "  <div id=\"df-71f205b9-02d9-493d-9352-e4a36814bed1\">\n",
       "    <div class=\"colab-df-container\">\n",
       "      <div>\n",
       "<style scoped>\n",
       "    .dataframe tbody tr th:only-of-type {\n",
       "        vertical-align: middle;\n",
       "    }\n",
       "\n",
       "    .dataframe tbody tr th {\n",
       "        vertical-align: top;\n",
       "    }\n",
       "\n",
       "    .dataframe thead th {\n",
       "        text-align: right;\n",
       "    }\n",
       "</style>\n",
       "<table border=\"1\" class=\"dataframe\">\n",
       "  <thead>\n",
       "    <tr style=\"text-align: right;\">\n",
       "      <th></th>\n",
       "      <th>ID</th>\n",
       "      <th>LIMIT_BAL</th>\n",
       "      <th>SEX</th>\n",
       "      <th>EDUCATION</th>\n",
       "      <th>MARRIAGE</th>\n",
       "      <th>AGE</th>\n",
       "      <th>PAY_1</th>\n",
       "      <th>PAY_2</th>\n",
       "      <th>PAY_3</th>\n",
       "      <th>PAY_4</th>\n",
       "      <th>...</th>\n",
       "      <th>BILL_AMT3</th>\n",
       "      <th>BILL_AMT4</th>\n",
       "      <th>BILL_AMT5</th>\n",
       "      <th>BILL_AMT6</th>\n",
       "      <th>PAY_AMT1</th>\n",
       "      <th>PAY_AMT2</th>\n",
       "      <th>PAY_AMT3</th>\n",
       "      <th>PAY_AMT4</th>\n",
       "      <th>PAY_AMT5</th>\n",
       "      <th>PAY_AMT6</th>\n",
       "    </tr>\n",
       "  </thead>\n",
       "  <tbody>\n",
       "    <tr>\n",
       "      <th>0</th>\n",
       "      <td>25150</td>\n",
       "      <td>360000</td>\n",
       "      <td>1</td>\n",
       "      <td>1</td>\n",
       "      <td>0</td>\n",
       "      <td>25</td>\n",
       "      <td>-1</td>\n",
       "      <td>-1</td>\n",
       "      <td>-1</td>\n",
       "      <td>-1</td>\n",
       "      <td>...</td>\n",
       "      <td>3479</td>\n",
       "      <td>3435</td>\n",
       "      <td>8870</td>\n",
       "      <td>2020</td>\n",
       "      <td>12590</td>\n",
       "      <td>3479</td>\n",
       "      <td>3446</td>\n",
       "      <td>8870</td>\n",
       "      <td>2020</td>\n",
       "      <td>27043</td>\n",
       "    </tr>\n",
       "    <tr>\n",
       "      <th>1</th>\n",
       "      <td>13470</td>\n",
       "      <td>240000</td>\n",
       "      <td>1</td>\n",
       "      <td>1</td>\n",
       "      <td>0</td>\n",
       "      <td>46</td>\n",
       "      <td>2</td>\n",
       "      <td>2</td>\n",
       "      <td>-2</td>\n",
       "      <td>-1</td>\n",
       "      <td>...</td>\n",
       "      <td>0</td>\n",
       "      <td>2240</td>\n",
       "      <td>1681</td>\n",
       "      <td>2267</td>\n",
       "      <td>0</td>\n",
       "      <td>0</td>\n",
       "      <td>2240</td>\n",
       "      <td>0</td>\n",
       "      <td>2267</td>\n",
       "      <td>3074</td>\n",
       "    </tr>\n",
       "    <tr>\n",
       "      <th>2</th>\n",
       "      <td>3092</td>\n",
       "      <td>320000</td>\n",
       "      <td>1</td>\n",
       "      <td>1</td>\n",
       "      <td>1</td>\n",
       "      <td>41</td>\n",
       "      <td>0</td>\n",
       "      <td>0</td>\n",
       "      <td>0</td>\n",
       "      <td>0</td>\n",
       "      <td>...</td>\n",
       "      <td>38717</td>\n",
       "      <td>35409</td>\n",
       "      <td>35036</td>\n",
       "      <td>35939</td>\n",
       "      <td>5000</td>\n",
       "      <td>2000</td>\n",
       "      <td>2000</td>\n",
       "      <td>3000</td>\n",
       "      <td>3000</td>\n",
       "      <td>1500</td>\n",
       "    </tr>\n",
       "    <tr>\n",
       "      <th>3</th>\n",
       "      <td>13973</td>\n",
       "      <td>50000</td>\n",
       "      <td>1</td>\n",
       "      <td>1</td>\n",
       "      <td>0</td>\n",
       "      <td>24</td>\n",
       "      <td>-1</td>\n",
       "      <td>-1</td>\n",
       "      <td>-2</td>\n",
       "      <td>-2</td>\n",
       "      <td>...</td>\n",
       "      <td>0</td>\n",
       "      <td>0</td>\n",
       "      <td>0</td>\n",
       "      <td>0</td>\n",
       "      <td>0</td>\n",
       "      <td>0</td>\n",
       "      <td>0</td>\n",
       "      <td>0</td>\n",
       "      <td>0</td>\n",
       "      <td>0</td>\n",
       "    </tr>\n",
       "    <tr>\n",
       "      <th>4</th>\n",
       "      <td>10567</td>\n",
       "      <td>80000</td>\n",
       "      <td>0</td>\n",
       "      <td>1</td>\n",
       "      <td>1</td>\n",
       "      <td>52</td>\n",
       "      <td>-1</td>\n",
       "      <td>0</td>\n",
       "      <td>0</td>\n",
       "      <td>0</td>\n",
       "      <td>...</td>\n",
       "      <td>19385</td>\n",
       "      <td>20561</td>\n",
       "      <td>21261</td>\n",
       "      <td>21457</td>\n",
       "      <td>1500</td>\n",
       "      <td>1500</td>\n",
       "      <td>1500</td>\n",
       "      <td>1028</td>\n",
       "      <td>876</td>\n",
       "      <td>1449</td>\n",
       "    </tr>\n",
       "  </tbody>\n",
       "</table>\n",
       "<p>5 rows × 24 columns</p>\n",
       "</div>\n",
       "      <button class=\"colab-df-convert\" onclick=\"convertToInteractive('df-71f205b9-02d9-493d-9352-e4a36814bed1')\"\n",
       "              title=\"Convert this dataframe to an interactive table.\"\n",
       "              style=\"display:none;\">\n",
       "        \n",
       "  <svg xmlns=\"http://www.w3.org/2000/svg\" height=\"24px\"viewBox=\"0 0 24 24\"\n",
       "       width=\"24px\">\n",
       "    <path d=\"M0 0h24v24H0V0z\" fill=\"none\"/>\n",
       "    <path d=\"M18.56 5.44l.94 2.06.94-2.06 2.06-.94-2.06-.94-.94-2.06-.94 2.06-2.06.94zm-11 1L8.5 8.5l.94-2.06 2.06-.94-2.06-.94L8.5 2.5l-.94 2.06-2.06.94zm10 10l.94 2.06.94-2.06 2.06-.94-2.06-.94-.94-2.06-.94 2.06-2.06.94z\"/><path d=\"M17.41 7.96l-1.37-1.37c-.4-.4-.92-.59-1.43-.59-.52 0-1.04.2-1.43.59L10.3 9.45l-7.72 7.72c-.78.78-.78 2.05 0 2.83L4 21.41c.39.39.9.59 1.41.59.51 0 1.02-.2 1.41-.59l7.78-7.78 2.81-2.81c.8-.78.8-2.07 0-2.86zM5.41 20L4 18.59l7.72-7.72 1.47 1.35L5.41 20z\"/>\n",
       "  </svg>\n",
       "      </button>\n",
       "      \n",
       "  <style>\n",
       "    .colab-df-container {\n",
       "      display:flex;\n",
       "      flex-wrap:wrap;\n",
       "      gap: 12px;\n",
       "    }\n",
       "\n",
       "    .colab-df-convert {\n",
       "      background-color: #E8F0FE;\n",
       "      border: none;\n",
       "      border-radius: 50%;\n",
       "      cursor: pointer;\n",
       "      display: none;\n",
       "      fill: #1967D2;\n",
       "      height: 32px;\n",
       "      padding: 0 0 0 0;\n",
       "      width: 32px;\n",
       "    }\n",
       "\n",
       "    .colab-df-convert:hover {\n",
       "      background-color: #E2EBFA;\n",
       "      box-shadow: 0px 1px 2px rgba(60, 64, 67, 0.3), 0px 1px 3px 1px rgba(60, 64, 67, 0.15);\n",
       "      fill: #174EA6;\n",
       "    }\n",
       "\n",
       "    [theme=dark] .colab-df-convert {\n",
       "      background-color: #3B4455;\n",
       "      fill: #D2E3FC;\n",
       "    }\n",
       "\n",
       "    [theme=dark] .colab-df-convert:hover {\n",
       "      background-color: #434B5C;\n",
       "      box-shadow: 0px 1px 3px 1px rgba(0, 0, 0, 0.15);\n",
       "      filter: drop-shadow(0px 1px 2px rgba(0, 0, 0, 0.3));\n",
       "      fill: #FFFFFF;\n",
       "    }\n",
       "  </style>\n",
       "\n",
       "      <script>\n",
       "        const buttonEl =\n",
       "          document.querySelector('#df-71f205b9-02d9-493d-9352-e4a36814bed1 button.colab-df-convert');\n",
       "        buttonEl.style.display =\n",
       "          google.colab.kernel.accessAllowed ? 'block' : 'none';\n",
       "\n",
       "        async function convertToInteractive(key) {\n",
       "          const element = document.querySelector('#df-71f205b9-02d9-493d-9352-e4a36814bed1');\n",
       "          const dataTable =\n",
       "            await google.colab.kernel.invokeFunction('convertToInteractive',\n",
       "                                                     [key], {});\n",
       "          if (!dataTable) return;\n",
       "\n",
       "          const docLinkHtml = 'Like what you see? Visit the ' +\n",
       "            '<a target=\"_blank\" href=https://colab.research.google.com/notebooks/data_table.ipynb>data table notebook</a>'\n",
       "            + ' to learn more about interactive tables.';\n",
       "          element.innerHTML = '';\n",
       "          dataTable['output_type'] = 'display_data';\n",
       "          await google.colab.output.renderOutput(dataTable, element);\n",
       "          const docLink = document.createElement('div');\n",
       "          docLink.innerHTML = docLinkHtml;\n",
       "          element.appendChild(docLink);\n",
       "        }\n",
       "      </script>\n",
       "    </div>\n",
       "  </div>\n",
       "  "
      ],
      "text/plain": [
       "      ID  LIMIT_BAL  SEX  EDUCATION  MARRIAGE  AGE PAY_1 PAY_2 PAY_3 PAY_4  \\\n",
       "0  25150     360000    1          1         0   25    -1    -1    -1    -1   \n",
       "1  13470     240000    1          1         0   46     2     2    -2    -1   \n",
       "2   3092     320000    1          1         1   41     0     0     0     0   \n",
       "3  13973      50000    1          1         0   24    -1    -1    -2    -2   \n",
       "4  10567      80000    0          1         1   52    -1     0     0     0   \n",
       "\n",
       "   ... BILL_AMT3 BILL_AMT4  BILL_AMT5  BILL_AMT6  PAY_AMT1  PAY_AMT2  \\\n",
       "0  ...      3479      3435       8870       2020     12590      3479   \n",
       "1  ...         0      2240       1681       2267         0         0   \n",
       "2  ...     38717     35409      35036      35939      5000      2000   \n",
       "3  ...         0         0          0          0         0         0   \n",
       "4  ...     19385     20561      21261      21457      1500      1500   \n",
       "\n",
       "   PAY_AMT3  PAY_AMT4  PAY_AMT5  PAY_AMT6  \n",
       "0      3446      8870      2020     27043  \n",
       "1      2240         0      2267      3074  \n",
       "2      2000      3000      3000      1500  \n",
       "3         0         0         0         0  \n",
       "4      1500      1028       876      1449  \n",
       "\n",
       "[5 rows x 24 columns]"
      ]
     },
     "execution_count": 32,
     "metadata": {},
     "output_type": "execute_result"
    }
   ],
   "source": [
    "# Checking current dataset\n",
    "X.head(5)"
   ]
  },
  {
   "cell_type": "code",
   "execution_count": 34,
   "metadata": {
    "colab": {
     "base_uri": "https://localhost:8080/"
    },
    "id": "k88Rl3wNq1n3",
    "outputId": "43e840f1-7930-4ec6-9450-c57308961765"
   },
   "outputs": [
    {
     "name": "stdout",
     "output_type": "stream",
     "text": [
      "Value count kolom SEX:\n",
      "1    12759\n",
      "0     8241\n",
      "Name: SEX, dtype: int64\n",
      "\n",
      "Value count kolom EDUCATION:\n",
      "1    20671\n",
      "0      329\n",
      "Name: EDUCATION, dtype: int64\n",
      "\n",
      "Value count kolom MARRIAGE:\n",
      "0    11439\n",
      "1     9561\n",
      "Name: MARRIAGE, dtype: int64\n",
      "\n",
      "Value count kolom PAY_1:\n",
      " 0    10324\n",
      "-1     3937\n",
      " 1     2608\n",
      "-2     1923\n",
      " 2     1883\n",
      " 3      231\n",
      " 4       47\n",
      " 5       19\n",
      " 8       11\n",
      " 6        9\n",
      " 7        8\n",
      "Name: PAY_1, dtype: int64\n",
      "\n",
      "Value count kolom PAY_2:\n",
      " 0    11043\n",
      "-1     4174\n",
      " 2     2776\n",
      "-2     2643\n",
      " 3      229\n",
      " 4       69\n",
      " 1       23\n",
      " 5       21\n",
      " 7       11\n",
      " 6       10\n",
      " 8        1\n",
      "Name: PAY_2, dtype: int64\n",
      "\n",
      "Value count kolom PAY_3:\n",
      " 0    11056\n",
      "-1     4125\n",
      "-2     2868\n",
      " 2     2670\n",
      " 3      173\n",
      " 4       55\n",
      " 7       22\n",
      " 5       14\n",
      " 6       13\n",
      " 8        2\n",
      " 1        2\n",
      "Name: PAY_3, dtype: int64\n",
      "\n",
      "Value count kolom PAY_4:\n",
      " 0    11542\n",
      "-1     3949\n",
      "-2     3047\n",
      " 2     2208\n",
      " 3      135\n",
      " 4       51\n",
      " 7       43\n",
      " 5       19\n",
      " 6        4\n",
      " 8        2\n",
      "Name: PAY_4, dtype: int64\n",
      "\n",
      "Value count kolom PAY_5:\n",
      " 0    11852\n",
      "-1     3840\n",
      "-2     3193\n",
      " 2     1869\n",
      " 3      132\n",
      " 4       53\n",
      " 7       45\n",
      " 5       13\n",
      " 6        2\n",
      " 8        1\n",
      "Name: PAY_5, dtype: int64\n",
      "\n",
      "Value count kolom PAY_6:\n",
      " 0    11450\n",
      "-1     3970\n",
      "-2     3427\n",
      " 2     1934\n",
      " 3      130\n",
      " 7       34\n",
      " 4       30\n",
      " 6       15\n",
      " 5        8\n",
      " 8        2\n",
      "Name: PAY_6, dtype: int64\n",
      "\n"
     ]
    }
   ],
   "source": [
    "for i in cats:\n",
    "    print(f'Value count kolom {i}:')\n",
    "    print(X[i].value_counts())\n",
    "    print()"
   ]
  },
  {
   "cell_type": "markdown",
   "metadata": {
    "id": "LRbHgerVrxRz"
   },
   "source": [
    "### Handle class imbalance"
   ]
  },
  {
   "cell_type": "code",
   "execution_count": 35,
   "metadata": {
    "colab": {
     "base_uri": "https://localhost:8080/"
    },
    "id": "bFz6yG-vq-k4",
    "outputId": "23abdce4-e231-4b4a-c05d-4398f570f248"
   },
   "outputs": [
    {
     "data": {
      "text/plain": [
       "default_payment_next_month\n",
       "0                             10169\n",
       "1                              3076\n",
       "dtype: int64"
      ]
     },
     "execution_count": 35,
     "metadata": {},
     "output_type": "execute_result"
    }
   ],
   "source": [
    "#check apakah variable target memiliki data yang imbalance?\n",
    "y_train.value_counts()"
   ]
  },
  {
   "cell_type": "code",
   "execution_count": 36,
   "metadata": {
    "colab": {
     "base_uri": "https://localhost:8080/"
    },
    "id": "4hW4bWtOr5fJ",
    "outputId": "db29db33-e145-447b-ecf8-7f8d59d64d8d"
   },
   "outputs": [
    {
     "name": "stdout",
     "output_type": "stream",
     "text": [
      "(13245, 14)\n",
      "(13245,)\n"
     ]
    }
   ],
   "source": [
    "#penentuan variable (x) independen dengan variable (y) dependen\n",
    "x = X_train[[i for i in X_train[nums].columns]]\n",
    "y = y_train['default_payment_next_month'].values\n",
    "print(x.shape)\n",
    "print(y.shape)"
   ]
  },
  {
   "cell_type": "code",
   "execution_count": 37,
   "metadata": {
    "colab": {
     "base_uri": "https://localhost:8080/"
    },
    "id": "u2ZLpELzr_9h",
    "outputId": "c427e296-87fc-4484-b598-2548fea82d26"
   },
   "outputs": [
    {
     "name": "stdout",
     "output_type": "stream",
     "text": [
      "0    10169\n",
      "1     3076\n",
      "dtype: int64\n",
      "0    3076\n",
      "1    3076\n",
      "dtype: int64\n",
      "0    10169\n",
      "1    10169\n",
      "dtype: int64\n",
      "0    10169\n",
      "1    10169\n",
      "dtype: int64\n"
     ]
    }
   ],
   "source": [
    "#balancing over and under sampling through imblearn\n",
    "\n",
    "from imblearn import under_sampling, over_sampling\n",
    "\n",
    "x_under, y_under = under_sampling.RandomUnderSampler(random_state = 42).fit_resample(x, y)\n",
    "x_over, y_over = over_sampling.RandomOverSampler(random_state = 42).fit_resample(x, y)\n",
    "x_over_smote, y_over_smote = over_sampling.SMOTE(random_state = 42).fit_resample(x, y)\n",
    "\n",
    "print(pd.Series(y).value_counts())\n",
    "print(pd.Series(y_under).value_counts())\n",
    "print(pd.Series(y_over).value_counts())\n",
    "print(pd.Series(y_over_smote).value_counts())"
   ]
  },
  {
   "cell_type": "markdown",
   "metadata": {
    "id": "JHS0ibroUDjg"
   },
   "source": [
    "#feature enginering\n",
    "##2A.feature selection ( membuang feature yang kurang relevan atau redundan )\n",
    "\n",
    "\n",
    "```\n",
    "\n"
   ]
  },
  {
   "cell_type": "code",
   "execution_count": 58,
   "metadata": {
    "id": "gUD9dNpHsGej"
   },
   "outputs": [],
   "source": [
    "#merubah feature EDUCATION,SEX DAN MARRIAGE menjadi INT"
   ]
  },
  {
   "cell_type": "code",
   "execution_count": 56,
   "metadata": {
    "colab": {
     "base_uri": "https://localhost:8080/"
    },
    "id": "I0r1fNFFvxmo",
    "outputId": "b7fd537c-9492-4352-e631-0a662c0a76f0"
   },
   "outputs": [
    {
     "name": "stdout",
     "output_type": "stream",
     "text": [
      "          ID  LIMIT_BAL  SEX  EDUCATION  MARRIAGE  AGE PAY_1 PAY_2 PAY_3  \\\n",
      "0      25150     360000    1          2         2   25    -1    -1    -1   \n",
      "1      13470     240000    1          1         2   46     2     2    -2   \n",
      "2       3092     320000    1          2         1   41     0     0     0   \n",
      "3      13973      50000    1          2         2   24    -1    -1    -2   \n",
      "4      10567      80000    0          3         1   52    -1     0     0   \n",
      "...      ...        ...  ...        ...       ...  ...   ...   ...   ...   \n",
      "20995   6283      50000    1          2         2   31     1    -2    -2   \n",
      "20996  25589      80000    1          2         1   37     0     0     0   \n",
      "20997   4378     100000    0          1         1   52     1     2     2   \n",
      "20998   8604      90000    1          2         1   47     0     0     0   \n",
      "20999  18049      90000    0          3         1   44     1    -2    -2   \n",
      "\n",
      "      PAY_4  ... BILL_AMT4 BILL_AMT5  BILL_AMT6  PAY_AMT1  PAY_AMT2  PAY_AMT3  \\\n",
      "0        -1  ...      3435      8870       2020     12590      3479      3446   \n",
      "1        -1  ...      2240      1681       2267         0         0      2240   \n",
      "2         0  ...     35409     35036      35939      5000      2000      2000   \n",
      "3        -2  ...         0         0          0         0         0         0   \n",
      "4         0  ...     20561     21261      21457      1500      1500      1500   \n",
      "...     ...  ...       ...       ...        ...       ...       ...       ...   \n",
      "20995    -2  ...         0         0          0         0         0         0   \n",
      "20996     0  ...     45458     48679      49895      5000      3000      2000   \n",
      "20997     2  ...     23440     28843      31353         0      3600         0   \n",
      "20998     0  ...     28747     29177      29452      2000      2000      2000   \n",
      "20999    -2  ...         0         0          0         0         0         0   \n",
      "\n",
      "       PAY_AMT4  PAY_AMT5  PAY_AMT6  default_payment_next_month  \n",
      "0          8870      2020     27043                           0  \n",
      "1             0      2267      3074                           0  \n",
      "2          3000      3000      1500                           0  \n",
      "3             0         0         0                           1  \n",
      "4          1028       876      1449                           0  \n",
      "...         ...       ...       ...                         ...  \n",
      "20995         0         0         0                           0  \n",
      "20996      4000      2000      2000                           0  \n",
      "20997      6000      3000         0                           1  \n",
      "20998      2000      2000      2000                           0  \n",
      "20999         0         0         0                           1  \n",
      "\n",
      "[21000 rows x 25 columns]\n"
     ]
    }
   ],
   "source": [
    "dftrain['EDUCATION'] = dftrain['EDUCATION'].replace({'graduate school': 1, 'university': 2, 'high school': 3,'others': 4, 'unknown': 5, 'unknown': 6, 'others': 0})\n",
    "dftrain['EDUCATION'] = dftrain['EDUCATION'].astype(int)\n",
    "\n",
    "dftrain['SEX'] = dftrain['SEX'].replace({'male': 0, 'female': 1})\n",
    "dftrain['SEX'] = dftrain['SEX'].astype(int)\n",
    "\n",
    "dftrain['MARRIAGE'] = dftrain['MARRIAGE'].replace({'married': 1,'single': 2,'divorced': 3,'others': 0})\n",
    "dftrain['MARRIAGE'] = dftrain['MARRIAGE'].astype(int)\n",
    "# Menampilkan DataFrame hasil konversi\n",
    "print(dftrain)\n",
    "\n"
   ]
  },
  {
   "cell_type": "markdown",
   "metadata": {
    "id": "tvJTwRVO4YdE"
   },
   "source": [
    "- feature importance"
   ]
  },
  {
   "cell_type": "code",
   "execution_count": 57,
   "metadata": {
    "colab": {
     "base_uri": "https://localhost:8080/"
    },
    "id": "6CtXsDAKU-8s",
    "outputId": "966002e7-6fc5-4bcb-ad11-316f33bebe71"
   },
   "outputs": [
    {
     "name": "stdout",
     "output_type": "stream",
     "text": [
      "Top 10 feature importance scores:\n",
      "PAY_1: 0.09169159883347161\n",
      "ID: 0.07119483734081553\n",
      "AGE: 0.05700723604661343\n",
      "BILL_AMT1: 0.05440333561513952\n",
      "LIMIT_BAL: 0.05317760708902255\n",
      "PAY_2: 0.05132067306543982\n",
      "BILL_AMT2: 0.04993298457777688\n",
      "BILL_AMT3: 0.04780848312175942\n",
      "BILL_AMT4: 0.04710304291351615\n",
      "PAY_AMT1: 0.046113139586394354\n",
      "\n",
      "bottom 5 feature importance scores:\n",
      "PAY_3: 0.021148747292576237\n",
      "PAY_6: 0.018192708555162834\n",
      "EDUCATION: 0.017689846910412824\n",
      "MARRIAGE: 0.012800020598204532\n",
      "SEX: 0.010515029980999508\n"
     ]
    }
   ],
   "source": [
    "from sklearn.ensemble import RandomForestClassifier\n",
    "\n",
    "z = dftrain.drop(['default_payment_next_month'], axis=1)\n",
    "w = dftrain['default_payment_next_month']\n",
    "\n",
    "# Membuat model RandomForestClassifier\n",
    "model = RandomForestClassifier(n_estimators=100, random_state=0)\n",
    "model.fit(z, w)\n",
    "# Melatih model\n",
    "importances = model.feature_importances_\n",
    "indices = sorted(range(len(importances)), key=lambda i: importances[i], reverse=True)\n",
    "\n",
    "#mencari 5 score tertinggi dan terendah \n",
    "top_scores = [(z.columns[i], importances[i]) for i in indices[:10]]\n",
    "bottom_scores = [(z.columns[i], importances[i]) for i in indices[-5:]]\n",
    "               \n",
    "\n",
    "print(\"Top 10 feature importance scores:\")\n",
    "for feature, score in top_scores:\n",
    "  print(f\"{feature}: {score}\")\n",
    "\n",
    "print(\"\\nbottom 5 feature importance scores:\")\n",
    "for feature, score in bottom_scores:\n",
    "  print(f\"{feature}: {score}\")"
   ]
  },
  {
   "cell_type": "markdown",
   "metadata": {
    "id": "kbXbtDlm43hA"
   },
   "source": [
    "Dari Hasil score importance dari masing-masing fitur diatas kita dapat membuang beberapa fitur dengan score terendah yang tidak memiliki tujuan dari analisis dan prediksi kita"
   ]
  },
  {
   "cell_type": "markdown",
   "metadata": {
    "id": "1K86AEmQ4_Xf"
   },
   "source": [
    "- Recursive feature elimination (RFE)"
   ]
  },
  {
   "cell_type": "code",
   "execution_count": 59,
   "metadata": {
    "colab": {
     "base_uri": "https://localhost:8080/"
    },
    "id": "a12RtE2R44cp",
    "outputId": "12621704-24a4-4fde-8ed0-fce7be03c10b"
   },
   "outputs": [
    {
     "name": "stdout",
     "output_type": "stream",
     "text": [
      "Selected Features: \n",
      "['ID', 'BILL_AMT1', 'BILL_AMT2', 'BILL_AMT5', 'PAY_AMT1', 'PAY_AMT2', 'PAY_AMT3', 'PAY_AMT4', 'PAY_AMT5', 'PAY_AMT6']\n"
     ]
    }
   ],
   "source": [
    "from sklearn.feature_selection import RFE\n",
    "from sklearn.linear_model import LogisticRegression\n",
    "\n",
    "\n",
    "# Pisahkan feature dan target\n",
    "X = dftrain.iloc[:, :-1]\n",
    "y = dftrain.iloc[:, -1]\n",
    "\n",
    "# Inisialisasi model\n",
    "model = LogisticRegression()\n",
    "\n",
    "# Inisialisasi RFE\n",
    "rfe = RFE(model, n_features_to_select=10)\n",
    "\n",
    "# Lakukan fit RFE pada data\n",
    "fit = rfe.fit(X, y)\n",
    "\n",
    "# Cetak hasil\n",
    "print(\"Selected Features: \")\n",
    "print(list(X.columns[fit.support_]))"
   ]
  },
  {
   "cell_type": "markdown",
   "metadata": {
    "id": "uWsCCyp55M8c"
   },
   "source": [
    "dari metode yang dipakai melampirkan 10 feature terbaik dari dataset . selain dari 10 feature tersebut dapat dikategorikan fitur yang kurang baik/relevan"
   ]
  },
  {
   "cell_type": "markdown",
   "metadata": {
    "id": "qZ-2l6nZ5Xgz"
   },
   "source": [
    "###kesimpulan \n",
    "dari 2 metode yang digunakan untuk mencari feature yang kurangg relevan dan dapat dihapuskan disimpulkan Feature education, sex, dan marriage merupakan fitur yang dianggap kurang relevan dalam kasus Payment Default Credit karena tidak memiliki korelasi yang kuat dengan target variabel (default payment next month).\n",
    "\n",
    "- fitur sex (jenis kelamin) juga dianggap kurang relevan karena pada umumnya jenis kelamin tidak mempengaruhi kemampuan seseorang dalam membayar hutang.\n",
    "\n",
    "- Feature marriage (status pernikahan)  dihapus  karena tidak relevan dengan risiko default pada kartu kredit. Dalam konteks ini, status pernikahan tidak memberikan informasi yang signifikan dalam memprediksi apakah nasabah akan mengalami keterlambatan pembayaran atau wanprestasi.\n",
    " dengan menghapus fitur marriage, model prediksi risiko kredit dapat menjadi lebih fokus pada faktor-faktor yang lebih relevan dan dapat meningkatkan akurasi dalam memprediksi risiko default pada kartu kredit.\n",
    "\n",
    "- feature education ( tingkat pendidikan ) karena tingkat pendidikan seseorang tidak menjamin seseorang memiliki sebuah pekerjaan atau kepribadian dalam mengolah keuangan. maka dari itu feature ini kurang relevan  "
   ]
  },
  {
   "cell_type": "markdown",
   "metadata": {
    "id": "MwGF1JEf6DVf"
   },
   "source": [
    "###  penghapusan 3 feature yang kurang relevan ( sex, marriage , education )"
   ]
  },
  {
   "cell_type": "code",
   "execution_count": 60,
   "metadata": {
    "colab": {
     "base_uri": "https://localhost:8080/"
    },
    "id": "3YuiXhcb5GGB",
    "outputId": "087cde6c-e312-4f2e-fb7c-21e5023ef781"
   },
   "outputs": [
    {
     "name": "stdout",
     "output_type": "stream",
     "text": [
      "      ID  LIMIT_BAL  AGE PAY_1 PAY_2 PAY_3 PAY_4 PAY_5 PAY_6  BILL_AMT1  ...  \\\n",
      "0  25150     360000   25    -1    -1    -1    -1    -1    -1      20952  ...   \n",
      "1  13470     240000   46     2     2    -2    -1     0    -1        456  ...   \n",
      "2   3092     320000   41     0     0     0     0     0     0      49846  ...   \n",
      "3  13973      50000   24    -1    -1    -2    -2    -2    -2       2675  ...   \n",
      "4  10567      80000   52    -1     0     0     0     0     0      35861  ...   \n",
      "\n",
      "   BILL_AMT4  BILL_AMT5  BILL_AMT6  PAY_AMT1  PAY_AMT2  PAY_AMT3  PAY_AMT4  \\\n",
      "0       3435       8870       2020     12590      3479      3446      8870   \n",
      "1       2240       1681       2267         0         0      2240         0   \n",
      "2      35409      35036      35939      5000      2000      2000      3000   \n",
      "3          0          0          0         0         0         0         0   \n",
      "4      20561      21261      21457      1500      1500      1500      1028   \n",
      "\n",
      "   PAY_AMT5  PAY_AMT6  default_payment_next_month  \n",
      "0      2020     27043                           0  \n",
      "1      2267      3074                           0  \n",
      "2      3000      1500                           0  \n",
      "3         0         0                           1  \n",
      "4       876      1449                           0  \n",
      "\n",
      "[5 rows x 22 columns]\n",
      "Index(['ID', 'LIMIT_BAL', 'AGE', 'PAY_1', 'PAY_2', 'PAY_3', 'PAY_4', 'PAY_5',\n",
      "       'PAY_6', 'BILL_AMT1', 'BILL_AMT2', 'BILL_AMT3', 'BILL_AMT4',\n",
      "       'BILL_AMT5', 'BILL_AMT6', 'PAY_AMT1', 'PAY_AMT2', 'PAY_AMT3',\n",
      "       'PAY_AMT4', 'PAY_AMT5', 'PAY_AMT6', 'default_payment_next_month'],\n",
      "      dtype='object')\n"
     ]
    }
   ],
   "source": [
    "dftrain = dftrain.drop([\"SEX\", \"EDUCATION\", \"MARRIAGE\"], axis=1)\n",
    "\n",
    "print(dftrain.head())\n",
    "print(dftrain.columns)"
   ]
  },
  {
   "cell_type": "markdown",
   "metadata": {
    "id": "41sAVwEa6wzL"
   },
   "source": [
    "#3B.Feature extraction (membuat feature baru dari feature yang sudah ada )\n",
    "- feature total_payment_ratio"
   ]
  },
  {
   "cell_type": "code",
   "execution_count": 61,
   "metadata": {
    "colab": {
     "base_uri": "https://localhost:8080/"
    },
    "id": "7N2IF2jr6ImJ",
    "outputId": "95112c08-229f-4cf6-92f7-276f1df714a9"
   },
   "outputs": [
    {
     "name": "stdout",
     "output_type": "stream",
     "text": [
      "      ID  LIMIT_BAL  AGE PAY_1 PAY_2 PAY_3 PAY_4 PAY_5 PAY_6  BILL_AMT1  ...  \\\n",
      "0  25150     360000   25    -1    -1    -1    -1    -1    -1      20952  ...   \n",
      "1  13470     240000   46     2     2    -2    -1     0    -1        456  ...   \n",
      "2   3092     320000   41     0     0     0     0     0     0      49846  ...   \n",
      "3  13973      50000   24    -1    -1    -2    -2    -2    -2       2675  ...   \n",
      "4  10567      80000   52    -1     0     0     0     0     0      35861  ...   \n",
      "\n",
      "   PAY_AMT1  PAY_AMT2  PAY_AMT3  PAY_AMT4  PAY_AMT5  PAY_AMT6  \\\n",
      "0     12590      3479      3446      8870      2020     27043   \n",
      "1         0         0      2240         0      2267      3074   \n",
      "2      5000      2000      2000      3000      3000      1500   \n",
      "3         0         0         0         0         0         0   \n",
      "4      1500      1500      1500      1028       876      1449   \n",
      "\n",
      "   default_payment_next_month  total_payment  total_bill  total_payment_ratio  \n",
      "0                           0          57448       51346             1.118841  \n",
      "1                           0           7581        6644             1.141030  \n",
      "2                           0          16500      248758             0.066330  \n",
      "3                           1              0        2675             0.000000  \n",
      "4                           0           7853      137046             0.057302  \n",
      "\n",
      "[5 rows x 25 columns]\n"
     ]
    }
   ],
   "source": [
    "# Hitung total pembayaran dan total tagihan\n",
    "dftrain['total_payment'] = dftrain['PAY_AMT1'] + dftrain['PAY_AMT2'] + dftrain['PAY_AMT3'] + dftrain['PAY_AMT4'] + dftrain['PAY_AMT5'] + dftrain['PAY_AMT6']\n",
    "dftrain['total_bill'] = dftrain['BILL_AMT1'] + dftrain['BILL_AMT2'] + dftrain['BILL_AMT3'] + dftrain['BILL_AMT4'] + dftrain['BILL_AMT5'] + dftrain['BILL_AMT6']\n",
    "\n",
    "# Hitung rasio total pembayaran dengan total tagihan\n",
    "dftrain['total_payment_ratio'] = dftrain['total_payment'] / dftrain['total_bill']\n",
    "\n",
    "# Cetak hasil\n",
    "print(dftrain.head(5))"
   ]
  },
  {
   "cell_type": "markdown",
   "metadata": {
    "id": "SLv4kDRK7nnA"
   },
   "source": [
    "Rasio total pembayaran atau total payment ratio adalah rasio antara jumlah pembayaran yang telah dilakukan oleh nasabah pada tagihan kartu kredit mereka dalam periode waktu tertentu (misalnya, 6 bulan terakhir) dibandingkan dengan total tagihan yang harus dibayarkan dalam periode waktu yang sama. Dengan kata lain, rasio ini mengukur seberapa banyak dari total tagihan yang telah dibayarkan oleh nasabah.\n",
    "\n",
    "Rasio total pembayaran dapat memberikan indikasi tentang kemampuan nasabah dalam membayar tagihan mereka. Semakin tinggi rasio pembayaran, semakin baik kemampuan nasabah untuk membayar tagihan mereka dalam waktu yang ditentukan. Sebaliknya, jika rasio pembayaran rendah, maka ini bisa menjadi tanda bahwa nasabah mungkin mengalami kesulitan dalam membayar tagihan mereka tepat waktu.\n",
    "\n",
    "Dalam industri kartu kredit, rasio total pembayaran ini merupakan salah satu indikator kredit yang penting untuk mengevaluasi risiko kredit nasabah. Semakin tinggi rasio pembayaran, semakin rendah risiko kredit nasabah, dan semakin rendah kemungkinan mereka akan menjadi pembayaran yang macet atau wanprestasi. Oleh karena itu, rasio total pembayaran juga dapat digunakan sebagai salah satu fitur dalam model prediksi risiko kredit atau default pada industri kartu kredit."
   ]
  },
  {
   "cell_type": "code",
   "execution_count": 77,
   "metadata": {
    "colab": {
     "base_uri": "https://localhost:8080/",
     "height": 345
    },
    "id": "P12LOhPRC-w3",
    "outputId": "a1796f01-4db7-48e6-e2be-ba747eac499c"
   },
   "outputs": [
    {
     "ename": "KeyError",
     "evalue": "ignored",
     "output_type": "error",
     "traceback": [
      "\u001b[0;31m---------------------------------------------------------------------------\u001b[0m",
      "\u001b[0;31mKeyError\u001b[0m                                  Traceback (most recent call last)",
      "\u001b[0;32m<ipython-input-77-75c1fcf5effe>\u001b[0m in \u001b[0;36m<module>\u001b[0;34m\u001b[0m\n\u001b[0;32m----> 1\u001b[0;31m \u001b[0mdftrain\u001b[0m \u001b[0;34m=\u001b[0m \u001b[0mdftrain\u001b[0m\u001b[0;34m.\u001b[0m\u001b[0mdrop\u001b[0m\u001b[0;34m(\u001b[0m\u001b[0;34m[\u001b[0m\u001b[0;34m'bill_amount_rata_rata'\u001b[0m\u001b[0;34m,\u001b[0m \u001b[0;34m'credit_utilization_ratio_pct'\u001b[0m\u001b[0;34m]\u001b[0m\u001b[0;34m,\u001b[0m \u001b[0maxis\u001b[0m\u001b[0;34m=\u001b[0m\u001b[0;36m1\u001b[0m\u001b[0;34m)\u001b[0m\u001b[0;34m\u001b[0m\u001b[0;34m\u001b[0m\u001b[0m\n\u001b[0m\u001b[1;32m      2\u001b[0m \u001b[0;34m\u001b[0m\u001b[0m\n\u001b[1;32m      3\u001b[0m \u001b[0mprint\u001b[0m\u001b[0;34m(\u001b[0m\u001b[0mdftrain\u001b[0m\u001b[0;34m.\u001b[0m\u001b[0mhead\u001b[0m\u001b[0;34m(\u001b[0m\u001b[0;34m)\u001b[0m\u001b[0;34m)\u001b[0m\u001b[0;34m\u001b[0m\u001b[0;34m\u001b[0m\u001b[0m\n",
      "\u001b[0;32m/usr/local/lib/python3.9/dist-packages/pandas/util/_decorators.py\u001b[0m in \u001b[0;36mwrapper\u001b[0;34m(*args, **kwargs)\u001b[0m\n\u001b[1;32m    309\u001b[0m                     \u001b[0mstacklevel\u001b[0m\u001b[0;34m=\u001b[0m\u001b[0mstacklevel\u001b[0m\u001b[0;34m,\u001b[0m\u001b[0;34m\u001b[0m\u001b[0;34m\u001b[0m\u001b[0m\n\u001b[1;32m    310\u001b[0m                 )\n\u001b[0;32m--> 311\u001b[0;31m             \u001b[0;32mreturn\u001b[0m \u001b[0mfunc\u001b[0m\u001b[0;34m(\u001b[0m\u001b[0;34m*\u001b[0m\u001b[0margs\u001b[0m\u001b[0;34m,\u001b[0m \u001b[0;34m**\u001b[0m\u001b[0mkwargs\u001b[0m\u001b[0;34m)\u001b[0m\u001b[0;34m\u001b[0m\u001b[0;34m\u001b[0m\u001b[0m\n\u001b[0m\u001b[1;32m    312\u001b[0m \u001b[0;34m\u001b[0m\u001b[0m\n\u001b[1;32m    313\u001b[0m         \u001b[0;32mreturn\u001b[0m \u001b[0mwrapper\u001b[0m\u001b[0;34m\u001b[0m\u001b[0;34m\u001b[0m\u001b[0m\n",
      "\u001b[0;32m/usr/local/lib/python3.9/dist-packages/pandas/core/frame.py\u001b[0m in \u001b[0;36mdrop\u001b[0;34m(self, labels, axis, index, columns, level, inplace, errors)\u001b[0m\n\u001b[1;32m   4955\u001b[0m                 \u001b[0mweight\u001b[0m  \u001b[0;36m1.0\u001b[0m     \u001b[0;36m0.8\u001b[0m\u001b[0;34m\u001b[0m\u001b[0;34m\u001b[0m\u001b[0m\n\u001b[1;32m   4956\u001b[0m         \"\"\"\n\u001b[0;32m-> 4957\u001b[0;31m         return super().drop(\n\u001b[0m\u001b[1;32m   4958\u001b[0m             \u001b[0mlabels\u001b[0m\u001b[0;34m=\u001b[0m\u001b[0mlabels\u001b[0m\u001b[0;34m,\u001b[0m\u001b[0;34m\u001b[0m\u001b[0;34m\u001b[0m\u001b[0m\n\u001b[1;32m   4959\u001b[0m             \u001b[0maxis\u001b[0m\u001b[0;34m=\u001b[0m\u001b[0maxis\u001b[0m\u001b[0;34m,\u001b[0m\u001b[0;34m\u001b[0m\u001b[0;34m\u001b[0m\u001b[0m\n",
      "\u001b[0;32m/usr/local/lib/python3.9/dist-packages/pandas/core/generic.py\u001b[0m in \u001b[0;36mdrop\u001b[0;34m(self, labels, axis, index, columns, level, inplace, errors)\u001b[0m\n\u001b[1;32m   4265\u001b[0m         \u001b[0;32mfor\u001b[0m \u001b[0maxis\u001b[0m\u001b[0;34m,\u001b[0m \u001b[0mlabels\u001b[0m \u001b[0;32min\u001b[0m \u001b[0maxes\u001b[0m\u001b[0;34m.\u001b[0m\u001b[0mitems\u001b[0m\u001b[0;34m(\u001b[0m\u001b[0;34m)\u001b[0m\u001b[0;34m:\u001b[0m\u001b[0;34m\u001b[0m\u001b[0;34m\u001b[0m\u001b[0m\n\u001b[1;32m   4266\u001b[0m             \u001b[0;32mif\u001b[0m \u001b[0mlabels\u001b[0m \u001b[0;32mis\u001b[0m \u001b[0;32mnot\u001b[0m \u001b[0;32mNone\u001b[0m\u001b[0;34m:\u001b[0m\u001b[0;34m\u001b[0m\u001b[0;34m\u001b[0m\u001b[0m\n\u001b[0;32m-> 4267\u001b[0;31m                 \u001b[0mobj\u001b[0m \u001b[0;34m=\u001b[0m \u001b[0mobj\u001b[0m\u001b[0;34m.\u001b[0m\u001b[0m_drop_axis\u001b[0m\u001b[0;34m(\u001b[0m\u001b[0mlabels\u001b[0m\u001b[0;34m,\u001b[0m \u001b[0maxis\u001b[0m\u001b[0;34m,\u001b[0m \u001b[0mlevel\u001b[0m\u001b[0;34m=\u001b[0m\u001b[0mlevel\u001b[0m\u001b[0;34m,\u001b[0m \u001b[0merrors\u001b[0m\u001b[0;34m=\u001b[0m\u001b[0merrors\u001b[0m\u001b[0;34m)\u001b[0m\u001b[0;34m\u001b[0m\u001b[0;34m\u001b[0m\u001b[0m\n\u001b[0m\u001b[1;32m   4268\u001b[0m \u001b[0;34m\u001b[0m\u001b[0m\n\u001b[1;32m   4269\u001b[0m         \u001b[0;32mif\u001b[0m \u001b[0minplace\u001b[0m\u001b[0;34m:\u001b[0m\u001b[0;34m\u001b[0m\u001b[0;34m\u001b[0m\u001b[0m\n",
      "\u001b[0;32m/usr/local/lib/python3.9/dist-packages/pandas/core/generic.py\u001b[0m in \u001b[0;36m_drop_axis\u001b[0;34m(self, labels, axis, level, errors, consolidate, only_slice)\u001b[0m\n\u001b[1;32m   4309\u001b[0m                 \u001b[0mnew_axis\u001b[0m \u001b[0;34m=\u001b[0m \u001b[0maxis\u001b[0m\u001b[0;34m.\u001b[0m\u001b[0mdrop\u001b[0m\u001b[0;34m(\u001b[0m\u001b[0mlabels\u001b[0m\u001b[0;34m,\u001b[0m \u001b[0mlevel\u001b[0m\u001b[0;34m=\u001b[0m\u001b[0mlevel\u001b[0m\u001b[0;34m,\u001b[0m \u001b[0merrors\u001b[0m\u001b[0;34m=\u001b[0m\u001b[0merrors\u001b[0m\u001b[0;34m)\u001b[0m\u001b[0;34m\u001b[0m\u001b[0;34m\u001b[0m\u001b[0m\n\u001b[1;32m   4310\u001b[0m             \u001b[0;32melse\u001b[0m\u001b[0;34m:\u001b[0m\u001b[0;34m\u001b[0m\u001b[0;34m\u001b[0m\u001b[0m\n\u001b[0;32m-> 4311\u001b[0;31m                 \u001b[0mnew_axis\u001b[0m \u001b[0;34m=\u001b[0m \u001b[0maxis\u001b[0m\u001b[0;34m.\u001b[0m\u001b[0mdrop\u001b[0m\u001b[0;34m(\u001b[0m\u001b[0mlabels\u001b[0m\u001b[0;34m,\u001b[0m \u001b[0merrors\u001b[0m\u001b[0;34m=\u001b[0m\u001b[0merrors\u001b[0m\u001b[0;34m)\u001b[0m\u001b[0;34m\u001b[0m\u001b[0;34m\u001b[0m\u001b[0m\n\u001b[0m\u001b[1;32m   4312\u001b[0m             \u001b[0mindexer\u001b[0m \u001b[0;34m=\u001b[0m \u001b[0maxis\u001b[0m\u001b[0;34m.\u001b[0m\u001b[0mget_indexer\u001b[0m\u001b[0;34m(\u001b[0m\u001b[0mnew_axis\u001b[0m\u001b[0;34m)\u001b[0m\u001b[0;34m\u001b[0m\u001b[0;34m\u001b[0m\u001b[0m\n\u001b[1;32m   4313\u001b[0m \u001b[0;34m\u001b[0m\u001b[0m\n",
      "\u001b[0;32m/usr/local/lib/python3.9/dist-packages/pandas/core/indexes/base.py\u001b[0m in \u001b[0;36mdrop\u001b[0;34m(self, labels, errors)\u001b[0m\n\u001b[1;32m   6659\u001b[0m         \u001b[0;32mif\u001b[0m \u001b[0mmask\u001b[0m\u001b[0;34m.\u001b[0m\u001b[0many\u001b[0m\u001b[0;34m(\u001b[0m\u001b[0;34m)\u001b[0m\u001b[0;34m:\u001b[0m\u001b[0;34m\u001b[0m\u001b[0;34m\u001b[0m\u001b[0m\n\u001b[1;32m   6660\u001b[0m             \u001b[0;32mif\u001b[0m \u001b[0merrors\u001b[0m \u001b[0;34m!=\u001b[0m \u001b[0;34m\"ignore\"\u001b[0m\u001b[0;34m:\u001b[0m\u001b[0;34m\u001b[0m\u001b[0;34m\u001b[0m\u001b[0m\n\u001b[0;32m-> 6661\u001b[0;31m                 \u001b[0;32mraise\u001b[0m \u001b[0mKeyError\u001b[0m\u001b[0;34m(\u001b[0m\u001b[0;34mf\"{list(labels[mask])} not found in axis\"\u001b[0m\u001b[0;34m)\u001b[0m\u001b[0;34m\u001b[0m\u001b[0;34m\u001b[0m\u001b[0m\n\u001b[0m\u001b[1;32m   6662\u001b[0m             \u001b[0mindexer\u001b[0m \u001b[0;34m=\u001b[0m \u001b[0mindexer\u001b[0m\u001b[0;34m[\u001b[0m\u001b[0;34m~\u001b[0m\u001b[0mmask\u001b[0m\u001b[0;34m]\u001b[0m\u001b[0;34m\u001b[0m\u001b[0;34m\u001b[0m\u001b[0m\n\u001b[1;32m   6663\u001b[0m         \u001b[0;32mreturn\u001b[0m \u001b[0mself\u001b[0m\u001b[0;34m.\u001b[0m\u001b[0mdelete\u001b[0m\u001b[0;34m(\u001b[0m\u001b[0mindexer\u001b[0m\u001b[0;34m)\u001b[0m\u001b[0;34m\u001b[0m\u001b[0;34m\u001b[0m\u001b[0m\n",
      "\u001b[0;31mKeyError\u001b[0m: \"['bill_amount_rata_rata', 'credit_utilization_ratio_pct'] not found in axis\""
     ]
    }
   ],
   "source": [
    "dftrain = dftrain.drop(['bill_amount_rata_rata', 'credit_utilization_ratio_pct'], axis=1)\n",
    "\n",
    "print(dftrain.head())"
   ]
  },
  {
   "cell_type": "markdown",
   "metadata": {
    "id": "p0NHGzQG8VYK"
   },
   "source": [
    "- feature rasio pengunaan credit (credit_utilization_ratio)"
   ]
  },
  {
   "cell_type": "code",
   "execution_count": 82,
   "metadata": {
    "colab": {
     "base_uri": "https://localhost:8080/"
    },
    "id": "CSoHDBH_FhFS",
    "outputId": "d00f0649-cb61-4498-d33a-71430a0ded21"
   },
   "outputs": [
    {
     "name": "stdout",
     "output_type": "stream",
     "text": [
      "      ID  LIMIT_BAL  AGE PAY_1 PAY_2 PAY_3 PAY_4 PAY_5 PAY_6  BILL_AMT1  ...  \\\n",
      "0  25150     360000   25    -1    -1    -1    -1    -1    -1      20952  ...   \n",
      "1  13470     240000   46     2     2    -2    -1     0    -1        456  ...   \n",
      "2   3092     320000   41     0     0     0     0     0     0      49846  ...   \n",
      "3  13973      50000   24    -1    -1    -2    -2    -2    -2       2675  ...   \n",
      "4  10567      80000   52    -1     0     0     0     0     0      35861  ...   \n",
      "\n",
      "   PAY_AMT3  PAY_AMT4  PAY_AMT5  PAY_AMT6  default_payment_next_month  \\\n",
      "0      3446      8870      2020     27043                           0   \n",
      "1      2240         0      2267      3074                           0   \n",
      "2      2000      3000      3000      1500                           0   \n",
      "3         0         0         0         0                           1   \n",
      "4      1500      1028       876      1449                           0   \n",
      "\n",
      "   total_payment  total_bill  total_payment_ratio  credit_utilization_ratio  \\\n",
      "0          57448       51346             1.118841                     5.82%   \n",
      "1           7581        6644             1.141030                     0.19%   \n",
      "2          16500      248758             0.066330                    15.58%   \n",
      "3              0        2675             0.000000                     5.35%   \n",
      "4           7853      137046             0.057302                    44.83%   \n",
      "\n",
      "   bill_amount_rata_rata  \n",
      "0                 9573.4  \n",
      "1                 1328.8  \n",
      "2                42008.2  \n",
      "3                  535.0  \n",
      "4                23532.2  \n",
      "\n",
      "[5 rows x 27 columns]\n"
     ]
    }
   ],
   "source": [
    "# Hitung nilai rata-rata dari fitur 'fitur1', 'fitur2', 'fitur3'\n",
    "dftrain['bill_amount_rata_rata'] = dftrain[['BILL_AMT1', 'BILL_AMT2', 'BILL_AMT4','BILL_AMT5','BILL_AMT6']].mean(axis=1)\n",
    "\n",
    "# Tampilkan dataset dengan fitur baru 'rata_rata'\n",
    "print(dftrain.head())"
   ]
  },
  {
   "cell_type": "code",
   "execution_count": 83,
   "metadata": {
    "colab": {
     "base_uri": "https://localhost:8080/"
    },
    "id": "Ke4uvBs57bI7",
    "outputId": "5b56e30e-2f92-45e1-a736-ae5521409d76"
   },
   "outputs": [
    {
     "name": "stdout",
     "output_type": "stream",
     "text": [
      "      ID  LIMIT_BAL  AGE PAY_1 PAY_2 PAY_3 PAY_4 PAY_5 PAY_6  BILL_AMT1  ...  \\\n",
      "0  25150     360000   25    -1    -1    -1    -1    -1    -1      20952  ...   \n",
      "1  13470     240000   46     2     2    -2    -1     0    -1        456  ...   \n",
      "2   3092     320000   41     0     0     0     0     0     0      49846  ...   \n",
      "3  13973      50000   24    -1    -1    -2    -2    -2    -2       2675  ...   \n",
      "4  10567      80000   52    -1     0     0     0     0     0      35861  ...   \n",
      "\n",
      "   PAY_AMT3  PAY_AMT4  PAY_AMT5  PAY_AMT6  default_payment_next_month  \\\n",
      "0      3446      8870      2020     27043                           0   \n",
      "1      2240         0      2267      3074                           0   \n",
      "2      2000      3000      3000      1500                           0   \n",
      "3         0         0         0         0                           1   \n",
      "4      1500      1028       876      1449                           0   \n",
      "\n",
      "   total_payment  total_bill  total_payment_ratio  credit_utilization_ratio  \\\n",
      "0          57448       51346             1.118841                     2.66%   \n",
      "1           7581        6644             1.141030                     0.55%   \n",
      "2          16500      248758             0.066330                    13.13%   \n",
      "3              0        2675             0.000000                     1.07%   \n",
      "4           7853      137046             0.057302                    29.42%   \n",
      "\n",
      "   bill_amount_rata_rata  \n",
      "0                 9573.4  \n",
      "1                 1328.8  \n",
      "2                42008.2  \n",
      "3                  535.0  \n",
      "4                23532.2  \n",
      "\n",
      "[5 rows x 27 columns]\n"
     ]
    }
   ],
   "source": [
    "# Create a new feature 'credit_utilization_ratio'\n",
    "dftrain['credit_utilization_ratio'] = dftrain['bill_amount_rata_rata'] / dftrain['LIMIT_BAL'] * 100\n",
    "\n",
    "#Format percentage with two decimal points and percent sign\n",
    "dftrain['credit_utilization_ratio'] = dftrain['credit_utilization_ratio'].apply(lambda x: '{:.2f}%'.format(x))\n",
    "\n",
    "# Print the result\n",
    "print(dftrain.head())"
   ]
  },
  {
   "cell_type": "markdown",
   "metadata": {
    "id": "GCgr96-89t-5"
   },
   "source": [
    "Rasio penggunaan kredit (credit utilization ratio) menggambarkan seberapa banyak kredit yang digunakan oleh pengguna dalam persentase dari total kredit yang tersedia. Rasio penggunaan kredit biasanya dihitung dengan membagi saldo tagihan saat ini dengan batas kredit yang tersedia. Contohnya, jika pengguna memiliki saldo tagihan sebesar 5000 dan batas kredit sebesar 10000, maka rasio penggunaan kreditnya adalah 50%.\n",
    "\n",
    "Rasio penggunaan kredit dapat menjadi indikator penting untuk menentukan risiko pembayaran yang tidak lancar atau mengalami keterlambatan. Semakin tinggi rasio penggunaan kredit, semakin tinggi risiko pembayaran yang tidak lancar, karena pengguna mungkin kesulitan membayar tagihan bulanan yang semakin tinggi. Oleh karena itu, pada dataset \"Default of Credit Card Clients\", rasio penggunaan kredit sering digunakan sebagai salah satu fitur dalam memprediksi default pembayaran bulanan.\n",
    "\n",
    "Beberapa studi telah menunjukkan bahwa rasio penggunaan kredit mempengaruhi skor kredit individu dan tingkat kepercayaan kreditur terhadap pengguna. Selain itu, rasio penggunaan kredit juga dapat memengaruhi kemampuan seseorang untuk memperoleh kredit lebih lanjut di masa depan. Oleh karena itu, rasio penggunaan kredit dapat menjadi indikator penting dalam menentukan kesehatan keuangan seseorang dan kelayakan kredit.\n",
    "\n",
    " rasio penggunaan kredit dapat dihitung dengan membagi \"LIMIT_BAL\" (batas kredit) dengan jumlah total saldo tagihan di setiap bulan. Rasio ini kemudian digunakan sebagai fitur dalam memprediksi default pembayaran bulanan. Dalam beberapa kasus, rasio penggunaan kredit juga dapat dihitung dengan menggunakan saldo tagihan pada bulan sebelumnya, atau rata-rata saldo tagihan dalam beberapa bulan terakhir, untuk memberikan gambaran yang lebih akurat tentang kebiasaan pengguna dalam menggunakan kredit."
   ]
  },
  {
   "cell_type": "code",
   "execution_count": 84,
   "metadata": {
    "colab": {
     "base_uri": "https://localhost:8080/",
     "height": 300
    },
    "id": "BCrbern48jQ5",
    "outputId": "25e6779c-8205-42f7-bfdc-946657268162"
   },
   "outputs": [
    {
     "data": {
      "text/html": [
       "\n",
       "  <div id=\"df-df217520-a8a6-493c-b921-7e98f3d9adce\">\n",
       "    <div class=\"colab-df-container\">\n",
       "      <div>\n",
       "<style scoped>\n",
       "    .dataframe tbody tr th:only-of-type {\n",
       "        vertical-align: middle;\n",
       "    }\n",
       "\n",
       "    .dataframe tbody tr th {\n",
       "        vertical-align: top;\n",
       "    }\n",
       "\n",
       "    .dataframe thead th {\n",
       "        text-align: right;\n",
       "    }\n",
       "</style>\n",
       "<table border=\"1\" class=\"dataframe\">\n",
       "  <thead>\n",
       "    <tr style=\"text-align: right;\">\n",
       "      <th></th>\n",
       "      <th>ID</th>\n",
       "      <th>LIMIT_BAL</th>\n",
       "      <th>AGE</th>\n",
       "      <th>PAY_1</th>\n",
       "      <th>PAY_2</th>\n",
       "      <th>PAY_3</th>\n",
       "      <th>PAY_4</th>\n",
       "      <th>PAY_5</th>\n",
       "      <th>PAY_6</th>\n",
       "      <th>BILL_AMT1</th>\n",
       "      <th>...</th>\n",
       "      <th>PAY_AMT3</th>\n",
       "      <th>PAY_AMT4</th>\n",
       "      <th>PAY_AMT5</th>\n",
       "      <th>PAY_AMT6</th>\n",
       "      <th>default_payment_next_month</th>\n",
       "      <th>total_payment</th>\n",
       "      <th>total_bill</th>\n",
       "      <th>total_payment_ratio</th>\n",
       "      <th>credit_utilization_ratio</th>\n",
       "      <th>bill_amount_rata_rata</th>\n",
       "    </tr>\n",
       "  </thead>\n",
       "  <tbody>\n",
       "    <tr>\n",
       "      <th>0</th>\n",
       "      <td>25150</td>\n",
       "      <td>360000</td>\n",
       "      <td>25</td>\n",
       "      <td>-1</td>\n",
       "      <td>-1</td>\n",
       "      <td>-1</td>\n",
       "      <td>-1</td>\n",
       "      <td>-1</td>\n",
       "      <td>-1</td>\n",
       "      <td>20952</td>\n",
       "      <td>...</td>\n",
       "      <td>3446</td>\n",
       "      <td>8870</td>\n",
       "      <td>2020</td>\n",
       "      <td>27043</td>\n",
       "      <td>0</td>\n",
       "      <td>57448</td>\n",
       "      <td>51346</td>\n",
       "      <td>1.118841</td>\n",
       "      <td>2.66%</td>\n",
       "      <td>9573.4</td>\n",
       "    </tr>\n",
       "    <tr>\n",
       "      <th>1</th>\n",
       "      <td>13470</td>\n",
       "      <td>240000</td>\n",
       "      <td>46</td>\n",
       "      <td>2</td>\n",
       "      <td>2</td>\n",
       "      <td>-2</td>\n",
       "      <td>-1</td>\n",
       "      <td>0</td>\n",
       "      <td>-1</td>\n",
       "      <td>456</td>\n",
       "      <td>...</td>\n",
       "      <td>2240</td>\n",
       "      <td>0</td>\n",
       "      <td>2267</td>\n",
       "      <td>3074</td>\n",
       "      <td>0</td>\n",
       "      <td>7581</td>\n",
       "      <td>6644</td>\n",
       "      <td>1.141030</td>\n",
       "      <td>0.55%</td>\n",
       "      <td>1328.8</td>\n",
       "    </tr>\n",
       "    <tr>\n",
       "      <th>2</th>\n",
       "      <td>3092</td>\n",
       "      <td>320000</td>\n",
       "      <td>41</td>\n",
       "      <td>0</td>\n",
       "      <td>0</td>\n",
       "      <td>0</td>\n",
       "      <td>0</td>\n",
       "      <td>0</td>\n",
       "      <td>0</td>\n",
       "      <td>49846</td>\n",
       "      <td>...</td>\n",
       "      <td>2000</td>\n",
       "      <td>3000</td>\n",
       "      <td>3000</td>\n",
       "      <td>1500</td>\n",
       "      <td>0</td>\n",
       "      <td>16500</td>\n",
       "      <td>248758</td>\n",
       "      <td>0.066330</td>\n",
       "      <td>13.13%</td>\n",
       "      <td>42008.2</td>\n",
       "    </tr>\n",
       "    <tr>\n",
       "      <th>3</th>\n",
       "      <td>13973</td>\n",
       "      <td>50000</td>\n",
       "      <td>24</td>\n",
       "      <td>-1</td>\n",
       "      <td>-1</td>\n",
       "      <td>-2</td>\n",
       "      <td>-2</td>\n",
       "      <td>-2</td>\n",
       "      <td>-2</td>\n",
       "      <td>2675</td>\n",
       "      <td>...</td>\n",
       "      <td>0</td>\n",
       "      <td>0</td>\n",
       "      <td>0</td>\n",
       "      <td>0</td>\n",
       "      <td>1</td>\n",
       "      <td>0</td>\n",
       "      <td>2675</td>\n",
       "      <td>0.000000</td>\n",
       "      <td>1.07%</td>\n",
       "      <td>535.0</td>\n",
       "    </tr>\n",
       "    <tr>\n",
       "      <th>4</th>\n",
       "      <td>10567</td>\n",
       "      <td>80000</td>\n",
       "      <td>52</td>\n",
       "      <td>-1</td>\n",
       "      <td>0</td>\n",
       "      <td>0</td>\n",
       "      <td>0</td>\n",
       "      <td>0</td>\n",
       "      <td>0</td>\n",
       "      <td>35861</td>\n",
       "      <td>...</td>\n",
       "      <td>1500</td>\n",
       "      <td>1028</td>\n",
       "      <td>876</td>\n",
       "      <td>1449</td>\n",
       "      <td>0</td>\n",
       "      <td>7853</td>\n",
       "      <td>137046</td>\n",
       "      <td>0.057302</td>\n",
       "      <td>29.42%</td>\n",
       "      <td>23532.2</td>\n",
       "    </tr>\n",
       "  </tbody>\n",
       "</table>\n",
       "<p>5 rows × 27 columns</p>\n",
       "</div>\n",
       "      <button class=\"colab-df-convert\" onclick=\"convertToInteractive('df-df217520-a8a6-493c-b921-7e98f3d9adce')\"\n",
       "              title=\"Convert this dataframe to an interactive table.\"\n",
       "              style=\"display:none;\">\n",
       "        \n",
       "  <svg xmlns=\"http://www.w3.org/2000/svg\" height=\"24px\"viewBox=\"0 0 24 24\"\n",
       "       width=\"24px\">\n",
       "    <path d=\"M0 0h24v24H0V0z\" fill=\"none\"/>\n",
       "    <path d=\"M18.56 5.44l.94 2.06.94-2.06 2.06-.94-2.06-.94-.94-2.06-.94 2.06-2.06.94zm-11 1L8.5 8.5l.94-2.06 2.06-.94-2.06-.94L8.5 2.5l-.94 2.06-2.06.94zm10 10l.94 2.06.94-2.06 2.06-.94-2.06-.94-.94-2.06-.94 2.06-2.06.94z\"/><path d=\"M17.41 7.96l-1.37-1.37c-.4-.4-.92-.59-1.43-.59-.52 0-1.04.2-1.43.59L10.3 9.45l-7.72 7.72c-.78.78-.78 2.05 0 2.83L4 21.41c.39.39.9.59 1.41.59.51 0 1.02-.2 1.41-.59l7.78-7.78 2.81-2.81c.8-.78.8-2.07 0-2.86zM5.41 20L4 18.59l7.72-7.72 1.47 1.35L5.41 20z\"/>\n",
       "  </svg>\n",
       "      </button>\n",
       "      \n",
       "  <style>\n",
       "    .colab-df-container {\n",
       "      display:flex;\n",
       "      flex-wrap:wrap;\n",
       "      gap: 12px;\n",
       "    }\n",
       "\n",
       "    .colab-df-convert {\n",
       "      background-color: #E8F0FE;\n",
       "      border: none;\n",
       "      border-radius: 50%;\n",
       "      cursor: pointer;\n",
       "      display: none;\n",
       "      fill: #1967D2;\n",
       "      height: 32px;\n",
       "      padding: 0 0 0 0;\n",
       "      width: 32px;\n",
       "    }\n",
       "\n",
       "    .colab-df-convert:hover {\n",
       "      background-color: #E2EBFA;\n",
       "      box-shadow: 0px 1px 2px rgba(60, 64, 67, 0.3), 0px 1px 3px 1px rgba(60, 64, 67, 0.15);\n",
       "      fill: #174EA6;\n",
       "    }\n",
       "\n",
       "    [theme=dark] .colab-df-convert {\n",
       "      background-color: #3B4455;\n",
       "      fill: #D2E3FC;\n",
       "    }\n",
       "\n",
       "    [theme=dark] .colab-df-convert:hover {\n",
       "      background-color: #434B5C;\n",
       "      box-shadow: 0px 1px 3px 1px rgba(0, 0, 0, 0.15);\n",
       "      filter: drop-shadow(0px 1px 2px rgba(0, 0, 0, 0.3));\n",
       "      fill: #FFFFFF;\n",
       "    }\n",
       "  </style>\n",
       "\n",
       "      <script>\n",
       "        const buttonEl =\n",
       "          document.querySelector('#df-df217520-a8a6-493c-b921-7e98f3d9adce button.colab-df-convert');\n",
       "        buttonEl.style.display =\n",
       "          google.colab.kernel.accessAllowed ? 'block' : 'none';\n",
       "\n",
       "        async function convertToInteractive(key) {\n",
       "          const element = document.querySelector('#df-df217520-a8a6-493c-b921-7e98f3d9adce');\n",
       "          const dataTable =\n",
       "            await google.colab.kernel.invokeFunction('convertToInteractive',\n",
       "                                                     [key], {});\n",
       "          if (!dataTable) return;\n",
       "\n",
       "          const docLinkHtml = 'Like what you see? Visit the ' +\n",
       "            '<a target=\"_blank\" href=https://colab.research.google.com/notebooks/data_table.ipynb>data table notebook</a>'\n",
       "            + ' to learn more about interactive tables.';\n",
       "          element.innerHTML = '';\n",
       "          dataTable['output_type'] = 'display_data';\n",
       "          await google.colab.output.renderOutput(dataTable, element);\n",
       "          const docLink = document.createElement('div');\n",
       "          docLink.innerHTML = docLinkHtml;\n",
       "          element.appendChild(docLink);\n",
       "        }\n",
       "      </script>\n",
       "    </div>\n",
       "  </div>\n",
       "  "
      ],
      "text/plain": [
       "      ID  LIMIT_BAL  AGE PAY_1 PAY_2 PAY_3 PAY_4 PAY_5 PAY_6  BILL_AMT1  ...  \\\n",
       "0  25150     360000   25    -1    -1    -1    -1    -1    -1      20952  ...   \n",
       "1  13470     240000   46     2     2    -2    -1     0    -1        456  ...   \n",
       "2   3092     320000   41     0     0     0     0     0     0      49846  ...   \n",
       "3  13973      50000   24    -1    -1    -2    -2    -2    -2       2675  ...   \n",
       "4  10567      80000   52    -1     0     0     0     0     0      35861  ...   \n",
       "\n",
       "   PAY_AMT3  PAY_AMT4  PAY_AMT5  PAY_AMT6  default_payment_next_month  \\\n",
       "0      3446      8870      2020     27043                           0   \n",
       "1      2240         0      2267      3074                           0   \n",
       "2      2000      3000      3000      1500                           0   \n",
       "3         0         0         0         0                           1   \n",
       "4      1500      1028       876      1449                           0   \n",
       "\n",
       "   total_payment  total_bill  total_payment_ratio  credit_utilization_ratio  \\\n",
       "0          57448       51346             1.118841                     2.66%   \n",
       "1           7581        6644             1.141030                     0.55%   \n",
       "2          16500      248758             0.066330                    13.13%   \n",
       "3              0        2675             0.000000                     1.07%   \n",
       "4           7853      137046             0.057302                    29.42%   \n",
       "\n",
       "   bill_amount_rata_rata  \n",
       "0                 9573.4  \n",
       "1                 1328.8  \n",
       "2                42008.2  \n",
       "3                  535.0  \n",
       "4                23532.2  \n",
       "\n",
       "[5 rows x 27 columns]"
      ]
     },
     "execution_count": 84,
     "metadata": {},
     "output_type": "execute_result"
    }
   ],
   "source": [
    "dftrain.head()"
   ]
  },
  {
   "cell_type": "code",
   "execution_count": null,
   "metadata": {
    "id": "290QVqjzEVA_"
   },
   "outputs": [],
   "source": []
  }
 ],
 "metadata": {
  "colab": {
   "provenance": []
  },
  "kernelspec": {
   "display_name": "Python 3 (ipykernel)",
   "language": "python",
   "name": "python3"
  },
  "language_info": {
   "codemirror_mode": {
    "name": "ipython",
    "version": 3
   },
   "file_extension": ".py",
   "mimetype": "text/x-python",
   "name": "python",
   "nbconvert_exporter": "python",
   "pygments_lexer": "ipython3",
   "version": "3.9.13"
  }
 },
 "nbformat": 4,
 "nbformat_minor": 4
}
